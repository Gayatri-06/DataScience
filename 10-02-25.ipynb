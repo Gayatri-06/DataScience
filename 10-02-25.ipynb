{
 "cells": [
  {
   "cell_type": "code",
   "execution_count": 1,
   "id": "63de6703-1b74-4de2-b56d-454ee090ac55",
   "metadata": {},
   "outputs": [
    {
     "data": {
      "text/plain": [
       "['apple', 'banana']"
      ]
     },
     "execution_count": 1,
     "metadata": {},
     "output_type": "execute_result"
    }
   ],
   "source": [
    "def tec(*a):\n",
    "    l=[]\n",
    "    for i in a:\n",
    "        if type(i)==str:\n",
    "            l.append(i)\n",
    "    return l        \n",
    "tec(10, \"apple\", 25, \"banana\", 30)    "
   ]
  },
  {
   "cell_type": "code",
   "execution_count": 7,
   "id": "906e2b71-6f8e-4dff-923d-444e39b3d40d",
   "metadata": {},
   "outputs": [
    {
     "data": {
      "text/plain": [
       "10000"
      ]
     },
     "execution_count": 7,
     "metadata": {},
     "output_type": "execute_result"
    }
   ],
   "source": [
    "def tec(*a):\n",
    "    s=1\n",
    "    for i in a:\n",
    "        if type(i)==int:\n",
    "            s=s*i\n",
    "    return s        \n",
    "tec(10, \"apple\", 25, \"banana\", 40)  "
   ]
  },
  {
   "cell_type": "code",
   "execution_count": 23,
   "id": "d1d13bf0-0122-4946-ba64-bc3571858c5c",
   "metadata": {},
   "outputs": [
    {
     "data": {
      "text/plain": [
       "[('l', 'apple'), ('s', 'banana')]"
      ]
     },
     "execution_count": 23,
     "metadata": {},
     "output_type": "execute_result"
    }
   ],
   "source": [
    "def tec(**a):\n",
    "    lst= list(a.items())\n",
    "    return lst\n",
    "tec(l=\"apple\",s=\"banana\")  "
   ]
  },
  {
   "cell_type": "code",
   "execution_count": 29,
   "id": "18629d4b-3ad0-4a91-8285-f41e1bd27c8b",
   "metadata": {},
   "outputs": [
    {
     "data": {
      "text/plain": [
       "['henry', 'Alex', 'Damon']"
      ]
     },
     "execution_count": 29,
     "metadata": {},
     "output_type": "execute_result"
    }
   ],
   "source": [
    "def test(**a):\n",
    "    l=[]\n",
    "    for i in a.values():\n",
    "        if type(i)==str:\n",
    "            l.append(i)\n",
    "    return l\n",
    "test(a=\"henry\",b=\"Alex\",c=\"Damon\",d=3,e=6)"
   ]
  },
  {
   "cell_type": "code",
   "execution_count": 33,
   "id": "b2e7efa0-8064-4343-9713-29eba11724b4",
   "metadata": {},
   "outputs": [
    {
     "data": {
      "text/plain": [
       "14"
      ]
     },
     "execution_count": 33,
     "metadata": {},
     "output_type": "execute_result"
    }
   ],
   "source": [
    "n=lambda a,b:a+b\n",
    "n(5,9)"
   ]
  },
  {
   "cell_type": "code",
   "execution_count": 37,
   "id": "6e8c28f1-5617-457f-9c18-459a425bfb39",
   "metadata": {},
   "outputs": [
    {
     "data": {
      "text/plain": [
       "7.333333333333333"
      ]
     },
     "execution_count": 37,
     "metadata": {},
     "output_type": "execute_result"
    }
   ],
   "source": [
    "n=lambda a,b,c:(a+b+c)/3\n",
    "n(5,9,8)"
   ]
  },
  {
   "cell_type": "code",
   "execution_count": 60,
   "id": "de0a55aa-f682-476f-a17c-922423755a99",
   "metadata": {},
   "outputs": [
    {
     "data": {
      "text/plain": [
       "20"
      ]
     },
     "execution_count": 60,
     "metadata": {},
     "output_type": "execute_result"
    }
   ],
   "source": [
    "d=lambda a,b:a*b\n",
    "d(4,5)"
   ]
  },
  {
   "cell_type": "code",
   "execution_count": 62,
   "id": "45e69993-7566-452d-b381-55218daaa333",
   "metadata": {},
   "outputs": [
    {
     "data": {
      "text/plain": [
       "30"
      ]
     },
     "execution_count": 62,
     "metadata": {},
     "output_type": "execute_result"
    }
   ],
   "source": [
    "def pro(a,b):\n",
    "    return a*b\n",
    "pro(5,6)    "
   ]
  },
  {
   "cell_type": "code",
   "execution_count": 68,
   "id": "964fa523-cc44-4924-8890-863a87b39cc1",
   "metadata": {},
   "outputs": [
    {
     "data": {
      "text/plain": [
       "(3, 4, 5, [4, 5, 6], 'Henry', 'Dante')"
      ]
     },
     "execution_count": 68,
     "metadata": {},
     "output_type": "execute_result"
    }
   ],
   "source": [
    "b=lambda *a:a\n",
    "b(3,4,5,[4,5,6],\"Henry\",\"Dante\")"
   ]
  },
  {
   "cell_type": "code",
   "execution_count": 74,
   "id": "d97ab952-a5f7-4bcc-9874-669fc7fbe53b",
   "metadata": {},
   "outputs": [
    {
     "data": {
      "text/plain": [
       "{'x': 3, 'y': 4, 'c': 5, 'd': 'Henry', 'e': 'Dante'}"
      ]
     },
     "execution_count": 74,
     "metadata": {},
     "output_type": "execute_result"
    }
   ],
   "source": [
    "b=lambda **a:a\n",
    "b(x=3,y=4,c=5,d=\"Henry\",e=\"Dante\")"
   ]
  },
  {
   "cell_type": "code",
   "execution_count": 1,
   "id": "9ba39571-7d12-4a27-a96f-e3b9d5d02974",
   "metadata": {},
   "outputs": [],
   "source": [
    "l=[1,2,3,4,5,6]"
   ]
  },
  {
   "cell_type": "code",
   "execution_count": 3,
   "id": "602efc91-af81-48aa-b0ca-a7b000afd57e",
   "metadata": {},
   "outputs": [],
   "source": [
    "def test(l):\n",
    "    for i in l:\n",
    "        print(i)"
   ]
  },
  {
   "cell_type": "code",
   "execution_count": 5,
   "id": "7a995c94-3dda-491c-8573-0d8956436d86",
   "metadata": {},
   "outputs": [
    {
     "name": "stdout",
     "output_type": "stream",
     "text": [
      "1\n",
      "2\n",
      "3\n",
      "4\n",
      "5\n",
      "6\n"
     ]
    }
   ],
   "source": [
    "test(l)"
   ]
  },
  {
   "cell_type": "code",
   "execution_count": 7,
   "id": "0fff07dc-45e1-4809-8001-e66a1416ffe9",
   "metadata": {},
   "outputs": [
    {
     "name": "stdout",
     "output_type": "stream",
     "text": [
      "2\n",
      "4\n",
      "6\n"
     ]
    }
   ],
   "source": [
    "def eve(l):\n",
    "    for i in l:\n",
    "        if i%2==0:\n",
    "            print(i)\n",
    "eve(l)            "
   ]
  },
  {
   "cell_type": "code",
   "execution_count": 17,
   "id": "30e93b55-ca33-430a-b0e3-957dd673397e",
   "metadata": {},
   "outputs": [
    {
     "name": "stdout",
     "output_type": "stream",
     "text": [
      "[2, 4, 6]\n"
     ]
    }
   ],
   "source": [
    "eve=[i for i in l if i%2==0]\n",
    "print(eve)"
   ]
  },
  {
   "cell_type": "code",
   "execution_count": 19,
   "id": "20943fba-5ffa-49db-b476-07314e02d73b",
   "metadata": {},
   "outputs": [
    {
     "data": {
      "text/plain": [
       "[1, 2, 3, 4, 5, 6]"
      ]
     },
     "execution_count": 19,
     "metadata": {},
     "output_type": "execute_result"
    }
   ],
   "source": [
    "tes=[i for i in l]\n",
    "l"
   ]
  },
  {
   "cell_type": "code",
   "execution_count": 27,
   "id": "8ab46505-50ec-407b-a48b-91f73ca8be7d",
   "metadata": {},
   "outputs": [
    {
     "name": "stdout",
     "output_type": "stream",
     "text": [
      "g\n",
      "a\n",
      "y\n",
      "a\n",
      "t\n",
      "r\n",
      "i\n"
     ]
    }
   ],
   "source": [
    "def string(a):\n",
    "    for i in a:\n",
    "        print(i)\n",
    "string(\"gayatri\")        "
   ]
  },
  {
   "cell_type": "code",
   "execution_count": 21,
   "id": "1ecfa18c-bd6f-4622-a788-aefe06ffabe6",
   "metadata": {},
   "outputs": [
    {
     "data": {
      "text/plain": [
       "['g', 'a', 'y', 'a', 't', 'r', 'i']"
      ]
     },
     "execution_count": 21,
     "metadata": {},
     "output_type": "execute_result"
    }
   ],
   "source": [
    "a=\"gayatri\"\n",
    "l=[i for i in a]\n",
    "l"
   ]
  },
  {
   "cell_type": "code",
   "execution_count": 31,
   "id": "68337bea-313a-4549-9966-1e144394f913",
   "metadata": {},
   "outputs": [
    {
     "data": {
      "text/plain": [
       "[3, 4, 4, 5, 5, 6, 67, 7, 7]"
      ]
     },
     "execution_count": 31,
     "metadata": {},
     "output_type": "execute_result"
    }
   ],
   "source": [
    "t=(3,4,4,5,5,6,67,7,7)\n",
    "def test(t):\n",
    "    l=[]\n",
    "    for i in t:\n",
    "        l.append(i)\n",
    "    return l\n",
    "test(t)    "
   ]
  },
  {
   "cell_type": "code",
   "execution_count": 37,
   "id": "fd647b81-6411-4a67-af3d-01460269e4ca",
   "metadata": {},
   "outputs": [
    {
     "name": "stdout",
     "output_type": "stream",
     "text": [
      "[1, 2, 3]\n"
     ]
    }
   ],
   "source": [
    "t= (1, 2, 3)\n",
    "l = list(t)\n",
    "print(l)"
   ]
  },
  {
   "cell_type": "code",
   "execution_count": 53,
   "id": "18cd6b78-375d-4c46-86f8-26cae88fc674",
   "metadata": {},
   "outputs": [
    {
     "data": {
      "text/plain": [
       "[None, None, None, None, None, None, None, None, None]"
      ]
     },
     "execution_count": 53,
     "metadata": {},
     "output_type": "execute_result"
    }
   ],
   "source": [
    "t=(3,4,4,5,5,6,67,7,7)\n",
    "s=[l.append(i) for i in t]\n",
    "s"
   ]
  },
  {
   "cell_type": "code",
   "execution_count": 3,
   "id": "71398ddd-11d3-4266-a03d-fda160c8e333",
   "metadata": {},
   "outputs": [
    {
     "data": {
      "text/plain": [
       "[1, 4, 9, 16, 25, 36]"
      ]
     },
     "execution_count": 3,
     "metadata": {},
     "output_type": "execute_result"
    }
   ],
   "source": [
    "l=[1,2,3,4,5,6]\n",
    "a=[i**2 for i in l]\n",
    "a"
   ]
  },
  {
   "cell_type": "code",
   "execution_count": 7,
   "id": "aaa36853-e554-4fcd-9f44-0ce94b497b83",
   "metadata": {},
   "outputs": [
    {
     "data": {
      "text/plain": [
       "[2, 4, 6, 8, 10, 12, 14, 16, 18]"
      ]
     },
     "execution_count": 7,
     "metadata": {},
     "output_type": "execute_result"
    }
   ],
   "source": [
    "a=[i for i in range(1,20) if i%2==0]\n",
    "a"
   ]
  },
  {
   "cell_type": "code",
   "execution_count": 9,
   "id": "9f4614c5-6da5-4353-bbf7-ae5591768fd0",
   "metadata": {},
   "outputs": [
    {
     "data": {
      "text/plain": [
       "['a', 'b', 'c', 'd']"
      ]
     },
     "execution_count": 9,
     "metadata": {},
     "output_type": "execute_result"
    }
   ],
   "source": [
    "b=[\"apple\",\"banana\",\"cherry\",\"date\"]\n",
    "c=[i[0] for i in b]\n",
    "c"
   ]
  },
  {
   "cell_type": "code",
   "execution_count": 11,
   "id": "3ee06c81-9987-4d84-923d-1e8523bc2053",
   "metadata": {},
   "outputs": [
    {
     "data": {
      "text/plain": [
       "[32.0, 50.0, 68.0, 86.0, 104.0]"
      ]
     },
     "execution_count": 11,
     "metadata": {},
     "output_type": "execute_result"
    }
   ],
   "source": [
    "c=[0,10,20,30,40]\n",
    "temp=[(i*9/5)+32 for i in c]\n",
    "temp"
   ]
  },
  {
   "cell_type": "code",
   "execution_count": 17,
   "id": "a5a5dd32-1ce0-4aa4-9137-6ec9030bf841",
   "metadata": {},
   "outputs": [
    {
     "data": {
      "text/plain": [
       "[1, 2, 3, 4, 5, 6, 7, 8, 9, 10]"
      ]
     },
     "execution_count": 17,
     "metadata": {},
     "output_type": "execute_result"
    }
   ],
   "source": [
    "c=[i for i in range(1,11)]\n",
    "c"
   ]
  },
  {
   "cell_type": "code",
   "execution_count": 23,
   "id": "685d5048-ce2a-444f-b073-b25f1480bcdf",
   "metadata": {},
   "outputs": [
    {
     "data": {
      "text/plain": [
       "[1, 8, 27, 64, 125, 216, 343, 512, 729, 1000]"
      ]
     },
     "execution_count": 23,
     "metadata": {},
     "output_type": "execute_result"
    }
   ],
   "source": [
    "c=[i**3 for i in range(1,11)]\n",
    "c"
   ]
  },
  {
   "cell_type": "code",
   "execution_count": 29,
   "id": "0bb0cdb0-bce8-4270-b676-e5529395e45b",
   "metadata": {},
   "outputs": [
    {
     "name": "stdout",
     "output_type": "stream",
     "text": [
      "['Python', 'is', 'fun']\n"
     ]
    }
   ],
   "source": [
    "e = \"Python is fun\"\n",
    "s = [d for d in e.split()]\n",
    "print(s)"
   ]
  },
  {
   "cell_type": "code",
   "execution_count": 35,
   "id": "b8962360-d041-4bc2-a77e-e6d887d7ecf3",
   "metadata": {},
   "outputs": [
    {
     "data": {
      "text/plain": [
       "['HELLO', 'WORLD', 'PYTHON']"
      ]
     },
     "execution_count": 35,
     "metadata": {},
     "output_type": "execute_result"
    }
   ],
   "source": [
    "s=[\"Hello\",\"World\",\"Python\"]\n",
    "e=[d.upper() for d in s]\n",
    "e"
   ]
  },
  {
   "cell_type": "code",
   "execution_count": 39,
   "id": "1a1c9055-2d5a-4ff3-a067-2822f20318ad",
   "metadata": {},
   "outputs": [
    {
     "data": {
      "text/plain": [
       "[15, 30, 45]"
      ]
     },
     "execution_count": 39,
     "metadata": {},
     "output_type": "execute_result"
    }
   ],
   "source": [
    "s=[i for i in range(1,50) if i%3==0 and i%5==0]\n",
    "s"
   ]
  },
  {
   "cell_type": "code",
   "execution_count": 41,
   "id": "0c815eb6-08b7-4af7-bfd7-37c2891abf5d",
   "metadata": {},
   "outputs": [
    {
     "data": {
      "text/plain": [
       "[1, 3, 5, 7, 9]"
      ]
     },
     "execution_count": 41,
     "metadata": {},
     "output_type": "execute_result"
    }
   ],
   "source": [
    "s=[1, 2, 3, 4, 5, 6, 7, 8, 9, 10]\n",
    "a=[]\n",
    "b=[a.append(i) for i in s if i%2!=0]\n",
    "a"
   ]
  },
  {
   "cell_type": "code",
   "execution_count": 45,
   "id": "d6d3e885-3ac2-4b30-8ea1-ac09e8590791",
   "metadata": {},
   "outputs": [
    {
     "data": {
      "text/plain": [
       "['e', 'o', 'i']"
      ]
     },
     "execution_count": 45,
     "metadata": {},
     "output_type": "execute_result"
    }
   ],
   "source": [
    "a=\"hello string\"\n",
    "v=[i for i in a if i in 'aeiou']\n",
    "v"
   ]
  },
  {
   "cell_type": "code",
   "execution_count": 47,
   "id": "5f3570e0-4650-406f-93b8-088dbbfbf75f",
   "metadata": {},
   "outputs": [
    {
     "data": {
      "text/plain": [
       "['hello', 'world', 'python', 'list']"
      ]
     },
     "execution_count": 47,
     "metadata": {},
     "output_type": "execute_result"
    }
   ],
   "source": [
    "s=[\"Hello\", \"WORLD\", \"Python\", \"LiSt\"]\n",
    "l=[p.lower() for p in s]\n",
    "l"
   ]
  },
  {
   "cell_type": "code",
   "execution_count": 49,
   "id": "5c1c0230-1f34-417f-9d5d-33c59b64ddef",
   "metadata": {},
   "outputs": [
    {
     "data": {
      "text/plain": [
       "[2,\n",
       " 4,\n",
       " 6,\n",
       " 8,\n",
       " 10,\n",
       " 12,\n",
       " 14,\n",
       " 16,\n",
       " 18,\n",
       " 20,\n",
       " 22,\n",
       " 24,\n",
       " 26,\n",
       " 28,\n",
       " 30,\n",
       " 32,\n",
       " 34,\n",
       " 36,\n",
       " 38,\n",
       " 40,\n",
       " 42,\n",
       " 44,\n",
       " 46,\n",
       " 48]"
      ]
     },
     "execution_count": 49,
     "metadata": {},
     "output_type": "execute_result"
    }
   ],
   "source": [
    "a=[]\n",
    "s=[a.append(i) for i in range(1,50) if i%2==0]\n",
    "a"
   ]
  },
  {
   "cell_type": "code",
   "execution_count": 51,
   "id": "2fb15e9f-4024-41f8-9eda-b2b2e7c88bdd",
   "metadata": {},
   "outputs": [
    {
     "data": {
      "text/plain": [
       "[1, 2, 4, 5, 7, 8, 10, 11, 13, 14, 16, 17, 19]"
      ]
     },
     "execution_count": 51,
     "metadata": {},
     "output_type": "execute_result"
    }
   ],
   "source": [
    "a=[i for i in range(1,20) if i%3!=0]\n",
    "a"
   ]
  },
  {
   "cell_type": "code",
   "execution_count": 55,
   "id": "ee9edb70-62cd-4252-b025-837ac18fdd61",
   "metadata": {},
   "outputs": [
    {
     "data": {
      "text/plain": [
       "[12, 17, 21, 30]"
      ]
     },
     "execution_count": 55,
     "metadata": {},
     "output_type": "execute_result"
    }
   ],
   "source": [
    "l=[5, 12, 17, 9, 3, 21, 30]\n",
    "s=[i for i in l if i>10]\n",
    "s"
   ]
  },
  {
   "cell_type": "code",
   "execution_count": 57,
   "id": "ee9d00e2-168e-4169-a0c1-67978e8b00b4",
   "metadata": {},
   "outputs": [
    {
     "data": {
      "text/plain": [
       "[4, 16, 36, 64]"
      ]
     },
     "execution_count": 57,
     "metadata": {},
     "output_type": "execute_result"
    }
   ],
   "source": [
    "l=[i**2 for i in range(1,10) if i%2==0]\n",
    "l"
   ]
  },
  {
   "cell_type": "code",
   "execution_count": 59,
   "id": "6a46dc60-cb88-48b3-af27-98edc56be45a",
   "metadata": {},
   "outputs": [
    {
     "data": {
      "text/plain": [
       "['elephant', 'rabbit']"
      ]
     },
     "execution_count": 59,
     "metadata": {},
     "output_type": "execute_result"
    }
   ],
   "source": [
    "s=[\"dog\", \"elephant\", \"cat\", \"rabbit\"]\n",
    "a=[i for i in s if len(i)>3]\n",
    "a"
   ]
  },
  {
   "cell_type": "code",
   "execution_count": 9,
   "id": "871d04d0-75e6-4df1-b4bb-428a7cd46061",
   "metadata": {},
   "outputs": [
    {
     "name": "stdout",
     "output_type": "stream",
     "text": [
      "0\n",
      "2\n",
      "4\n",
      "6\n",
      "8\n"
     ]
    }
   ],
   "source": [
    "def tes():\n",
    "    for i in range(10):\n",
    "        if i%2==0:\n",
    "            print(i)  \n",
    "tes()            "
   ]
  },
  {
   "cell_type": "code",
   "execution_count": 11,
   "id": "4304ad72-3405-4a8c-9288-be255874a240",
   "metadata": {},
   "outputs": [
    {
     "data": {
      "text/plain": [
       "[0, 2, 4, 6, 8]"
      ]
     },
     "execution_count": 11,
     "metadata": {},
     "output_type": "execute_result"
    }
   ],
   "source": [
    "l=[i for i in range(10) if i%2==0]\n",
    "l"
   ]
  },
  {
   "cell_type": "code",
   "execution_count": 15,
   "id": "a991c489-6532-4dba-933d-c30c7cf44207",
   "metadata": {},
   "outputs": [
    {
     "name": "stdout",
     "output_type": "stream",
     "text": [
      "0\n",
      "1\n",
      "4\n",
      "9\n",
      "16\n",
      "25\n",
      "36\n",
      "49\n",
      "64\n",
      "81\n"
     ]
    }
   ],
   "source": [
    "def tes():\n",
    "    for i in range(10):\n",
    "        print(i**2)\n",
    "tes()"
   ]
  },
  {
   "cell_type": "code",
   "execution_count": 17,
   "id": "48579b56-e2a7-495c-b946-09f2f88f6207",
   "metadata": {},
   "outputs": [
    {
     "data": {
      "text/plain": [
       "[0, 1, 4, 9, 16, 25, 36, 49, 64, 81]"
      ]
     },
     "execution_count": 17,
     "metadata": {},
     "output_type": "execute_result"
    }
   ],
   "source": [
    "l=[i*i for i in range(10)]\n",
    "l"
   ]
  },
  {
   "cell_type": "code",
   "execution_count": 21,
   "id": "8a553fe8-9e83-401a-87bf-e7a3a5af7ff3",
   "metadata": {},
   "outputs": [
    {
     "data": {
      "text/plain": [
       "[0, 4, 8, 12, 16]"
      ]
     },
     "execution_count": 21,
     "metadata": {},
     "output_type": "execute_result"
    }
   ],
   "source": [
    "l=[i*2 for i in range(10) if i%2==0]\n",
    "l"
   ]
  },
  {
   "cell_type": "code",
   "execution_count": 25,
   "id": "b8d6bd6c-0223-44da-9470-2bcd10f55fce",
   "metadata": {},
   "outputs": [
    {
     "data": {
      "text/plain": [
       "[0, 1, 4, 9, 16, 25, 36, 49, 64, 81]"
      ]
     },
     "execution_count": 25,
     "metadata": {},
     "output_type": "execute_result"
    }
   ],
   "source": [
    "def tes():\n",
    "    l=[]\n",
    "    for i in range(10):\n",
    "        l.append(i*i)\n",
    "    return l\n",
    "tes()"
   ]
  },
  {
   "cell_type": "code",
   "execution_count": 27,
   "id": "da099d43-0b29-4b2f-bc96-863e2b721593",
   "metadata": {},
   "outputs": [
    {
     "data": {
      "text/plain": [
       "[1, 2, 3, 4]"
      ]
     },
     "execution_count": 27,
     "metadata": {},
     "output_type": "execute_result"
    }
   ],
   "source": [
    "x=(1,2,3,4)\n",
    "[i for i in x]"
   ]
  },
  {
   "cell_type": "code",
   "execution_count": 29,
   "id": "38971930-9a45-4f07-9da6-c3dc8bea89d2",
   "metadata": {},
   "outputs": [
    {
     "data": {
      "text/plain": [
       "[16, 4, 25, 36, 81, 64, 49, 25, 36, 9]"
      ]
     },
     "execution_count": 29,
     "metadata": {},
     "output_type": "execute_result"
    }
   ],
   "source": [
    "l=lambda *x:[i**2 for i in x]\n",
    "l(4,2,5,6,9,8,7,5,6,3)"
   ]
  },
  {
   "cell_type": "code",
   "execution_count": 1,
   "id": "95d03fa4-0ac6-447d-8714-77df51a176ac",
   "metadata": {},
   "outputs": [
    {
     "data": {
      "text/plain": [
       "[1, 3, 5, 7, 9]"
      ]
     },
     "execution_count": 1,
     "metadata": {},
     "output_type": "execute_result"
    }
   ],
   "source": [
    "n=lambda *a:[i for i in a if i%2!=0]\n",
    "n(1,2,3,4,5,6,7,8,9)"
   ]
  }
 ],
 "metadata": {
  "kernelspec": {
   "display_name": "Python [conda env:base] *",
   "language": "python",
   "name": "conda-base-py"
  },
  "language_info": {
   "codemirror_mode": {
    "name": "ipython",
    "version": 3
   },
   "file_extension": ".py",
   "mimetype": "text/x-python",
   "name": "python",
   "nbconvert_exporter": "python",
   "pygments_lexer": "ipython3",
   "version": "3.12.7"
  }
 },
 "nbformat": 4,
 "nbformat_minor": 5
}
