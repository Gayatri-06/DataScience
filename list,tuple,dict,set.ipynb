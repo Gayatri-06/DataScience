{
 "cells": [
  {
   "cell_type": "code",
   "execution_count": 1,
   "id": "d91b5ab7-e570-4ec1-8cf4-aa01f4972e34",
   "metadata": {},
   "outputs": [],
   "source": [
    "l=[1,2,3,4,5,\"aimnxt\",45.67,True]"
   ]
  },
  {
   "cell_type": "code",
   "execution_count": 3,
   "id": "57010035-fa19-427c-8d0a-4c7768bf6a0d",
   "metadata": {},
   "outputs": [
    {
     "data": {
      "text/plain": [
       "list"
      ]
     },
     "execution_count": 3,
     "metadata": {},
     "output_type": "execute_result"
    }
   ],
   "source": [
    "type(l)"
   ]
  },
  {
   "cell_type": "code",
   "execution_count": 4,
   "id": "3ad59189-a0f5-473c-9d8a-71c11e50cd51",
   "metadata": {},
   "outputs": [
    {
     "data": {
      "text/plain": [
       "1"
      ]
     },
     "execution_count": 4,
     "metadata": {},
     "output_type": "execute_result"
    }
   ],
   "source": [
    "l[0]"
   ]
  },
  {
   "cell_type": "code",
   "execution_count": 7,
   "id": "30e8ea40-d105-4ed2-a1eb-bc575b590dc0",
   "metadata": {},
   "outputs": [
    {
     "data": {
      "text/plain": [
       "True"
      ]
     },
     "execution_count": 7,
     "metadata": {},
     "output_type": "execute_result"
    }
   ],
   "source": [
    "l[-1]"
   ]
  },
  {
   "cell_type": "code",
   "execution_count": 9,
   "id": "0b3a96da-0933-432a-933e-2b1c4ccedbe5",
   "metadata": {},
   "outputs": [
    {
     "data": {
      "text/plain": [
       "8"
      ]
     },
     "execution_count": 9,
     "metadata": {},
     "output_type": "execute_result"
    }
   ],
   "source": [
    "len(l)"
   ]
  },
  {
   "cell_type": "code",
   "execution_count": 11,
   "id": "7d09e6cf-bccf-45f5-abe4-a3a2e23ac75d",
   "metadata": {},
   "outputs": [
    {
     "data": {
      "text/plain": [
       "[1, 2, 3, 4, 5]"
      ]
     },
     "execution_count": 11,
     "metadata": {},
     "output_type": "execute_result"
    }
   ],
   "source": [
    "l[0:5]"
   ]
  },
  {
   "cell_type": "code",
   "execution_count": 13,
   "id": "6194b587-d0c2-4118-a651-7fa0eb6907f3",
   "metadata": {},
   "outputs": [
    {
     "data": {
      "text/plain": [
       "[True, 45.67, 'aimnxt', 5, 4, 3, 2, 1]"
      ]
     },
     "execution_count": 13,
     "metadata": {},
     "output_type": "execute_result"
    }
   ],
   "source": [
    "l[::-1]"
   ]
  },
  {
   "cell_type": "code",
   "execution_count": 15,
   "id": "82671c28-91aa-4cba-b115-60cfc8b0af0c",
   "metadata": {},
   "outputs": [
    {
     "data": {
      "text/plain": [
       "[1, 3, 5, 45.67]"
      ]
     },
     "execution_count": 15,
     "metadata": {},
     "output_type": "execute_result"
    }
   ],
   "source": [
    "l[0:100:2]"
   ]
  },
  {
   "cell_type": "code",
   "execution_count": 17,
   "id": "9cabdd73-a90d-4953-8763-4b6fef32edc5",
   "metadata": {},
   "outputs": [
    {
     "data": {
      "text/plain": [
       "[1, 2, 3, 4, 5, 'aimnxt', 45.67, True]"
      ]
     },
     "execution_count": 17,
     "metadata": {},
     "output_type": "execute_result"
    }
   ],
   "source": [
    "l"
   ]
  },
  {
   "cell_type": "code",
   "execution_count": 19,
   "id": "0a86627b-cb51-4789-82c0-2688ec9fbd69",
   "metadata": {},
   "outputs": [
    {
     "data": {
      "text/plain": [
       "[]"
      ]
     },
     "execution_count": 19,
     "metadata": {},
     "output_type": "execute_result"
    }
   ],
   "source": [
    "l[0:8:-1]"
   ]
  },
  {
   "cell_type": "code",
   "execution_count": 23,
   "id": "06cf666f-eaef-48f2-a510-42fffe666bac",
   "metadata": {},
   "outputs": [
    {
     "data": {
      "text/plain": [
       "[1, 2, 3]"
      ]
     },
     "execution_count": 23,
     "metadata": {},
     "output_type": "execute_result"
    }
   ],
   "source": [
    "l[:3]"
   ]
  },
  {
   "cell_type": "code",
   "execution_count": 25,
   "id": "fce750a5-394f-4730-aa57-4c9ef999a6f9",
   "metadata": {},
   "outputs": [
    {
     "data": {
      "text/plain": [
       "[1, 2, 3, 4, 5, 'aimnxt', 45.67, True, 'aimnxt']"
      ]
     },
     "execution_count": 25,
     "metadata": {},
     "output_type": "execute_result"
    }
   ],
   "source": [
    "l+[\"aimnxt\"]"
   ]
  },
  {
   "cell_type": "code",
   "execution_count": 27,
   "id": "3c8af350-7eed-48c1-8e29-434197a3b028",
   "metadata": {},
   "outputs": [
    {
     "data": {
      "text/plain": [
       "[1, 2, 3, 4, 5, 'aimnxt', 45.67, True, 1, 2, 3, 4, 5, 'aimnxt', 45.67, True]"
      ]
     },
     "execution_count": 27,
     "metadata": {},
     "output_type": "execute_result"
    }
   ],
   "source": [
    "l*2"
   ]
  },
  {
   "cell_type": "code",
   "execution_count": 29,
   "id": "671ff547-2e43-4e78-8a5d-b0efc314faa6",
   "metadata": {},
   "outputs": [
    {
     "data": {
      "text/plain": [
       "[1, 2, 3, 4, 5, 'aimnxt', 45.67, True]"
      ]
     },
     "execution_count": 29,
     "metadata": {},
     "output_type": "execute_result"
    }
   ],
   "source": [
    "l"
   ]
  },
  {
   "cell_type": "code",
   "execution_count": 32,
   "id": "8bb1ae2e-8bd4-4028-bfc2-cd9698b9c37e",
   "metadata": {},
   "outputs": [
    {
     "data": {
      "text/plain": [
       "False"
      ]
     },
     "execution_count": 32,
     "metadata": {},
     "output_type": "execute_result"
    }
   ],
   "source": [
    "60 in l"
   ]
  },
  {
   "cell_type": "code",
   "execution_count": 34,
   "id": "c00c6078-3c6f-4823-a87b-0593334818f9",
   "metadata": {},
   "outputs": [
    {
     "data": {
      "text/plain": [
       "True"
      ]
     },
     "execution_count": 34,
     "metadata": {},
     "output_type": "execute_result"
    }
   ],
   "source": [
    "2 in l"
   ]
  },
  {
   "cell_type": "code",
   "execution_count": 36,
   "id": "c23fc9dd-8aab-4fa4-8363-ad5ce24c4de4",
   "metadata": {},
   "outputs": [
    {
     "ename": "TypeError",
     "evalue": "'>' not supported between instances of 'str' and 'int'",
     "output_type": "error",
     "traceback": [
      "\u001b[1;31m---------------------------------------------------------------------------\u001b[0m",
      "\u001b[1;31mTypeError\u001b[0m                                 Traceback (most recent call last)",
      "Cell \u001b[1;32mIn[36], line 1\u001b[0m\n\u001b[1;32m----> 1\u001b[0m \u001b[38;5;28mmax\u001b[39m(l)\n",
      "\u001b[1;31mTypeError\u001b[0m: '>' not supported between instances of 'str' and 'int'"
     ]
    }
   ],
   "source": [
    "max(l)"
   ]
  },
  {
   "cell_type": "code",
   "execution_count": 41,
   "id": "695b80bf-95f9-400f-8402-4fe2d98833e9",
   "metadata": {},
   "outputs": [],
   "source": [
    "l1=[3,4,5,6,6,4,6,7,4]"
   ]
  },
  {
   "cell_type": "code",
   "execution_count": 43,
   "id": "c16d9ecc-5c71-4dde-a6fb-9e40d516b36b",
   "metadata": {},
   "outputs": [
    {
     "data": {
      "text/plain": [
       "7"
      ]
     },
     "execution_count": 43,
     "metadata": {},
     "output_type": "execute_result"
    }
   ],
   "source": [
    "max(l1)"
   ]
  },
  {
   "cell_type": "code",
   "execution_count": 49,
   "id": "9b1c5f5f-6db5-4bb4-84e3-81b6146ad4ec",
   "metadata": {},
   "outputs": [],
   "source": [
    "l2=[\"aimnxt\",\"datascience\",\"technologies\",\"python programming\"]"
   ]
  },
  {
   "cell_type": "code",
   "execution_count": 51,
   "id": "b0417ae7-e9ef-454c-84de-1d6f00126ef6",
   "metadata": {},
   "outputs": [
    {
     "data": {
      "text/plain": [
       "'technologies'"
      ]
     },
     "execution_count": 51,
     "metadata": {},
     "output_type": "execute_result"
    }
   ],
   "source": [
    "max(l2)"
   ]
  },
  {
   "cell_type": "code",
   "execution_count": 53,
   "id": "1dbe432c-db9d-408b-bf47-426edabe67aa",
   "metadata": {},
   "outputs": [
    {
     "data": {
      "text/plain": [
       "'aimnxt'"
      ]
     },
     "execution_count": 53,
     "metadata": {},
     "output_type": "execute_result"
    }
   ],
   "source": [
    "min(l2)"
   ]
  },
  {
   "cell_type": "code",
   "execution_count": 55,
   "id": "56bdd644-fd56-4251-a7e9-c560c8d0530f",
   "metadata": {},
   "outputs": [
    {
     "data": {
      "text/plain": [
       "[1, 2, 3, 4, 5, 'aimnxt', 45.67, True]"
      ]
     },
     "execution_count": 55,
     "metadata": {},
     "output_type": "execute_result"
    }
   ],
   "source": [
    "l"
   ]
  },
  {
   "cell_type": "code",
   "execution_count": 57,
   "id": "7a1747d6-9735-4c9a-ace7-24270e0eb90b",
   "metadata": {},
   "outputs": [],
   "source": [
    "l.append(\"Henry\")"
   ]
  },
  {
   "cell_type": "code",
   "execution_count": 59,
   "id": "be16a541-b08c-4d5d-a884-5cdb5b31fce3",
   "metadata": {},
   "outputs": [
    {
     "data": {
      "text/plain": [
       "[1, 2, 3, 4, 5, 'aimnxt', 45.67, True, 'Henry']"
      ]
     },
     "execution_count": 59,
     "metadata": {},
     "output_type": "execute_result"
    }
   ],
   "source": [
    "l"
   ]
  },
  {
   "cell_type": "code",
   "execution_count": 61,
   "id": "4f03cb34-1d4d-4c95-9ba0-93ec251c6067",
   "metadata": {},
   "outputs": [],
   "source": [
    "l.append([1,2,3,4])"
   ]
  },
  {
   "cell_type": "code",
   "execution_count": 64,
   "id": "04c1e635-03be-44b2-aa83-efd7d44405eb",
   "metadata": {},
   "outputs": [
    {
     "data": {
      "text/plain": [
       "[1, 2, 3, 4, 5, 'aimnxt', 45.67, True, 'Henry', [1, 2, 3, 4]]"
      ]
     },
     "execution_count": 64,
     "metadata": {},
     "output_type": "execute_result"
    }
   ],
   "source": [
    "l"
   ]
  },
  {
   "cell_type": "code",
   "execution_count": 66,
   "id": "c9ee05ec-fffe-41af-9aca-11e2ab0625a7",
   "metadata": {},
   "outputs": [
    {
     "data": {
      "text/plain": [
       "1"
      ]
     },
     "execution_count": 66,
     "metadata": {},
     "output_type": "execute_result"
    }
   ],
   "source": [
    "l.pop(0)"
   ]
  },
  {
   "cell_type": "code",
   "execution_count": 68,
   "id": "25eac906-04e1-4ac9-81a1-5d268ba68844",
   "metadata": {},
   "outputs": [
    {
     "data": {
      "text/plain": [
       "[2, 3, 4, 5, 'aimnxt', 45.67, True, 'Henry', [1, 2, 3, 4]]"
      ]
     },
     "execution_count": 68,
     "metadata": {},
     "output_type": "execute_result"
    }
   ],
   "source": [
    "l"
   ]
  },
  {
   "cell_type": "code",
   "execution_count": 70,
   "id": "fd619e8d-6ec3-46f0-a8c1-e215d63f7a7c",
   "metadata": {},
   "outputs": [],
   "source": [
    "l.reverse()"
   ]
  },
  {
   "cell_type": "code",
   "execution_count": 72,
   "id": "df782e6a-260b-4b14-87f3-df57af71a7e3",
   "metadata": {},
   "outputs": [
    {
     "data": {
      "text/plain": [
       "[[1, 2, 3, 4], 'Henry', True, 45.67, 'aimnxt', 5, 4, 3, 2]"
      ]
     },
     "execution_count": 72,
     "metadata": {},
     "output_type": "execute_result"
    }
   ],
   "source": [
    "l"
   ]
  },
  {
   "cell_type": "code",
   "execution_count": 74,
   "id": "52cd29fa-82aa-4f3d-8ae2-252d4c46ff38",
   "metadata": {},
   "outputs": [
    {
     "data": {
      "text/plain": [
       "[2, 3, 4, 5, 'aimnxt', 45.67, True, 'Henry', [1, 2, 3, 4]]"
      ]
     },
     "execution_count": 74,
     "metadata": {},
     "output_type": "execute_result"
    }
   ],
   "source": [
    "l[::-1]"
   ]
  },
  {
   "cell_type": "code",
   "execution_count": 76,
   "id": "74ebebdd-fdb8-47bb-8cfc-45f85e665bd9",
   "metadata": {},
   "outputs": [
    {
     "ename": "TypeError",
     "evalue": "'<' not supported between instances of 'str' and 'list'",
     "output_type": "error",
     "traceback": [
      "\u001b[1;31m---------------------------------------------------------------------------\u001b[0m",
      "\u001b[1;31mTypeError\u001b[0m                                 Traceback (most recent call last)",
      "Cell \u001b[1;32mIn[76], line 1\u001b[0m\n\u001b[1;32m----> 1\u001b[0m l\u001b[38;5;241m.\u001b[39msort()\n",
      "\u001b[1;31mTypeError\u001b[0m: '<' not supported between instances of 'str' and 'list'"
     ]
    }
   ],
   "source": [
    "l.sort()"
   ]
  },
  {
   "cell_type": "code",
   "execution_count": 84,
   "id": "b7ee0365-2963-4243-9ac2-9f1b820c5184",
   "metadata": {},
   "outputs": [
    {
     "data": {
      "text/plain": [
       "[3, 4, 4, 4, 5, 6, 6, 6, 7]"
      ]
     },
     "execution_count": 84,
     "metadata": {},
     "output_type": "execute_result"
    }
   ],
   "source": [
    "l1"
   ]
  },
  {
   "cell_type": "code",
   "execution_count": 92,
   "id": "749ce087-83ab-4196-bc93-5fb99459355a",
   "metadata": {},
   "outputs": [],
   "source": [
    "l1.sort(reverse=True)"
   ]
  },
  {
   "cell_type": "code",
   "execution_count": 98,
   "id": "ebf8259e-6737-438d-9959-504bfd37f26d",
   "metadata": {},
   "outputs": [],
   "source": [
    "l1=[2,3,4]\n",
    "l2=[6,7,8]\n",
    "l3=[3,2,4]\n",
    "l4=[l1,l2,l3]"
   ]
  },
  {
   "cell_type": "code",
   "execution_count": 100,
   "id": "070e558a-5c07-44e6-b9f0-dedca39d0b88",
   "metadata": {},
   "outputs": [
    {
     "data": {
      "text/plain": [
       "[[2, 3, 4], [6, 7, 8], [3, 2, 4]]"
      ]
     },
     "execution_count": 100,
     "metadata": {},
     "output_type": "execute_result"
    }
   ],
   "source": [
    "l4"
   ]
  },
  {
   "cell_type": "code",
   "execution_count": 102,
   "id": "335e8b4b-ca0c-416b-b8b0-4b354762476e",
   "metadata": {},
   "outputs": [
    {
     "data": {
      "text/plain": [
       "[2, 3, 4]"
      ]
     },
     "execution_count": 102,
     "metadata": {},
     "output_type": "execute_result"
    }
   ],
   "source": [
    "l4[0]"
   ]
  },
  {
   "cell_type": "code",
   "execution_count": 104,
   "id": "dd38516a-e967-4b32-bd3f-8f0979ad25db",
   "metadata": {},
   "outputs": [
    {
     "data": {
      "text/plain": [
       "[3, 2, 4]"
      ]
     },
     "execution_count": 104,
     "metadata": {},
     "output_type": "execute_result"
    }
   ],
   "source": [
    "l4[2]"
   ]
  },
  {
   "cell_type": "code",
   "execution_count": 106,
   "id": "1c641ea9-bfe1-4543-ae27-bc1b2737ab1f",
   "metadata": {},
   "outputs": [
    {
     "data": {
      "text/plain": [
       "2"
      ]
     },
     "execution_count": 106,
     "metadata": {},
     "output_type": "execute_result"
    }
   ],
   "source": [
    "l4[2][1]"
   ]
  },
  {
   "cell_type": "code",
   "execution_count": 108,
   "id": "e097271b-33bd-4c2c-8c1c-96a062448e40",
   "metadata": {},
   "outputs": [
    {
     "data": {
      "text/plain": [
       "[[1, 2, 3, 4], 'Henry', True, 45.67, 'aimnxt', 5, 4, 3, 2]"
      ]
     },
     "execution_count": 108,
     "metadata": {},
     "output_type": "execute_result"
    }
   ],
   "source": [
    "l"
   ]
  },
  {
   "cell_type": "code",
   "execution_count": 110,
   "id": "637d1cae-cdda-4191-af06-ba2259f9b3d8",
   "metadata": {},
   "outputs": [
    {
     "data": {
      "text/plain": [
       "1"
      ]
     },
     "execution_count": 110,
     "metadata": {},
     "output_type": "execute_result"
    }
   ],
   "source": [
    "l.count(2)"
   ]
  },
  {
   "cell_type": "code",
   "execution_count": 112,
   "id": "f182bd6a-209f-4062-82bd-fae0152cdb55",
   "metadata": {},
   "outputs": [
    {
     "data": {
      "text/plain": [
       "1"
      ]
     },
     "execution_count": 112,
     "metadata": {},
     "output_type": "execute_result"
    }
   ],
   "source": [
    "l.count(\"aimnxt\")"
   ]
  },
  {
   "cell_type": "code",
   "execution_count": 114,
   "id": "ff0eefe9-111a-493d-867b-db4703d8dea8",
   "metadata": {},
   "outputs": [],
   "source": [
    "l5=[3,4,5,3,3,3]"
   ]
  },
  {
   "cell_type": "code",
   "execution_count": 116,
   "id": "af8a8b3c-572a-4d8a-a3ec-f7fdd8e12d24",
   "metadata": {},
   "outputs": [
    {
     "data": {
      "text/plain": [
       "4"
      ]
     },
     "execution_count": 116,
     "metadata": {},
     "output_type": "execute_result"
    }
   ],
   "source": [
    "l5.count(3)"
   ]
  },
  {
   "cell_type": "code",
   "execution_count": 118,
   "id": "de7de22a-80a7-4a9c-886d-1f3d03a252a7",
   "metadata": {},
   "outputs": [
    {
     "data": {
      "text/plain": [
       "0"
      ]
     },
     "execution_count": 118,
     "metadata": {},
     "output_type": "execute_result"
    }
   ],
   "source": [
    "l1=[1,2,3]\n",
    "l2=[4,5,6]\n",
    "l3=[7,8,9]\n",
    "l4=[l1,l2,l3]\n",
    "l4.count(3)"
   ]
  },
  {
   "cell_type": "code",
   "execution_count": 120,
   "id": "c4740f36-5941-420a-85bc-72f9bf546db6",
   "metadata": {},
   "outputs": [
    {
     "data": {
      "text/plain": [
       "[[1, 2, 3], [4, 5, 6], [7, 8, 9]]"
      ]
     },
     "execution_count": 120,
     "metadata": {},
     "output_type": "execute_result"
    }
   ],
   "source": [
    "l4"
   ]
  },
  {
   "cell_type": "code",
   "execution_count": 122,
   "id": "ca672527-ccd0-42be-bb87-5e54da5db323",
   "metadata": {},
   "outputs": [
    {
     "data": {
      "text/plain": [
       "0"
      ]
     },
     "execution_count": 122,
     "metadata": {},
     "output_type": "execute_result"
    }
   ],
   "source": [
    "l4.count(3)"
   ]
  },
  {
   "cell_type": "code",
   "execution_count": 124,
   "id": "36be9cec-f6e5-411a-ac5c-c5e2e9e9ed48",
   "metadata": {},
   "outputs": [],
   "source": [
    "l.append(\"aimnxt\")"
   ]
  },
  {
   "cell_type": "code",
   "execution_count": 126,
   "id": "eccdb60f-3075-47c1-87b6-db5a6348527f",
   "metadata": {},
   "outputs": [],
   "source": [
    "l.append([4,56,\"aimnxt1\"])"
   ]
  },
  {
   "cell_type": "code",
   "execution_count": 128,
   "id": "da9bb8ce-4c27-4fb0-aac7-5297a4033aba",
   "metadata": {},
   "outputs": [
    {
     "data": {
      "text/plain": [
       "[[1, 2, 3, 4],\n",
       " 'Henry',\n",
       " True,\n",
       " 45.67,\n",
       " 'aimnxt',\n",
       " 5,\n",
       " 4,\n",
       " 3,\n",
       " 2,\n",
       " 'aimnxt',\n",
       " [4, 56, 'aimnxt1']]"
      ]
     },
     "execution_count": 128,
     "metadata": {},
     "output_type": "execute_result"
    }
   ],
   "source": [
    "l"
   ]
  },
  {
   "cell_type": "code",
   "execution_count": 130,
   "id": "858742e5-6b37-42cc-8f3e-bdd0ee6e3515",
   "metadata": {},
   "outputs": [],
   "source": [
    "l.extend(\"aimnxt1\")"
   ]
  },
  {
   "cell_type": "code",
   "execution_count": 132,
   "id": "7e4b609e-f099-4c0e-8325-cc8d006d4984",
   "metadata": {},
   "outputs": [
    {
     "data": {
      "text/plain": [
       "[[1, 2, 3, 4],\n",
       " 'Henry',\n",
       " True,\n",
       " 45.67,\n",
       " 'aimnxt',\n",
       " 5,\n",
       " 4,\n",
       " 3,\n",
       " 2,\n",
       " 'aimnxt',\n",
       " [4, 56, 'aimnxt1'],\n",
       " 'a',\n",
       " 'i',\n",
       " 'm',\n",
       " 'n',\n",
       " 'x',\n",
       " 't',\n",
       " '1']"
      ]
     },
     "execution_count": 132,
     "metadata": {},
     "output_type": "execute_result"
    }
   ],
   "source": [
    "l"
   ]
  },
  {
   "cell_type": "code",
   "execution_count": 140,
   "id": "5ce11c97-cacb-4922-aff8-05fdf7e92374",
   "metadata": {},
   "outputs": [],
   "source": [
    "l.extend([99,57])"
   ]
  },
  {
   "cell_type": "code",
   "execution_count": 142,
   "id": "d5142224-b9dd-4a63-b2e7-6728d7476098",
   "metadata": {},
   "outputs": [
    {
     "data": {
      "text/plain": [
       "[[1, 2, 3, 4],\n",
       " 'Henry',\n",
       " True,\n",
       " 45.67,\n",
       " 'aimnxt',\n",
       " 5,\n",
       " 4,\n",
       " 3,\n",
       " 2,\n",
       " 'aimnxt',\n",
       " [4, 56, 'aimnxt1'],\n",
       " 'a',\n",
       " 'i',\n",
       " 'm',\n",
       " 'n',\n",
       " 'x',\n",
       " 't',\n",
       " '1',\n",
       " 99,\n",
       " 57,\n",
       " 99,\n",
       " 57]"
      ]
     },
     "execution_count": 142,
     "metadata": {},
     "output_type": "execute_result"
    }
   ],
   "source": [
    "l"
   ]
  },
  {
   "cell_type": "code",
   "execution_count": 144,
   "id": "4e720e81-6627-4330-9bef-c6fd6b9205cc",
   "metadata": {},
   "outputs": [
    {
     "data": {
      "text/plain": [
       "6"
      ]
     },
     "execution_count": 144,
     "metadata": {},
     "output_type": "execute_result"
    }
   ],
   "source": [
    "l.index(4)"
   ]
  },
  {
   "cell_type": "code",
   "execution_count": 146,
   "id": "43248bf8-b0a0-4c04-994e-cd427a162871",
   "metadata": {},
   "outputs": [
    {
     "data": {
      "text/plain": [
       "15"
      ]
     },
     "execution_count": 146,
     "metadata": {},
     "output_type": "execute_result"
    }
   ],
   "source": [
    "l.index(\"x\")"
   ]
  },
  {
   "cell_type": "code",
   "execution_count": 148,
   "id": "994d29fc-3b26-4b21-be93-26e54f63bb82",
   "metadata": {},
   "outputs": [],
   "source": [
    "l7=[1,2,3,4,4,5,6,7,8,55,6,6,7]"
   ]
  },
  {
   "cell_type": "code",
   "execution_count": 150,
   "id": "19051ba8-b1d1-4824-9f69-abca54ef7e1f",
   "metadata": {},
   "outputs": [
    {
     "data": {
      "text/plain": [
       "6"
      ]
     },
     "execution_count": 150,
     "metadata": {},
     "output_type": "execute_result"
    }
   ],
   "source": [
    "l7.index(6)"
   ]
  },
  {
   "cell_type": "code",
   "execution_count": 152,
   "id": "fdc18765-cd11-46ef-8cd3-ca0429234376",
   "metadata": {},
   "outputs": [],
   "source": [
    "l=[1,2,3,4,5]"
   ]
  },
  {
   "cell_type": "code",
   "execution_count": 154,
   "id": "0a8e238c-6ece-4f5e-a5a0-ff92c3affb5b",
   "metadata": {},
   "outputs": [],
   "source": [
    "l.insert(1,[1,2,45])"
   ]
  },
  {
   "cell_type": "code",
   "execution_count": 156,
   "id": "71d7d27e-2d20-49fd-a4cf-6a19743dad6a",
   "metadata": {},
   "outputs": [
    {
     "data": {
      "text/plain": [
       "[1, [1, 2, 45], 2, 3, 4, 5]"
      ]
     },
     "execution_count": 156,
     "metadata": {},
     "output_type": "execute_result"
    }
   ],
   "source": [
    "l"
   ]
  },
  {
   "cell_type": "code",
   "execution_count": 158,
   "id": "be27d68e-6664-4e3a-b6da-41c10484b5e5",
   "metadata": {},
   "outputs": [],
   "source": [
    "l.insert(5,\"aimnxt\")"
   ]
  },
  {
   "cell_type": "code",
   "execution_count": 160,
   "id": "f1d2ac66-108c-404f-9c4f-446ebd6a12b0",
   "metadata": {},
   "outputs": [
    {
     "data": {
      "text/plain": [
       "[1, [1, 2, 45], 2, 3, 4, 'aimnxt', 5]"
      ]
     },
     "execution_count": 160,
     "metadata": {},
     "output_type": "execute_result"
    }
   ],
   "source": [
    "l"
   ]
  },
  {
   "cell_type": "code",
   "execution_count": 162,
   "id": "d071c929-d9aa-42f7-862c-b5a0b60cf056",
   "metadata": {},
   "outputs": [
    {
     "data": {
      "text/plain": [
       "5"
      ]
     },
     "execution_count": 162,
     "metadata": {},
     "output_type": "execute_result"
    }
   ],
   "source": [
    "l.pop()"
   ]
  },
  {
   "cell_type": "code",
   "execution_count": 164,
   "id": "85235ad8-d3ec-4eac-a3c8-bbe85be699d9",
   "metadata": {},
   "outputs": [
    {
     "data": {
      "text/plain": [
       "[1, [1, 2, 45], 2, 3, 4, 'aimnxt']"
      ]
     },
     "execution_count": 164,
     "metadata": {},
     "output_type": "execute_result"
    }
   ],
   "source": [
    "l"
   ]
  },
  {
   "cell_type": "code",
   "execution_count": 172,
   "id": "b32f96e7-d4f8-4c5e-aca0-6a0733a6c694",
   "metadata": {},
   "outputs": [
    {
     "data": {
      "text/plain": [
       "4"
      ]
     },
     "execution_count": 172,
     "metadata": {},
     "output_type": "execute_result"
    }
   ],
   "source": [
    "l.pop(2)#removing through index"
   ]
  },
  {
   "cell_type": "code",
   "execution_count": 174,
   "id": "08867805-6599-4d4d-843f-b9aa6fb6e150",
   "metadata": {},
   "outputs": [
    {
     "data": {
      "text/plain": [
       "[1, 3, 'aimnxt']"
      ]
     },
     "execution_count": 174,
     "metadata": {},
     "output_type": "execute_result"
    }
   ],
   "source": [
    "l"
   ]
  },
  {
   "cell_type": "code",
   "execution_count": 176,
   "id": "70bc8bad-370a-4a48-bf3b-d9a67dacefb8",
   "metadata": {},
   "outputs": [],
   "source": [
    "l.remove(\"aimnxt\")#removing value"
   ]
  },
  {
   "cell_type": "code",
   "execution_count": 178,
   "id": "85258a5b-9192-49a5-8bf7-eaa7ec2613fe",
   "metadata": {},
   "outputs": [
    {
     "data": {
      "text/plain": [
       "[1, 3]"
      ]
     },
     "execution_count": 178,
     "metadata": {},
     "output_type": "execute_result"
    }
   ],
   "source": [
    "l"
   ]
  },
  {
   "cell_type": "code",
   "execution_count": 180,
   "id": "9acfddf8-1f57-48fc-8d07-cfa90118f243",
   "metadata": {},
   "outputs": [],
   "source": [
    "l=[1,2,3,4]"
   ]
  },
  {
   "cell_type": "code",
   "execution_count": 182,
   "id": "4976f741-bc0d-4603-8a1e-aed60d768435",
   "metadata": {},
   "outputs": [],
   "source": [
    "l[2]=\"datascience\""
   ]
  },
  {
   "cell_type": "code",
   "execution_count": 184,
   "id": "d25678f8-f8c4-4bec-8b72-455d77b3c9af",
   "metadata": {},
   "outputs": [],
   "source": [
    "l[1]=\"aimnxt\""
   ]
  },
  {
   "cell_type": "code",
   "execution_count": 186,
   "id": "db90c6eb-22a1-4dbf-af10-f1cb825fc7f3",
   "metadata": {},
   "outputs": [],
   "source": [
    "s=\"aimnxt\""
   ]
  },
  {
   "cell_type": "code",
   "execution_count": 19,
   "id": "97e23694-17b4-4c5e-9b19-6a428f867f64",
   "metadata": {},
   "outputs": [
    {
     "name": "stdout",
     "output_type": "stream",
     "text": [
      "[1, 2, 4, 5]\n"
     ]
    }
   ],
   "source": [
    "l=[1,2,3,4,5]#Create a list of five integers. Remove the third element from the list and print the updated list.\n",
    "l.pop(2)\n",
    "print(l)"
   ]
  },
  {
   "cell_type": "code",
   "execution_count": 21,
   "id": "e18a6257-6e5d-41a7-b3f7-8ee30aaf7033",
   "metadata": {},
   "outputs": [
    {
     "name": "stdout",
     "output_type": "stream",
     "text": [
      "[1, 2, 3, 10]\n"
     ]
    }
   ],
   "source": [
    "l=[1,2,10,3,10]#Create a list of five integers. Remove the first occurrence of the number 10 from the list and print the result.\n",
    "l.remove(10)\n",
    "print(l)"
   ]
  },
  {
   "cell_type": "code",
   "execution_count": 23,
   "id": "13b8476d-b09f-4244-a3da-ff55f69240b8",
   "metadata": {},
   "outputs": [
    {
     "data": {
      "text/plain": [
       "[6, 2, 9, 5, 10, 15]"
      ]
     },
     "execution_count": 23,
     "metadata": {},
     "output_type": "execute_result"
    }
   ],
   "source": [
    "l=[6,2,9]\n",
    "l=l+[5,10,15]#Create a list and add the numbers 5, 10, and 15 to it. Print the final list\n",
    "l"
   ]
  },
  {
   "cell_type": "code",
   "execution_count": 25,
   "id": "09c38b6c-b6f0-4c5c-bf6e-85d146d3ed52",
   "metadata": {},
   "outputs": [
    {
     "data": {
      "text/plain": [
       "['Henry', 'Rudra', 'Arjun', 'Alex']"
      ]
     },
     "execution_count": 25,
     "metadata": {},
     "output_type": "execute_result"
    }
   ],
   "source": [
    "l=[\"Henry\",\"Rudra\",\"Arjun\"]#Create a list with three strings. Use the append method to add a new string to the end of the list.\n",
    "l.append(\"Alex\")\n",
    "l"
   ]
  },
  {
   "cell_type": "code",
   "execution_count": 27,
   "id": "8e0a0cc2-52e2-417a-a6f0-3f4f0d70562e",
   "metadata": {},
   "outputs": [
    {
     "name": "stdout",
     "output_type": "stream",
     "text": [
      "3\n"
     ]
    }
   ],
   "source": [
    "l= [5, 10, 15, 25, 35, 25, 45]\n",
    "i = l.index(25)#Create a list of numbers and find the index of the first occurrence of the number 25 in the list. Print the index.\n",
    "print(i)"
   ]
  },
  {
   "cell_type": "code",
   "execution_count": 31,
   "id": "95266c35-c57d-44c3-83ad-8443a21fc810",
   "metadata": {},
   "outputs": [
    {
     "data": {
      "text/plain": [
       "1"
      ]
     },
     "execution_count": 31,
     "metadata": {},
     "output_type": "execute_result"
    }
   ],
   "source": [
    "l=[\"apple\",\"banana\",\"custard\",\"guava\"]\n",
    "i=l.index(\"banana\")#Create a list of strings and find the index of the string \"banana\". Print the index.\n",
    "i"
   ]
  },
  {
   "cell_type": "code",
   "execution_count": 33,
   "id": "a4d53c07-c435-4968-875d-a26ce5c4a3bc",
   "metadata": {},
   "outputs": [
    {
     "data": {
      "text/plain": [
       "2"
      ]
     },
     "execution_count": 33,
     "metadata": {},
     "output_type": "execute_result"
    }
   ],
   "source": [
    "l=[\"apple\",\"banana\",\"apple\",\"orange\",\"mango\"]#Create a list of numbers and count how many times the number 3 appears in the list. Print the result.\n",
    "i=l.count(\"apple\")\n",
    "i"
   ]
  },
  {
   "cell_type": "code",
   "execution_count": 35,
   "id": "7380d07b-3db0-4369-9535-6f43536fb05d",
   "metadata": {},
   "outputs": [
    {
     "data": {
      "text/plain": [
       "9"
      ]
     },
     "execution_count": 35,
     "metadata": {},
     "output_type": "execute_result"
    }
   ],
   "source": [
    "l=[4,6,9,8,7]#Create a list of integers and find the maximum value in the list. Print the result.\n",
    "max(l)"
   ]
  },
  {
   "cell_type": "code",
   "execution_count": 37,
   "id": "8eeb912e-2375-4cb5-8dd7-343e188e8cb1",
   "metadata": {},
   "outputs": [
    {
     "data": {
      "text/plain": [
       "9.7"
      ]
     },
     "execution_count": 37,
     "metadata": {},
     "output_type": "execute_result"
    }
   ],
   "source": [
    "l=[6.5,3.5,9.7,5.9,8.9]#Create a list of floating-point numbers and find the largest number. Print the result.\n",
    "i=max(l)\n",
    "i"
   ]
  },
  {
   "cell_type": "code",
   "execution_count": 39,
   "id": "6db494db-908d-49a0-982d-7b7dc705500e",
   "metadata": {},
   "outputs": [
    {
     "data": {
      "text/plain": [
       "3"
      ]
     },
     "execution_count": 39,
     "metadata": {},
     "output_type": "execute_result"
    }
   ],
   "source": [
    "l=[5,9,8,6,3]#Create a list of integers and find the smallest value in the list. Print the result.\n",
    "i=min(l)\n",
    "i"
   ]
  },
  {
   "cell_type": "code",
   "execution_count": 49,
   "id": "3c8764f7-307d-4f05-8e6c-9d736d5fd1ff",
   "metadata": {},
   "outputs": [
    {
     "data": {
      "text/plain": [
       "[2, 3, 5, 7, 9]"
      ]
     },
     "execution_count": 49,
     "metadata": {},
     "output_type": "execute_result"
    }
   ],
   "source": [
    "l=[5,9,2,3,7]#Create a list of integers and sort it in ascending order. Print the sorted list.\n",
    "l.sort()\n",
    "l"
   ]
  },
  {
   "cell_type": "code",
   "execution_count": 55,
   "id": "a5db2b39-62b6-47f8-8c3e-b4939fd2dc0f",
   "metadata": {},
   "outputs": [
    {
     "data": {
      "text/plain": [
       "[9, 8, 7, 6, 5]"
      ]
     },
     "execution_count": 55,
     "metadata": {},
     "output_type": "execute_result"
    }
   ],
   "source": [
    "l=[5,7,9,8,6]#Create a list of strings and sort it in descending alphabetical order. Print the sorted list.\n",
    "l.sort(reverse=True)\n",
    "l"
   ]
  },
  {
   "cell_type": "code",
   "execution_count": 57,
   "id": "7d853bf2-1228-402f-a520-cff1d3f2f6db",
   "metadata": {},
   "outputs": [
    {
     "data": {
      "text/plain": [
       "[4, 9, 5]"
      ]
     },
     "execution_count": 57,
     "metadata": {},
     "output_type": "execute_result"
    }
   ],
   "source": [
    "n=[4,9,5,7,6]#Create a list of numbers. Extract the first three elements using slicing and print them.\n",
    "i=n[:3]\n",
    "i"
   ]
  },
  {
   "cell_type": "code",
   "execution_count": 59,
   "id": "7e30c568-6229-4700-8dad-325a0b5de0a2",
   "metadata": {},
   "outputs": [
    {
     "name": "stdout",
     "output_type": "stream",
     "text": [
      "['apple', 'banana', 'cherry', 'date']\n"
     ]
    }
   ],
   "source": [
    "w=[\"apple\",\"banana\",\"cherry\",\"date\",\"fig\",\"grape\"]#Create a list of strings. Extract all elements except the last two using slicing and print the result.\n",
    "i=w[:-2]\n",
    "print(i)"
   ]
  }
 ],
 "metadata": {
  "kernelspec": {
   "display_name": "Python [conda env:base] *",
   "language": "python",
   "name": "conda-base-py"
  },
  "language_info": {
   "codemirror_mode": {
    "name": "ipython",
    "version": 3
   },
   "file_extension": ".py",
   "mimetype": "text/x-python",
   "name": "python",
   "nbconvert_exporter": "python",
   "pygments_lexer": "ipython3",
   "version": "3.12.7"
  }
 },
 "nbformat": 4,
 "nbformat_minor": 5
}
