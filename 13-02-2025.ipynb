{
 "cells": [
  {
   "cell_type": "code",
   "execution_count": 1,
   "id": "6f6f972e-bb41-4c75-9151-c4e04a45bec2",
   "metadata": {},
   "outputs": [],
   "source": [
    "#positional arguments\n",
    "#keyword arguments"
   ]
  },
  {
   "cell_type": "code",
   "execution_count": 7,
   "id": "82c9fc2b-8ca0-455e-a7d4-b13bb8c898f2",
   "metadata": {},
   "outputs": [
    {
     "name": "stdout",
     "output_type": "stream",
     "text": [
      "Hello! Gayatri, I am 21 years old.\n"
     ]
    }
   ],
   "source": [
    "def greet(name,age):\n",
    "    print(f\"Hello! {name}, I am {age} years old.\")\n",
    "greet(\"Gayatri\",21)"
   ]
  },
  {
   "cell_type": "code",
   "execution_count": 9,
   "id": "20e747fa-ff8a-481c-9401-b6ae4dfd2355",
   "metadata": {},
   "outputs": [
    {
     "name": "stdout",
     "output_type": "stream",
     "text": [
      "Hello! Gayatri, I am 21 years old.\n"
     ]
    }
   ],
   "source": [
    "def greet(name,age):\n",
    "    print(f\"Hello! {name}, I am {age} years old.\")\n",
    "greet(\"Gayatri\",age=21)"
   ]
  },
  {
   "cell_type": "code",
   "execution_count": 11,
   "id": "16c90af1-a3c5-4680-8a05-14e138103889",
   "metadata": {},
   "outputs": [
    {
     "name": "stdout",
     "output_type": "stream",
     "text": [
      "Hello! Gayatri, I am 21 years old.\n"
     ]
    }
   ],
   "source": [
    "def greet(name,age=21):\n",
    "    print(f\"Hello! {name}, I am {age} years old.\")\n",
    "greet(\"Gayatri\")"
   ]
  },
  {
   "cell_type": "code",
   "execution_count": 13,
   "id": "2d4028e3-d296-49ff-9338-a3e950f899dc",
   "metadata": {},
   "outputs": [
    {
     "name": "stdout",
     "output_type": "stream",
     "text": [
      "Hello! Kavya, I am 22 years old.\n"
     ]
    }
   ],
   "source": [
    "greet(\"Kavya\",22)"
   ]
  },
  {
   "cell_type": "code",
   "execution_count": 15,
   "id": "bba529bd-9e6a-433a-9b0f-910a247be1f7",
   "metadata": {},
   "outputs": [
    {
     "data": {
      "text/plain": [
       "8"
      ]
     },
     "execution_count": 15,
     "metadata": {},
     "output_type": "execute_result"
    }
   ],
   "source": [
    "x=5\n",
    "x+=3\n",
    "x"
   ]
  },
  {
   "cell_type": "code",
   "execution_count": null,
   "id": "49ef1c78-f3f0-494e-82fd-2eb759dfd257",
   "metadata": {},
   "outputs": [],
   "source": [
    "#File operations\n",
    "Files are named locations on our storage device for reading data."
   ]
  },
  {
   "cell_type": "code",
   "execution_count": 19,
   "id": "1e17b8ed-0252-48e2-9172-d98142d32a81",
   "metadata": {},
   "outputs": [
    {
     "data": {
      "text/plain": [
       "<_io.TextIOWrapper name='message.txt' mode='r' encoding='cp1252'>"
      ]
     },
     "execution_count": 19,
     "metadata": {},
     "output_type": "execute_result"
    }
   ],
   "source": [
    "f=open('message.txt')\n",
    "f"
   ]
  },
  {
   "cell_type": "code",
   "execution_count": 21,
   "id": "57df5922-082e-4deb-ad70-bf72c76f3fa2",
   "metadata": {},
   "outputs": [
    {
     "data": {
      "text/plain": [
       "<_io.TextIOWrapper name='message.txt' mode='r' encoding='cp1252'>"
      ]
     },
     "execution_count": 21,
     "metadata": {},
     "output_type": "execute_result"
    }
   ],
   "source": [
    "f=open('message.txt','r')\n",
    "f"
   ]
  },
  {
   "cell_type": "code",
   "execution_count": 23,
   "id": "253aef1e-5ed6-41e6-bd99-f795ad8eebe9",
   "metadata": {},
   "outputs": [
    {
     "data": {
      "text/plain": [
       "<_io.TextIOWrapper name='message.txt' mode='w' encoding='cp1252'>"
      ]
     },
     "execution_count": 23,
     "metadata": {},
     "output_type": "execute_result"
    }
   ],
   "source": [
    "f=open('message.txt','w')\n",
    "f"
   ]
  },
  {
   "cell_type": "code",
   "execution_count": 5,
   "id": "b3566f15-da0e-40f7-8e9a-98366b1f2a46",
   "metadata": {},
   "outputs": [
    {
     "name": "stdout",
     "output_type": "stream",
     "text": [
      "I love python programming.\n",
      "I want to be a data scientist.\n"
     ]
    }
   ],
   "source": [
    "f=open('message.txt','r')\n",
    "print(f.read())"
   ]
  },
  {
   "cell_type": "code",
   "execution_count": null,
   "id": "bd8e2de0-6cd0-48db-87a4-a901723c3987",
   "metadata": {},
   "outputs": [],
   "source": [
    "f=open('message.txt','w')\n",
    "print(f.write())"
   ]
  },
  {
   "cell_type": "code",
   "execution_count": 1,
   "id": "b59d4f17-bb73-4302-9fdc-a5f8220492fa",
   "metadata": {},
   "outputs": [
    {
     "name": "stdout",
     "output_type": "stream",
     "text": [
      "I love\n"
     ]
    }
   ],
   "source": [
    "f=open('message.txt','r')\n",
    "content=f.read(6)\n",
    "print(content)"
   ]
  },
  {
   "cell_type": "code",
   "execution_count": 5,
   "id": "7c511254-7ff8-4ba4-9862-a0ae85914a49",
   "metadata": {},
   "outputs": [],
   "source": [
    "f.close()"
   ]
  },
  {
   "cell_type": "code",
   "execution_count": 7,
   "id": "d97210d2-051e-4990-a649-0818e2f85b36",
   "metadata": {},
   "outputs": [
    {
     "name": "stdout",
     "output_type": "stream",
     "text": [
      "I love pro\n"
     ]
    }
   ],
   "source": [
    "f=open('message.txt','r')\n",
    "content=f.read(10)\n",
    "print(content)"
   ]
  },
  {
   "cell_type": "code",
   "execution_count": 9,
   "id": "cf366f5b-cca6-4da9-9613-0991d6e08629",
   "metadata": {},
   "outputs": [
    {
     "name": "stdout",
     "output_type": "stream",
     "text": [
      "gramming.\n",
      "I \n"
     ]
    }
   ],
   "source": [
    "more_content=f.read(12)\n",
    "print(more_content)\n",
    "f.close()"
   ]
  },
  {
   "cell_type": "code",
   "execution_count": 11,
   "id": "f934ac1f-bae9-41fc-aef5-ac0c97c9ac4c",
   "metadata": {},
   "outputs": [
    {
     "name": "stdout",
     "output_type": "stream",
     "text": [
      "I love\n",
      " programming\n"
     ]
    }
   ],
   "source": [
    "with open('message.txt','r') as f:\n",
    "    content=f.read(6)\n",
    "    print(content)\n",
    "    more_content=f.read(12)\n",
    "    print(more_content)"
   ]
  },
  {
   "cell_type": "code",
   "execution_count": 23,
   "id": "71150ecd-c238-4e88-b075-7d94796354af",
   "metadata": {},
   "outputs": [],
   "source": [
    "with open('python.txt','w') as f:\n",
    "    f.write(\"Python is awesome.\\n\")\n",
    "    f.write(\"I love Data Science.\\n\")\n",
    "    f.write(\"I wanna be a Data Scientist.\")"
   ]
  },
  {
   "cell_type": "code",
   "execution_count": 27,
   "id": "2a0f9d3d-3b11-49b1-9f04-3d57f4ca6802",
   "metadata": {},
   "outputs": [],
   "source": [
    "with open('python.txt','a') as f:\n",
    "    f.write(\"\\nPython is my first programming language.\\n\")\n",
    "    f.write(\"Happy Pongal.\")"
   ]
  },
  {
   "cell_type": "code",
   "execution_count": 29,
   "id": "444f45e9-0607-4367-b8d8-eca9a8a7602a",
   "metadata": {},
   "outputs": [
    {
     "name": "stdout",
     "output_type": "stream",
     "text": [
      "['Python is awesome.\\n', 'I love Data Science.\\n', 'I wanna be a Data Scientist.\\n', 'Python is my first programming language.\\n', 'Happy Pongal.']\n"
     ]
    }
   ],
   "source": [
    "with open('python.txt','r') as f:\n",
    "    lines=f.readlines()\n",
    "print(lines)"
   ]
  },
  {
   "cell_type": "code",
   "execution_count": 33,
   "id": "c4ef11fd-0cb9-4d06-93ee-a238848782d1",
   "metadata": {},
   "outputs": [
    {
     "name": "stdout",
     "output_type": "stream",
     "text": [
      "Python is awesome.\n",
      "I love Data Science.\n",
      "I wanna be a Data Scientist.\n",
      "Python is my first programming language.\n",
      "Happy Pongal.\n"
     ]
    }
   ],
   "source": [
    "with open('python.txt','r') as f:\n",
    "    lines=f.read()\n",
    "print(lines)"
   ]
  },
  {
   "cell_type": "code",
   "execution_count": 39,
   "id": "93ab47bb-bf4f-4b98-a921-ff78ce6ba816",
   "metadata": {},
   "outputs": [],
   "source": [
    "with open('js.txt','w') as f:\n",
    "    lines=['JS is awesome','\\nJs is my second programming language.','\\nJS is very simple.']\n",
    "    writing_lines=f.writelines(lines)"
   ]
  },
  {
   "cell_type": "code",
   "execution_count": 43,
   "id": "50dfffe4-d0b0-4a37-80e4-d108ebb43845",
   "metadata": {},
   "outputs": [],
   "source": [
    "with open('aimnxt.txt','w') as f:\n",
    "    l=['Python is very simple programming language.','\\nWe are having more opportunities in Data Science.','\\nI want to become a greate Data Scientist.']\n",
    "    s=f.writelines(l)"
   ]
  },
  {
   "cell_type": "code",
   "execution_count": 45,
   "id": "ffc461fb-78bb-461a-9898-b8212898ca03",
   "metadata": {},
   "outputs": [
    {
     "data": {
      "text/plain": [
       "30"
      ]
     },
     "execution_count": 45,
     "metadata": {},
     "output_type": "execute_result"
    }
   ],
   "source": [
    "a=10\n",
    "b=20\n",
    "c=a+b\n",
    "c"
   ]
  },
  {
   "cell_type": "code",
   "execution_count": 49,
   "id": "e9acccac-99e1-497e-8b09-4e1a767531eb",
   "metadata": {},
   "outputs": [
    {
     "ename": "SyntaxError",
     "evalue": "incomplete input (1116166254.py, line 4)",
     "output_type": "error",
     "traceback": [
      "\u001b[1;36m  Cell \u001b[1;32mIn[49], line 4\u001b[1;36m\u001b[0m\n\u001b[1;33m    print(c\u001b[0m\n\u001b[1;37m           ^\u001b[0m\n\u001b[1;31mSyntaxError\u001b[0m\u001b[1;31m:\u001b[0m incomplete input\n"
     ]
    }
   ],
   "source": [
    "a=10\n",
    "b=20\n",
    "c=a+b\n",
    "print(c"
   ]
  },
  {
   "cell_type": "code",
   "execution_count": 52,
   "id": "609f9466-877c-47b6-bad2-907c09baa33a",
   "metadata": {},
   "outputs": [
    {
     "ename": "TypeError",
     "evalue": "unsupported operand type(s) for +: 'int' and 'str'",
     "output_type": "error",
     "traceback": [
      "\u001b[1;31m---------------------------------------------------------------------------\u001b[0m",
      "\u001b[1;31mTypeError\u001b[0m                                 Traceback (most recent call last)",
      "Cell \u001b[1;32mIn[52], line 3\u001b[0m\n\u001b[0;32m      1\u001b[0m a\u001b[38;5;241m=\u001b[39m\u001b[38;5;241m10\u001b[39m \n\u001b[0;32m      2\u001b[0m b\u001b[38;5;241m=\u001b[39m\u001b[38;5;124m\"\u001b[39m\u001b[38;5;124ms\u001b[39m\u001b[38;5;124m\"\u001b[39m \n\u001b[1;32m----> 3\u001b[0m c\u001b[38;5;241m=\u001b[39ma\u001b[38;5;241m+\u001b[39mb \n\u001b[0;32m      4\u001b[0m \u001b[38;5;28mprint\u001b[39m(c)\n",
      "\u001b[1;31mTypeError\u001b[0m: unsupported operand type(s) for +: 'int' and 'str'"
     ]
    }
   ],
   "source": [
    "a=10 \n",
    "b=\"s\" \n",
    "c=a+b \n",
    "print(c)"
   ]
  },
  {
   "cell_type": "code",
   "execution_count": 54,
   "id": "a6a58fb0-dfdd-41c4-94c5-2f2abb341c69",
   "metadata": {},
   "outputs": [
    {
     "name": "stdin",
     "output_type": "stream",
     "text": [
      "enter first number: 2\n",
      "enter second number: 0\n"
     ]
    },
    {
     "ename": "ZeroDivisionError",
     "evalue": "division by zero",
     "output_type": "error",
     "traceback": [
      "\u001b[1;31m---------------------------------------------------------------------------\u001b[0m",
      "\u001b[1;31mZeroDivisionError\u001b[0m                         Traceback (most recent call last)",
      "Cell \u001b[1;32mIn[54], line 3\u001b[0m\n\u001b[0;32m      1\u001b[0m a\u001b[38;5;241m=\u001b[39m\u001b[38;5;28mint\u001b[39m(\u001b[38;5;28minput\u001b[39m(\u001b[38;5;124m\"\u001b[39m\u001b[38;5;124menter first number:\u001b[39m\u001b[38;5;124m\"\u001b[39m))\n\u001b[0;32m      2\u001b[0m b\u001b[38;5;241m=\u001b[39m\u001b[38;5;28mint\u001b[39m(\u001b[38;5;28minput\u001b[39m(\u001b[38;5;124m\"\u001b[39m\u001b[38;5;124menter second number:\u001b[39m\u001b[38;5;124m\"\u001b[39m))\n\u001b[1;32m----> 3\u001b[0m c\u001b[38;5;241m=\u001b[39ma\u001b[38;5;241m/\u001b[39mb\n\u001b[0;32m      4\u001b[0m \u001b[38;5;28mprint\u001b[39m(c)\n\u001b[0;32m      5\u001b[0m d\u001b[38;5;241m=\u001b[39ma\u001b[38;5;241m*\u001b[39mb\n",
      "\u001b[1;31mZeroDivisionError\u001b[0m: division by zero"
     ]
    }
   ],
   "source": [
    "a=int(input(\"enter first number:\"))\n",
    "b=int(input(\"enter second number:\"))\n",
    "c=a/b\n",
    "print(c)\n",
    "d=a*b\n",
    "print(d)"
   ]
  },
  {
   "cell_type": "code",
   "execution_count": 56,
   "id": "145dde1a-88cd-41d0-92fe-0dd0949b1ff4",
   "metadata": {},
   "outputs": [
    {
     "name": "stdin",
     "output_type": "stream",
     "text": [
      "enter first number: 2\n",
      "enter second number: 0\n"
     ]
    },
    {
     "name": "stdout",
     "output_type": "stream",
     "text": [
      "b should not be zero\n"
     ]
    }
   ],
   "source": [
    "a=int(input(\"enter first number:\"))\n",
    "b=int(input(\"enter second number:\"))\n",
    "try:\n",
    "    c=a/b\n",
    "    print(c)\n",
    "except ZeroDivisionError:\n",
    "    print(\"b should not be zero\")"
   ]
  },
  {
   "cell_type": "code",
   "execution_count": 60,
   "id": "f06922fb-b29d-496e-9142-6dd74ebc85d8",
   "metadata": {},
   "outputs": [
    {
     "name": "stdin",
     "output_type": "stream",
     "text": [
      "enter first number: 5\n",
      "enter second number: 0\n"
     ]
    },
    {
     "name": "stdout",
     "output_type": "stream",
     "text": [
      "b should not be zero\n",
      "5\n"
     ]
    }
   ],
   "source": [
    "a=int(input(\"enter first number:\"))\n",
    "b=int(input(\"enter second number:\"))\n",
    "try:\n",
    "    c=a/b\n",
    "    print(c)\n",
    "except:\n",
    "    print(\"b should not be zero\")\n",
    "d=a+b\n",
    "print(d)"
   ]
  },
  {
   "cell_type": "code",
   "execution_count": 64,
   "id": "8dd2116b-b602-4b5d-bf2b-8ce9f339e0d6",
   "metadata": {},
   "outputs": [
    {
     "ename": "SyntaxError",
     "evalue": "unmatched ')' (3861831089.py, line 5)",
     "output_type": "error",
     "traceback": [
      "\u001b[1;36m  Cell \u001b[1;32mIn[64], line 5\u001b[1;36m\u001b[0m\n\u001b[1;33m    print(c))\u001b[0m\n\u001b[1;37m            ^\u001b[0m\n\u001b[1;31mSyntaxError\u001b[0m\u001b[1;31m:\u001b[0m unmatched ')'\n"
     ]
    }
   ],
   "source": [
    "a=int(input(\"enter first number:\"))\n",
    "b=int(input(\"enter second number:\"))\n",
    "try:\n",
    "    c=a/b\n",
    "    print(c))\n",
    "except:\n",
    "    print(\"Wrong syntax\")\n",
    "d=a+b\n",
    "print(d)"
   ]
  },
  {
   "cell_type": "code",
   "execution_count": 5,
   "id": "9f263899-994f-4093-8c2b-6320bede6949",
   "metadata": {},
   "outputs": [
    {
     "name": "stdin",
     "output_type": "stream",
     "text": [
      "enter first number: 5\n",
      "enter second number: 0\n"
     ]
    },
    {
     "name": "stdout",
     "output_type": "stream",
     "text": [
      "non zero denominator\n"
     ]
    },
    {
     "name": "stdin",
     "output_type": "stream",
     "text": [
      "enter first number: 9\n",
      "enter second number: .2\n"
     ]
    },
    {
     "name": "stdout",
     "output_type": "stream",
     "text": [
      "there should nit bbe string\n"
     ]
    },
    {
     "name": "stdin",
     "output_type": "stream",
     "text": [
      "enter first number: 2\n",
      "enter second number: 3\n"
     ]
    },
    {
     "name": "stdout",
     "output_type": "stream",
     "text": [
      "0.6666666666666666\n"
     ]
    }
   ],
   "source": [
    "while True:\n",
    "    try:\n",
    "        a=int(input(\"enter first number:\"))\n",
    "        b=int(input(\"enter second number:\"))\n",
    "        c=a/b\n",
    "        print(c)\n",
    "        break\n",
    "    except ValueError:\n",
    "        print(\"there should nit bbe string\")\n",
    "    except ZeroDivisionError:\n",
    "        print(\"non zero denominator\")"
   ]
  },
  {
   "cell_type": "code",
   "execution_count": 7,
   "id": "e0eb4897-88b7-4fe8-8470-c1229e4c52f2",
   "metadata": {},
   "outputs": [
    {
     "ename": "SyntaxError",
     "evalue": "incomplete input (1192997513.py, line 6)",
     "output_type": "error",
     "traceback": [
      "\u001b[1;36m  Cell \u001b[1;32mIn[7], line 6\u001b[1;36m\u001b[0m\n\u001b[1;33m    break\u001b[0m\n\u001b[1;37m         ^\u001b[0m\n\u001b[1;31mSyntaxError\u001b[0m\u001b[1;31m:\u001b[0m incomplete input\n"
     ]
    }
   ],
   "source": [
    "try:\n",
    "    a=int(input(\"enter first number:\"))\n",
    "    b=int(input(\"enter second number:\"))\n",
    "    c=a/b\n",
    "    print(c)\n",
    "    break"
   ]
  },
  {
   "cell_type": "code",
   "execution_count": 11,
   "id": "02a619a8-9aae-487a-817e-c609cca48d43",
   "metadata": {},
   "outputs": [
    {
     "name": "stdin",
     "output_type": "stream",
     "text": [
      "Write your name: gayatri\n",
      "Write your name: ai\n",
      "Write your name: aimnxt\n"
     ]
    },
    {
     "name": "stdout",
     "output_type": "stream",
     "text": [
      "aimnxt\n"
     ]
    }
   ],
   "source": [
    "while True:\n",
    "    name=input(\"Write your name:\")\n",
    "    if name==\"aimnxt\":\n",
    "        print(\"aimnxt\")\n",
    "        break"
   ]
  },
  {
   "cell_type": "code",
   "execution_count": 27,
   "id": "4f0cc0c0-c189-4682-9620-bc53180883d7",
   "metadata": {},
   "outputs": [
    {
     "name": "stdin",
     "output_type": "stream",
     "text": [
      "enter first number: l\n"
     ]
    },
    {
     "name": "stdout",
     "output_type": "stream",
     "text": [
      "Enter integer values only\n",
      "0.8333333333333334\n"
     ]
    }
   ],
   "source": [
    "try:\n",
    "    a=int(input(\"enter first number:\"))\n",
    "    b=int(input(\"enter second number:\"))\n",
    "except Exception:\n",
    "    print(\"Enter integer values only\")\n",
    "try:\n",
    "    c=a/b\n",
    "    print(c)\n",
    "except ZeroDivisionError:\n",
    "    print(\"Enter non zero value in integer\")"
   ]
  },
  {
   "cell_type": "code",
   "execution_count": 37,
   "id": "9d726c33-c083-4879-a535-2077f8818f6a",
   "metadata": {},
   "outputs": [
    {
     "name": "stdin",
     "output_type": "stream",
     "text": [
      "Enter a num1: -8\n",
      "Enter a num2: -9\n",
      "Enter a positive number1: -9\n",
      "Enter a positive number1: -9\n",
      "Enter a positive number1: 5\n",
      "Enter a positive number2: 6\n"
     ]
    },
    {
     "name": "stdout",
     "output_type": "stream",
     "text": [
      "0.8333333333333334\n"
     ]
    }
   ],
   "source": [
    "a=int(input(\"Enter a num1:\"))\n",
    "b=int(input(\"Enter a num2:\"))\n",
    "while a<0:\n",
    "    a=int(input(\"Enter a positive number1:\"))\n",
    "while b<0:\n",
    "    b=int(input(\"Enter a positive number2:\"))\n",
    "try:\n",
    "    c=a/b\n",
    "    print(c)\n",
    "except:\n",
    "    print(\"number2 should not be 0\")"
   ]
  },
  {
   "cell_type": "code",
   "execution_count": 49,
   "id": "36e4766b-d63e-4116-9eb9-5430178cfa53",
   "metadata": {},
   "outputs": [
    {
     "name": "stdin",
     "output_type": "stream",
     "text": [
      "first number: 9\n",
      "second number: 0\n"
     ]
    },
    {
     "name": "stdout",
     "output_type": "stream",
     "text": [
      "exception class <class 'ZeroDivisionError'>\n",
      "exception message division by zero\n",
      "line number 6\n"
     ]
    },
    {
     "name": "stdin",
     "output_type": "stream",
     "text": [
      "first number: 9\n",
      "second number: 6\n"
     ]
    },
    {
     "name": "stdout",
     "output_type": "stream",
     "text": [
      "div: 1.5\n"
     ]
    }
   ],
   "source": [
    "import sys\n",
    "while True:\n",
    "    try:\n",
    "        a=int(input(\"first number:\"))\n",
    "        b=int(input(\"second number:\"))\n",
    "        c=a/b\n",
    "        print(\"div:\", c)\n",
    "        break\n",
    "    except:\n",
    "        a,b,c=sys.exc_info()\n",
    "        print(\"exception class\", a)\n",
    "        print(\"exception message\", b)\n",
    "        print(\"line number\", c.tb_lineno)"
   ]
  },
  {
   "cell_type": "code",
   "execution_count": 51,
   "id": "b2751bfb-7870-46aa-b8d1-61e5fe9e7c52",
   "metadata": {},
   "outputs": [
    {
     "name": "stdin",
     "output_type": "stream",
     "text": [
      "first number: 6\n",
      "second number: 3\n"
     ]
    },
    {
     "name": "stdout",
     "output_type": "stream",
     "text": [
      "div: 2.0\n",
      "please print this final block\n"
     ]
    }
   ],
   "source": [
    "import sys\n",
    "while True:\n",
    "    try:\n",
    "        a=int(input(\"first number:\"))\n",
    "        b=int(input(\"second number:\"))\n",
    "        c=a/b\n",
    "        print(\"div:\", c)\n",
    "        break\n",
    "    except:\n",
    "        a,b,c=sys.exc_info()\n",
    "        print(\"exception class\", a)\n",
    "        print(\"exception message\", b)\n",
    "        print(\"line number\", c.tb_lineno)\n",
    "    finally:\n",
    "        print(\"please print this final block\")\n"
   ]
  },
  {
   "cell_type": "code",
   "execution_count": 55,
   "id": "70f39e4a-35a7-4bd4-bb9b-fc3eea1e271b",
   "metadata": {},
   "outputs": [
    {
     "name": "stdin",
     "output_type": "stream",
     "text": [
      "first number: 9\n",
      "second number: 6\n"
     ]
    },
    {
     "name": "stdout",
     "output_type": "stream",
     "text": [
      "div: 1.5\n",
      "python rocks!!\n"
     ]
    }
   ],
   "source": [
    "try:\n",
    "        a=int(input(\"first number:\"))\n",
    "        b=int(input(\"second number:\"))\n",
    "        c=a/b\n",
    "        print(\"div:\", c)\n",
    "except:\n",
    "    print(\"don't use zero in denominator\")\n",
    "else:\n",
    "    print(\"python rocks!!\")"
   ]
  },
  {
   "cell_type": "code",
   "execution_count": 65,
   "id": "4af25020-668d-421f-8b32-0d44c1d7cd1f",
   "metadata": {},
   "outputs": [
    {
     "name": "stdin",
     "output_type": "stream",
     "text": [
      "enter first number:  6\n",
      "enter second number:  l\n"
     ]
    },
    {
     "name": "stdout",
     "output_type": "stream",
     "text": [
      "Traceback (most recent call last):\n",
      "  File \"C:\\Users\\lenovo\\AppData\\Local\\Temp\\ipykernel_5184\\653764850.py\", line 6, in test\n",
      "    c=int(a)/int(b)\n",
      "             ^^^^^^\n",
      "ValueError: invalid literal for int() with base 10: 'l'\n",
      "\n"
     ]
    }
   ],
   "source": [
    "import traceback\n",
    "def test():\n",
    "        try:\n",
    "            a= input(\"enter first number: \")\n",
    "            b= input(\"enter second number: \")\n",
    "            c=int(a)/int(b)\n",
    "            print(c)\n",
    "        except:\n",
    "            print(traceback.format_exc())\n",
    "test()"
   ]
  },
  {
   "cell_type": "code",
   "execution_count": null,
   "id": "564e1dec-aa00-4888-a79f-42a8883fa5bb",
   "metadata": {},
   "outputs": [],
   "source": []
  }
 ],
 "metadata": {
  "kernelspec": {
   "display_name": "Python [conda env:base] *",
   "language": "python",
   "name": "conda-base-py"
  },
  "language_info": {
   "codemirror_mode": {
    "name": "ipython",
    "version": 3
   },
   "file_extension": ".py",
   "mimetype": "text/x-python",
   "name": "python",
   "nbconvert_exporter": "python",
   "pygments_lexer": "ipython3",
   "version": "3.12.7"
  }
 },
 "nbformat": 4,
 "nbformat_minor": 5
}
