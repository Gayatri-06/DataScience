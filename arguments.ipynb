{
 "cells": [
  {
   "cell_type": "code",
   "execution_count": 1,
   "id": "7d396b1f-9855-4cec-8da1-cdf42794314c",
   "metadata": {},
   "outputs": [
    {
     "name": "stdout",
     "output_type": "stream",
     "text": [
      "15\n"
     ]
    }
   ],
   "source": [
    "def add(a,b):\n",
    "    return a+b\n",
    "result=add(5,10)\n",
    "print(result)"
   ]
  },
  {
   "cell_type": "code",
   "execution_count": 3,
   "id": "29bc80c1-403c-4775-972c-f2ca64bbde02",
   "metadata": {},
   "outputs": [
    {
     "name": "stdout",
     "output_type": "stream",
     "text": [
      "Hello, Alice! you are 25 years old.\n"
     ]
    }
   ],
   "source": [
    "def greet(name,age):\n",
    "    print(f\"Hello, {name}! you are {age} years old.\")\n",
    "greet(name=\"Alice\",age=25)    "
   ]
  },
  {
   "cell_type": "code",
   "execution_count": 5,
   "id": "7f5ee6be-d90d-489e-90ae-fb3303760505",
   "metadata": {},
   "outputs": [
    {
     "name": "stdout",
     "output_type": "stream",
     "text": [
      "10\n"
     ]
    }
   ],
   "source": [
    "def multiply(a,b=2):\n",
    "    return a*b\n",
    "result=multiply(5)\n",
    "print(result)"
   ]
  },
  {
   "cell_type": "code",
   "execution_count": 11,
   "id": "39e8e9f7-385e-4229-bbdf-f792d0127065",
   "metadata": {},
   "outputs": [
    {
     "name": "stdout",
     "output_type": "stream",
     "text": [
      "Name: Alice, Age: 25, Country: USA\n"
     ]
    }
   ],
   "source": [
    "def print_info(name,age,country):\n",
    "    print(f\"Name: {name}, Age: {age}, Country: {country}\")\n",
    "print_info(\"Alice\",25,\"USA\")"
   ]
  },
  {
   "cell_type": "code",
   "execution_count": 13,
   "id": "ce10a7c0-6311-414b-84db-39213450fb41",
   "metadata": {},
   "outputs": [
    {
     "name": "stdout",
     "output_type": "stream",
     "text": [
      "42\n",
      "<class 'int'>\n"
     ]
    }
   ],
   "source": [
    "#Convert the string `\"42\"` to an integer and assign it to a variable `num`. Print the value and type of `num`.\n",
    "a=\"42\"\n",
    "b=int(a)\n",
    "print(b)\n",
    "print(type(b))"
   ]
  },
  {
   "cell_type": "code",
   "execution_count": 15,
   "id": "d91cb821-1732-4416-aae3-6da2721ce370",
   "metadata": {},
   "outputs": [
    {
     "name": "stdout",
     "output_type": "stream",
     "text": [
      "rabbit\n"
     ]
    }
   ],
   "source": [
    "#Define a tuple with three elements: `\"cat\"`, `\"dog\"`, and `\"rabbit\"`. Print the third element.\n",
    "t=(\"cat\",\"dog\",\"rabbit\")\n",
    "print(t[2])"
   ]
  },
  {
   "cell_type": "code",
   "execution_count": 17,
   "id": "03f343d9-885e-43e6-8287-7af1315f55b4",
   "metadata": {},
   "outputs": [
    {
     "name": "stdout",
     "output_type": "stream",
     "text": [
      "6 5\n"
     ]
    }
   ],
   "source": [
    "#Swap the values of two variables, `a` and `b`, without using a temporary variable.\n",
    "def swap(a,b):\n",
    "    a=a+b\n",
    "    b=a-b\n",
    "    a=a-b\n",
    "    print(a,b)\n",
    "swap(5,6)"
   ]
  },
  {
   "cell_type": "code",
   "execution_count": 19,
   "id": "7b9951e2-f85f-4aaf-901a-79fa7fd537db",
   "metadata": {},
   "outputs": [
    {
     "name": "stdout",
     "output_type": "stream",
     "text": [
      "You are 10 years old.\n"
     ]
    }
   ],
   "source": [
    "#Write a program that takes your age as input and prints a message: `\"You are [age] years old.\"`\n",
    "def tes(age):\n",
    "    print(f\"You are {age} years old.\")\n",
    "tes(10)"
   ]
  },
  {
   "cell_type": "code",
   "execution_count": 23,
   "id": "2d1b3370-ea42-403a-81a3-2d8c347e1024",
   "metadata": {},
   "outputs": [
    {
     "name": "stdin",
     "output_type": "stream",
     "text": [
      " 2\n",
      " 3\n"
     ]
    },
    {
     "data": {
      "text/plain": [
       "6"
      ]
     },
     "execution_count": 23,
     "metadata": {},
     "output_type": "execute_result"
    }
   ],
   "source": [
    "#Calculate the product of two numbers entered by the user and print the result.\n",
    "def tes(a,b):\n",
    "    return a*b\n",
    "a=int(input()) \n",
    "b=int(input())\n",
    "tes(a,b)"
   ]
  },
  {
   "cell_type": "code",
   "execution_count": 25,
   "id": "e9d75db1-61aa-4ca4-82db-1caf4a2f2f16",
   "metadata": {},
   "outputs": [
    {
     "name": "stdout",
     "output_type": "stream",
     "text": [
      "The book costs 25.99.\n"
     ]
    }
   ],
   "source": [
    "#Format the variables `item = \"book\"` and `price = 25.99` into a sentence.\n",
    "def tes(item,price):\n",
    "    print(f'The {item} costs {price}.')\n",
    "tes(\"book\",25.99)"
   ]
  },
  {
   "cell_type": "code",
   "execution_count": 27,
   "id": "4219bb77-92ad-4976-9659-f122aa36126c",
   "metadata": {},
   "outputs": [
    {
     "name": "stdin",
     "output_type": "stream",
     "text": [
      " 6\n"
     ]
    },
    {
     "name": "stdout",
     "output_type": "stream",
     "text": [
      "Positive\n"
     ]
    }
   ],
   "source": [
    "#Write a function that takes an integer as input and returns `\"Positive\"`, `\"Negative\"`, or `\"Zero\"`.\n",
    "def tes(a):\n",
    "    if a>0:\n",
    "        print(\"Positive\")\n",
    "    elif a<0:\n",
    "        print(\"negative\")\n",
    "    else:\n",
    "        print(\"Zero\")\n",
    "a=int(input())\n",
    "tes(a)"
   ]
  },
  {
   "cell_type": "code",
   "execution_count": 29,
   "id": "46d2ab36-e989-4583-b601-124c59797f1b",
   "metadata": {},
   "outputs": [
    {
     "name": "stdin",
     "output_type": "stream",
     "text": [
      " -9\n"
     ]
    },
    {
     "name": "stdout",
     "output_type": "stream",
     "text": [
      "-9 is odd\n"
     ]
    }
   ],
   "source": [
    "#Create a program that checks if a user-input number is even or odd.\n",
    "a=int(input())\n",
    "if a%2==0:\n",
    "    print(f\"{a} is even\")\n",
    "else:\n",
    "    print(f\"{a} is odd\")"
   ]
  },
  {
   "cell_type": "code",
   "execution_count": 31,
   "id": "f711ef17-31c8-4d33-bb7a-72dec62e9dab",
   "metadata": {},
   "outputs": [
    {
     "name": "stdin",
     "output_type": "stream",
     "text": [
      " 2024\n"
     ]
    },
    {
     "name": "stdout",
     "output_type": "stream",
     "text": [
      "2024 is a leap year\n"
     ]
    }
   ],
   "source": [
    "#Write a program that determines if a year entered by the user is a leap year.\n",
    "a=int(input())\n",
    "if (a % 4 == 0 and a % 100 != 0) or (a % 400 == 0):\n",
    "    print(f\"{a} is a leap year\")\n",
    "else:\n",
    "    print(f\"{a} is not a leap year\")"
   ]
  },
  {
   "cell_type": "code",
   "execution_count": 33,
   "id": "ecf0cf8c-b7c6-4220-8cb8-86a83b05460d",
   "metadata": {},
   "outputs": [
    {
     "name": "stdout",
     "output_type": "stream",
     "text": [
      "1\n",
      "2\n",
      "3\n",
      "4\n"
     ]
    }
   ],
   "source": [
    "#Print the numbers from 1 to 5 using a `for` loop.\n",
    "for i in range(1,5):\n",
    "    print(i)"
   ]
  },
  {
   "cell_type": "code",
   "execution_count": 1,
   "id": "c8b82ce3-bb67-4501-bff5-634289fe89f3",
   "metadata": {},
   "outputs": [
    {
     "name": "stdout",
     "output_type": "stream",
     "text": [
      "210\n"
     ]
    }
   ],
   "source": [
    "#Write a `while` loop that calculates the sum of numbers from 1 to 20.\n",
    "sum = 0\n",
    "num = 1\n",
    "while num <= 20:\n",
    "    sum += num\n",
    "    num += 1\n",
    "print(sum)"
   ]
  },
  {
   "cell_type": "code",
   "execution_count": 3,
   "id": "c827882d-c768-4436-904d-32709859c263",
   "metadata": {},
   "outputs": [
    {
     "name": "stdout",
     "output_type": "stream",
     "text": [
      "H\n",
      "e\n",
      "l\n",
      "l\n",
      "o\n"
     ]
    }
   ],
   "source": [
    "# Print each character of the string `\"Hello\"` using a loop.\n",
    "s=\"Hello\"\n",
    "for i in s:\n",
    "    print(i)"
   ]
  },
  {
   "cell_type": "code",
   "execution_count": 5,
   "id": "5fad1b3f-1613-4066-8a4b-f089e9ff6c92",
   "metadata": {},
   "outputs": [
    {
     "name": "stdout",
     "output_type": "stream",
     "text": [
      "Guava\n"
     ]
    }
   ],
   "source": [
    "#Create a list of your favorite fruits and print the second fruit on the list.\n",
    "f=[\"Orange\",\"Guava\",\"Berry\",\"Apple\"]\n",
    "print(f[1])"
   ]
  },
  {
   "cell_type": "code",
   "execution_count": 9,
   "id": "53badf10-2b59-4608-8145-7988c352673f",
   "metadata": {},
   "outputs": [
    {
     "name": "stdout",
     "output_type": "stream",
     "text": [
      "After adding 7: {7}\n",
      "After adding 7 again: {7}\n"
     ]
    }
   ],
   "source": [
    "#Add the number 7 to a set. Add the number 7 again and observe the set's behavior.\n",
    "m = set()\n",
    "m.add(7)\n",
    "print(\"After adding 7:\", m)\n",
    "m.add(7)\n",
    "print(\"After adding 7 again:\", m)"
   ]
  },
  {
   "cell_type": "code",
   "execution_count": 11,
   "id": "b50c5e8d-0fc9-408e-a821-b7b5f4296487",
   "metadata": {},
   "outputs": [
    {
     "data": {
      "text/plain": [
       "[1, 2, 3, 4, 5]"
      ]
     },
     "execution_count": 11,
     "metadata": {},
     "output_type": "execute_result"
    }
   ],
   "source": [
    "# Write a function that takes a list as input and returns a new list without duplicate elements.\n",
    "def dup(l):\n",
    "    return list(set(l))\n",
    "dup([1,1,2,3,4,5,4,3,2])"
   ]
  },
  {
   "cell_type": "code",
   "execution_count": 13,
   "id": "f0f7aeb2-0a1d-43f8-b9bf-6de6b3f15c7c",
   "metadata": {},
   "outputs": [
    {
     "name": "stdout",
     "output_type": "stream",
     "text": [
      "(2003, 10, 17)\n"
     ]
    }
   ],
   "source": [
    "#Create a tuple containing your birth year, birth month, and birth day.\n",
    "t=(2003,10,17)\n",
    "print(t)"
   ]
  },
  {
   "cell_type": "code",
   "execution_count": 1,
   "id": "7e85308c-4bdb-4918-8693-8bb06d5d4d2b",
   "metadata": {},
   "outputs": [
    {
     "name": "stdout",
     "output_type": "stream",
     "text": [
      "3.0\n"
     ]
    }
   ],
   "source": [
    "#Define a function `calculate_average` that takes a list of numbers as input and returns their average.\n",
    "def calculate_average(l):  \n",
    "    if len(l) == 0:  \n",
    "        return 0  \n",
    "    return sum(l) / len(l) \n",
    "l = [1, 2, 3, 4, 5]  \n",
    "r = calculate_average(l)  \n",
    "print(r) "
   ]
  },
  {
   "cell_type": "code",
   "execution_count": 3,
   "id": "481167d5-cd6e-41d0-a16e-69d8ea075c7c",
   "metadata": {},
   "outputs": [
    {
     "data": {
      "text/plain": [
       "8"
      ]
     },
     "execution_count": 3,
     "metadata": {},
     "output_type": "execute_result"
    }
   ],
   "source": [
    "#Write a function `power` that takes two arguments, `base` and `exponent`, and calculates `base` raised to the power of `exponent`.\n",
    "def power(base,exponent):\n",
    "    return base**exponent\n",
    "power(2,3)"
   ]
  },
  {
   "cell_type": "code",
   "execution_count": 9,
   "id": "285eb320-bd98-4858-a73c-183dcb17b244",
   "metadata": {},
   "outputs": [
    {
     "data": {
      "text/plain": [
       "'Hello'"
      ]
     },
     "execution_count": 9,
     "metadata": {},
     "output_type": "execute_result"
    }
   ],
   "source": [
    "#Define a function that takes any number of strings as arguments and returns them concatenated.\n",
    "def tes(*a):\n",
    "    return ''.join(a)\n",
    "tes(\"H\",\"e\",\"l\",\"l\",\"o\")"
   ]
  },
  {
   "cell_type": "code",
   "execution_count": 1,
   "id": "1b3dea84-e690-46f6-a17f-31d0e3eda8f7",
   "metadata": {},
   "outputs": [
    {
     "name": "stdout",
     "output_type": "stream",
     "text": [
      "True\n"
     ]
    }
   ],
   "source": [
    "#Check if the word `\"apple\"` is present in the string `\"I like apples and oranges\"`.\n",
    "text = \"I like apples and oranges\"\n",
    "word = \"apple\"\n",
    "is_present = word in text\n",
    "print(is_present)  "
   ]
  },
  {
   "cell_type": "code",
   "execution_count": 5,
   "id": "7145474a-f1af-4cf7-9818-97187112ac31",
   "metadata": {},
   "outputs": [
    {
     "name": "stdout",
     "output_type": "stream",
     "text": [
      "4\n"
     ]
    }
   ],
   "source": [
    "#Count the occurrences of the letter `\"i\"` in the string `\"Mississippi\"`.\n",
    "t=\"Mississippi\"\n",
    "l=\"i\"\n",
    "c=t.count(l)\n",
    "print(c)  "
   ]
  },
  {
   "cell_type": "code",
   "execution_count": 9,
   "id": "cbbe7178-1eb2-4db4-bc80-3be3186e194c",
   "metadata": {},
   "outputs": [
    {
     "name": "stdout",
     "output_type": "stream",
     "text": [
      "nohtyP\n"
     ]
    }
   ],
   "source": [
    "#Reverse the string `\"Python\"` using slicing.\n",
    "s=\"Python\"\n",
    "rev=s[::-1]\n",
    "print(rev)"
   ]
  },
  {
   "cell_type": "code",
   "execution_count": 13,
   "id": "d6b0f87b-e63c-433f-96c4-921710c048f2",
   "metadata": {},
   "outputs": [
    {
     "name": "stdout",
     "output_type": "stream",
     "text": [
      "Camry\n"
     ]
    }
   ],
   "source": [
    "#Create a dictionary representing a car with keys `\"make\"`, `\"model\"`, and `\"year\"`. Print the car's model.\n",
    "car = {\"make\": \"Toyota\",\"model\": \"Camry\",\"year\": 2020}\n",
    "print(car[\"model\"])  "
   ]
  },
  {
   "cell_type": "code",
   "execution_count": 15,
   "id": "7d53ad55-ca2a-4c11-86a7-c8114d35154f",
   "metadata": {},
   "outputs": [
    {
     "name": "stdout",
     "output_type": "stream",
     "text": [
      "\n",
      "Updated cars dictionary:\n",
      "{'car1': {'make': 'Toyota', 'model': 'Camry', 'year': 2021}, 'car2': {'make': 'Honda', 'model': 'Civic', 'year': 2019}}\n",
      "\n",
      "Make of car2: Honda\n"
     ]
    }
   ],
   "source": [
    "#Add a new car to the dictionary, modify the year of an existing car, and retrieve the make of a specific car.\n",
    "cars = {\"car1\": {\"make\": \"Toyota\",\"model\": \"Camry\",\"year\": 2020},\n",
    "         \"car2\": {\"make\": \"Honda\",\"model\": \"Civic\",\"year\": 2019}}\n",
    "cars[\"car1\"][\"year\"] = 2021\n",
    "c2= cars[\"car2\"][\"make\"]\n",
    "print(\"\\nUpdated cars dictionary:\")\n",
    "print(cars)\n",
    "print(\"\\nMake of car2:\",c2) "
   ]
  },
  {
   "cell_type": "code",
   "execution_count": 1,
   "id": "f62daa05-1d6d-40fa-926a-c586b238c808",
   "metadata": {},
   "outputs": [
    {
     "name": "stdout",
     "output_type": "stream",
     "text": [
      "15\n",
      "3\n"
     ]
    }
   ],
   "source": [
    "#Write a Python program that takes a list of numbers as input and prints the maximum and minimum values from that list.\n",
    "numbers=[10,5,8,15,3]\n",
    "print(max(numbers))\n",
    "print(min(numbers))"
   ]
  },
  {
   "cell_type": "code",
   "execution_count": 5,
   "id": "3d81f7e7-1248-439d-a971-c7a2113bfc7e",
   "metadata": {},
   "outputs": [
    {
     "data": {
      "text/plain": [
       "[2, 4, 6, 8, 10]"
      ]
     },
     "execution_count": 5,
     "metadata": {},
     "output_type": "execute_result"
    }
   ],
   "source": [
    "#Write a Python program that generates a list of even numbers from 2 to 10 using the range() function.\n",
    "l=[i for i in range(2,11) if i%2==0]\n",
    "l"
   ]
  },
  {
   "cell_type": "code",
   "execution_count": 9,
   "id": "500731ac-af2e-40d1-afd9-ae9214925dc1",
   "metadata": {},
   "outputs": [
    {
     "name": "stdin",
     "output_type": "stream",
     "text": [
      "Enter a list of numbers separated by commas:  1,2,8,7,6,5\n"
     ]
    },
    {
     "name": "stdout",
     "output_type": "stream",
     "text": [
      "Sorted list: ['1', '2', '5', '6', '7', '8']\n"
     ]
    }
   ],
   "source": [
    "#Write a Python program that takes a list of numbers as input, sorts the list in ascending order using the sorted() function, and prints the sorted list.\n",
    "def sort_numbers():  \n",
    "    input_numbers = input(\"Enter a list of numbers separated by commas: \")   \n",
    "    number_list = [num for num in input_numbers.split(',')]  \n",
    "    sorted_list = sorted(number_list)  \n",
    "    print(\"Sorted list:\", sorted_list)  \n",
    "sort_numbers()"
   ]
  },
  {
   "cell_type": "code",
   "execution_count": 11,
   "id": "a8be0fd0-c57a-4013-a85f-f6b908a9a73d",
   "metadata": {},
   "outputs": [
    {
     "name": "stdout",
     "output_type": "stream",
     "text": [
      "13\n"
     ]
    }
   ],
   "source": [
    "#Write a Python program that takes a string as input and prints the length of the string using the len() function.\n",
    "text=\"Hello, World!\"\n",
    "print(len(text))"
   ]
  },
  {
   "cell_type": "code",
   "execution_count": 13,
   "id": "ab864653-bcb1-4fa7-ba31-9fd913dff887",
   "metadata": {},
   "outputs": [
    {
     "name": "stdout",
     "output_type": "stream",
     "text": [
      "10\n"
     ]
    }
   ],
   "source": [
    "#Write a Python program that takes a number as input and prints its absolute value using the abs() function.\n",
    "num=-10\n",
    "print(abs(num))"
   ]
  },
  {
   "cell_type": "code",
   "execution_count": 19,
   "id": "ceed6518-8a59-4753-b45e-b5612e26df4d",
   "metadata": {},
   "outputs": [
    {
     "name": "stdout",
     "output_type": "stream",
     "text": [
      "All values are True: False\n",
      "At least one value is True: True\n"
     ]
    }
   ],
   "source": [
    "#Write a Python program that takes a list of boolean values as input and checks if all values are True using the all() function. Then, check if at least one value is True using the any() function.\n",
    "def check_boolean_list(boolean_list):\n",
    "    all_true = all(boolean_list)\n",
    "    any_true = any(boolean_list)\n",
    "    print(f\"All values are True: {all_true}\")\n",
    "    print(f\"At least one value is True: {any_true}\")\n",
    "bool_list = [True, True, False, True]\n",
    "check_boolean_list(bool_list)"
   ]
  }
 ],
 "metadata": {
  "kernelspec": {
   "display_name": "Python [conda env:base] *",
   "language": "python",
   "name": "conda-base-py"
  },
  "language_info": {
   "codemirror_mode": {
    "name": "ipython",
    "version": 3
   },
   "file_extension": ".py",
   "mimetype": "text/x-python",
   "name": "python",
   "nbconvert_exporter": "python",
   "pygments_lexer": "ipython3",
   "version": "3.12.7"
  }
 },
 "nbformat": 4,
 "nbformat_minor": 5
}
