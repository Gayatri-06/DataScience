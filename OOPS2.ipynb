{
 "cells": [
  {
   "cell_type": "code",
   "execution_count": 1,
   "id": "e60853e7-69fd-4b0e-989a-de292fef6128",
   "metadata": {},
   "outputs": [
    {
     "name": "stdout",
     "output_type": "stream",
     "text": [
      "Toyota Corolla 2020\n"
     ]
    }
   ],
   "source": [
    "class Car:\n",
    "    def __init__(self, brand, model, year):\n",
    "        self.brand = brand\n",
    "        self.model = model\n",
    "        self.year = year\n",
    "c1= Car(\"Toyota\", \"Corolla\", 2020)\n",
    "print(c1.brand,c1.model,c1.year)"
   ]
  },
  {
   "cell_type": "code",
   "execution_count": 3,
   "id": "31fd3e51-94d9-481d-b0f5-1457a0cba4a0",
   "metadata": {},
   "outputs": [
    {
     "name": "stdout",
     "output_type": "stream",
     "text": [
      "Toyota Corolla 2020\n"
     ]
    }
   ],
   "source": [
    "class Car:\n",
    "    def __init__(self, brand, model, year):\n",
    "        self.brand = brand\n",
    "        self.model = model\n",
    "        self.year = year\n",
    "my_car = Car(\"Toyota\", \"Corolla\", 2020)\n",
    "print(my_car.brand, my_car.model, my_car.year)"
   ]
  },
  {
   "cell_type": "code",
   "execution_count": 15,
   "id": "9be77a25-41de-41e7-b01d-f1d6518cb8de",
   "metadata": {},
   "outputs": [
    {
     "name": "stdout",
     "output_type": "stream",
     "text": [
      "Brand: Toyota, Model: Corolla, Year: 2020\n",
      "Brand: Honda, Model: Civic, Year: 2019\n",
      "Total cars: 2\n"
     ]
    }
   ],
   "source": [
    "class Car:\n",
    "    total_cars = 0 \n",
    "    def __init__(self, brand, model, year):\n",
    "        self.brand = brand\n",
    "        self.model = model\n",
    "        self.year = year\n",
    "        Car.total_cars += 1\n",
    "    def car_info(self):\n",
    "        print(f\"Brand: {self.brand}, Model: {self.model}, Year: {self.year}\")\n",
    "    @classmethod\n",
    "    def get_total_cars(cls):\n",
    "        return cls.total_cars\n",
    "car1 = Car(\"Toyota\", \"Corolla\", 2020)\n",
    "car2 = Car(\"Honda\", \"Civic\", 2019)\n",
    "car1.car_info()\n",
    "car2.car_info()\n",
    "print(\"Total cars:\", Car.get_total_cars())"
   ]
  },
  {
   "cell_type": "code",
   "execution_count": 9,
   "id": "e39d6f63-7075-4b0e-9979-5903bd45f3a5",
   "metadata": {},
   "outputs": [
    {
     "name": "stdout",
     "output_type": "stream",
     "text": [
      "Year: 2020\n",
      "Brand: Toyota, Model: Corolla, Year: 2021\n"
     ]
    }
   ],
   "source": [
    "class Car:\n",
    "    def __init__(self, brand, model, year):\n",
    "        self.brand = brand\n",
    "        self.model = model\n",
    "        self.__year = year  \n",
    "    def get_year(self):\n",
    "        return self.__year\n",
    "    def set_year(self, year):\n",
    "        if year > 0:\n",
    "            self.__year = year\n",
    "        else:\n",
    "            print(\"Invalid year\")\n",
    "    def car_info(self):\n",
    "        print(f\"Brand: {self.brand}, Model: {self.model}, Year: {self.__year}\")\n",
    "car = Car(\"Toyota\", \"Corolla\", 2020)\n",
    "print(\"Year:\", car.get_year())\n",
    "car.set_year(2021)\n",
    "car.car_info()"
   ]
  },
  {
   "cell_type": "code",
   "execution_count": 17,
   "id": "2ed01372-3536-4d0b-8c97-7cacac6277e8",
   "metadata": {},
   "outputs": [
    {
     "name": "stdout",
     "output_type": "stream",
     "text": [
      "Brand: Tesla, Model: Model S, Year: 2022\n",
      "Battery Capacity: 100 kWh\n"
     ]
    }
   ],
   "source": [
    "class Car:\n",
    "    def __init__(self, brand, model, year):\n",
    "        self.brand = brand\n",
    "        self.model = model\n",
    "        self.year = year\n",
    "    def car_info(self):\n",
    "        print(f\"Brand: {self.brand}, Model: {self.model}, Year: {self.year}\")\n",
    "class ElectricCar(Car):\n",
    "    def __init__(self, brand, model, year, battery_capacity):\n",
    "        super().__init__(brand, model, year)\n",
    "        self.battery_capacity = battery_capacity\n",
    "    def car_info(self):\n",
    "        super().car_info()\n",
    "        print(f\"Battery Capacity: {self.battery_capacity} kWh\")\n",
    "my_electric_car = ElectricCar(\"Tesla\", \"Model S\", 2022, 100)\n",
    "my_electric_car.car_info()"
   ]
  },
  {
   "cell_type": "code",
   "execution_count": 19,
   "id": "33956727-106e-457c-85e2-ff696fadc01f",
   "metadata": {},
   "outputs": [
    {
     "name": "stdout",
     "output_type": "stream",
     "text": [
      "Woof!\n",
      "Meow!\n"
     ]
    }
   ],
   "source": [
    "class Dog:\n",
    "    def make_sound(self):\n",
    "        print(\"Woof!\")\n",
    "class Cat:\n",
    "    def make_sound(self):\n",
    "        print(\"Meow!\")\n",
    "animals = [Dog(), Cat()]\n",
    "for animal in animals:\n",
    "    animal.make_sound()"
   ]
  },
  {
   "cell_type": "code",
   "execution_count": 21,
   "id": "2209b3b6-2f5b-4148-b99c-626ccbf7eac1",
   "metadata": {},
   "outputs": [
    {
     "name": "stdout",
     "output_type": "stream",
     "text": [
      "Bank Account Interest Rate: 5\n",
      "Savings Account Interest Rate: 7\n"
     ]
    }
   ],
   "source": [
    "class BankAccount:\n",
    "    def get_interest_rate(self):\n",
    "        return 5\n",
    "class SavingsAccount(BankAccount):\n",
    "    def get_interest_rate(self):\n",
    "        return 7\n",
    "account1 = BankAccount()\n",
    "account2 = SavingsAccount()\n",
    "print(\"Bank Account Interest Rate:\", account1.get_interest_rate())\n",
    "print(\"Savings Account Interest Rate:\", account2.get_interest_rate())"
   ]
  },
  {
   "cell_type": "code",
   "execution_count": 23,
   "id": "cc8454cf-650f-4706-9071-27a5f9865243",
   "metadata": {},
   "outputs": [
    {
     "name": "stdout",
     "output_type": "stream",
     "text": [
      "Circle Area: 78.5\n",
      "Rectangle Area: 24\n"
     ]
    }
   ],
   "source": [
    "from abc import ABC, abstractmethod\n",
    "class Shape(ABC):\n",
    "    @abstractmethod\n",
    "    def area(self):\n",
    "        pass\n",
    "class Circle(Shape):\n",
    "    def __init__(self, radius):\n",
    "        self.radius = radius\n",
    "    def area(self):\n",
    "        return 3.14 * self.radius * self.radius\n",
    "class Rectangle(Shape):\n",
    "    def __init__(self, width, height):\n",
    "        self.width = width\n",
    "        self.height = height\n",
    "    def area(self):\n",
    "        return self.width * self.height\n",
    "circle = Circle(5)\n",
    "rectangle = Rectangle(4, 6)\n",
    "print(\"Circle Area:\", circle.area())\n",
    "print(\"Rectangle Area:\", rectangle.area())"
   ]
  },
  {
   "cell_type": "code",
   "execution_count": 25,
   "id": "a5bfe7b7-f60e-4aae-a196-a4a4e4caa58e",
   "metadata": {},
   "outputs": [
    {
     "name": "stdout",
     "output_type": "stream",
     "text": [
      "Vector(6, 8)\n"
     ]
    }
   ],
   "source": [
    "class Vector:\n",
    "    def __init__(self, x, y):\n",
    "        self.x = x\n",
    "        self.y = y\n",
    "    def __add__(self, other):\n",
    "        return Vector(self.x + other.x, self.y + other.y)\n",
    "    def __str__(self):\n",
    "        return f\"Vector({self.x}, {self.y})\"\n",
    "v1 = Vector(2, 3)\n",
    "v2 = Vector(4, 5)\n",
    "v3 = v1 + v2\n",
    "print(v3)"
   ]
  },
  {
   "cell_type": "code",
   "execution_count": null,
   "id": "f03a0616-a42b-4dec-b598-4150ad6b7b6f",
   "metadata": {},
   "outputs": [],
   "source": []
  }
 ],
 "metadata": {
  "kernelspec": {
   "display_name": "Python [conda env:base] *",
   "language": "python",
   "name": "conda-base-py"
  },
  "language_info": {
   "codemirror_mode": {
    "name": "ipython",
    "version": 3
   },
   "file_extension": ".py",
   "mimetype": "text/x-python",
   "name": "python",
   "nbconvert_exporter": "python",
   "pygments_lexer": "ipython3",
   "version": "3.12.7"
  }
 },
 "nbformat": 4,
 "nbformat_minor": 5
}
