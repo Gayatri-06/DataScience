{
 "cells": [
  {
   "cell_type": "code",
   "execution_count": 3,
   "id": "2bd61e3f-a04a-4a26-92cf-7268c21a64bc",
   "metadata": {},
   "outputs": [],
   "source": [
    "import numpy as np"
   ]
  },
  {
   "cell_type": "code",
   "execution_count": 5,
   "id": "e06728bc-5b49-4953-b693-1abdf1f1a66c",
   "metadata": {},
   "outputs": [
    {
     "data": {
      "text/plain": [
       "array([1, 2, 3, 4, 5])"
      ]
     },
     "execution_count": 5,
     "metadata": {},
     "output_type": "execute_result"
    }
   ],
   "source": [
    "l=[1,2,3,4,5]\n",
    "np.array(l)"
   ]
  },
  {
   "cell_type": "code",
   "execution_count": 7,
   "id": "f9b92eb0-d3db-41aa-9157-6e1006bafe69",
   "metadata": {},
   "outputs": [],
   "source": [
    "l1=[4,5,6,7,\"aimnxt\",34.565,True]"
   ]
  },
  {
   "cell_type": "code",
   "execution_count": 9,
   "id": "57a02d6f-26c7-4e51-ae5d-90e27e380364",
   "metadata": {},
   "outputs": [
    {
     "data": {
      "text/plain": [
       "array(['4', '5', '6', '7', 'aimnxt', '34.565', 'True'], dtype='<U32')"
      ]
     },
     "execution_count": 9,
     "metadata": {},
     "output_type": "execute_result"
    }
   ],
   "source": [
    "a1=np.array(l1)\n",
    "a1"
   ]
  },
  {
   "cell_type": "code",
   "execution_count": 11,
   "id": "b0dd90a0-ac91-4131-b499-c62879a0c0f3",
   "metadata": {},
   "outputs": [
    {
     "data": {
      "text/plain": [
       "array([[1, 2, 3],\n",
       "       [4, 5, 6]])"
      ]
     },
     "execution_count": 11,
     "metadata": {},
     "output_type": "execute_result"
    }
   ],
   "source": [
    "a2=np.array([[1,2,3],[4,5,6]])\n",
    "a2"
   ]
  },
  {
   "cell_type": "code",
   "execution_count": 13,
   "id": "178d2bc8-f848-4dc5-84ba-5ce11f9bd949",
   "metadata": {},
   "outputs": [
    {
     "data": {
      "text/plain": [
       "array([[[1, 2, 3],\n",
       "        [4, 5, 6],\n",
       "        [7, 8, 9]]])"
      ]
     },
     "execution_count": 13,
     "metadata": {},
     "output_type": "execute_result"
    }
   ],
   "source": [
    "a3=np.array([[[1,2,3],[4,5,6],[7,8,9]]])\n",
    "a3"
   ]
  },
  {
   "cell_type": "code",
   "execution_count": 15,
   "id": "eec3bdac-0e42-4ded-aab3-e0f602124e5f",
   "metadata": {},
   "outputs": [
    {
     "data": {
      "text/plain": [
       "1"
      ]
     },
     "execution_count": 15,
     "metadata": {},
     "output_type": "execute_result"
    }
   ],
   "source": [
    "a1.ndim"
   ]
  },
  {
   "cell_type": "code",
   "execution_count": 17,
   "id": "573a140f-4700-4a36-88cf-74ed0f921b92",
   "metadata": {},
   "outputs": [
    {
     "data": {
      "text/plain": [
       "2"
      ]
     },
     "execution_count": 17,
     "metadata": {},
     "output_type": "execute_result"
    }
   ],
   "source": [
    "a2.ndim"
   ]
  },
  {
   "cell_type": "code",
   "execution_count": 19,
   "id": "67f18bbd-16b8-4558-b92e-752cfa5f65b9",
   "metadata": {},
   "outputs": [
    {
     "data": {
      "text/plain": [
       "3"
      ]
     },
     "execution_count": 19,
     "metadata": {},
     "output_type": "execute_result"
    }
   ],
   "source": [
    "a3.ndim"
   ]
  },
  {
   "cell_type": "code",
   "execution_count": 21,
   "id": "34da88cb-89ea-4c0a-b035-3db825bf206b",
   "metadata": {},
   "outputs": [
    {
     "data": {
      "text/plain": [
       "7"
      ]
     },
     "execution_count": 21,
     "metadata": {},
     "output_type": "execute_result"
    }
   ],
   "source": [
    "a1.size"
   ]
  },
  {
   "cell_type": "code",
   "execution_count": 23,
   "id": "2020ae98-ba8a-48ec-81b7-63883348e570",
   "metadata": {},
   "outputs": [
    {
     "data": {
      "text/plain": [
       "6"
      ]
     },
     "execution_count": 23,
     "metadata": {},
     "output_type": "execute_result"
    }
   ],
   "source": [
    "a2.size"
   ]
  },
  {
   "cell_type": "code",
   "execution_count": 25,
   "id": "66a69753-3508-495b-ade9-ba398defbcee",
   "metadata": {},
   "outputs": [
    {
     "data": {
      "text/plain": [
       "9"
      ]
     },
     "execution_count": 25,
     "metadata": {},
     "output_type": "execute_result"
    }
   ],
   "source": [
    "a3.size"
   ]
  },
  {
   "cell_type": "code",
   "execution_count": 27,
   "id": "35df3f35-ac15-441c-b2c6-9e0441968f7e",
   "metadata": {},
   "outputs": [
    {
     "data": {
      "text/plain": [
       "(7,)"
      ]
     },
     "execution_count": 27,
     "metadata": {},
     "output_type": "execute_result"
    }
   ],
   "source": [
    "a1.shape"
   ]
  },
  {
   "cell_type": "code",
   "execution_count": 29,
   "id": "d9ca3846-c427-42c6-8201-9c5a4afa8fe5",
   "metadata": {},
   "outputs": [
    {
     "data": {
      "text/plain": [
       "(2, 3)"
      ]
     },
     "execution_count": 29,
     "metadata": {},
     "output_type": "execute_result"
    }
   ],
   "source": [
    "a2.shape"
   ]
  },
  {
   "cell_type": "code",
   "execution_count": 31,
   "id": "ae389b52-2764-4a5c-a6d8-aa15d0b41516",
   "metadata": {},
   "outputs": [
    {
     "data": {
      "text/plain": [
       "(1, 3, 3)"
      ]
     },
     "execution_count": 31,
     "metadata": {},
     "output_type": "execute_result"
    }
   ],
   "source": [
    "a3.shape"
   ]
  },
  {
   "cell_type": "code",
   "execution_count": 33,
   "id": "8d2a50f1-8b9c-4e9c-9c13-bda755d15311",
   "metadata": {},
   "outputs": [
    {
     "data": {
      "text/plain": [
       "3"
      ]
     },
     "execution_count": 33,
     "metadata": {},
     "output_type": "execute_result"
    }
   ],
   "source": [
    "a=np.random.randint(2,50,(2,3,4))\n",
    "a.ndim"
   ]
  },
  {
   "cell_type": "code",
   "execution_count": 35,
   "id": "1a077f56-3145-4189-9b32-82093e4fff45",
   "metadata": {},
   "outputs": [
    {
     "data": {
      "text/plain": [
       "array([[[2, 9, 3],\n",
       "        [2, 7, 8],\n",
       "        [8, 2, 5],\n",
       "        [8, 6, 9]]])"
      ]
     },
     "execution_count": 35,
     "metadata": {},
     "output_type": "execute_result"
    }
   ],
   "source": [
    "np.random.randint(1,10,(1,4,3))"
   ]
  },
  {
   "cell_type": "code",
   "execution_count": 37,
   "id": "be8384c2-1ffc-4854-8a14-aa6107cd79c0",
   "metadata": {},
   "outputs": [
    {
     "data": {
      "text/plain": [
       "array([[[45, 41, 80, 32, 60, 31],\n",
       "        [74, 62, 68, 15, 44, 81],\n",
       "        [57, 71, 15, 67, 21,  6],\n",
       "        [59, 95,  3, 89, 77, 61],\n",
       "        [78, 16, 79, 70, 94, 88]],\n",
       "\n",
       "       [[ 2, 64, 59, 99, 63, 53],\n",
       "        [75, 33, 62, 32, 18, 36],\n",
       "        [58,  4, 57, 12, 12, 17],\n",
       "        [55, 87, 82, 49, 53, 61],\n",
       "        [59, 50, 81,  2, 59,  6]],\n",
       "\n",
       "       [[47, 15, 98, 65, 31, 46],\n",
       "        [78,  7, 84, 98, 93, 24],\n",
       "        [62, 42, 47, 60, 50, 67],\n",
       "        [23, 95, 58, 76, 21, 56],\n",
       "        [60, 66, 87, 36, 24,  6]]])"
      ]
     },
     "execution_count": 37,
     "metadata": {},
     "output_type": "execute_result"
    }
   ],
   "source": [
    "np.random.randint(2,100,(3,5,6))"
   ]
  },
  {
   "cell_type": "code",
   "execution_count": 39,
   "id": "d0335c44-63b5-40d7-b6fa-3dfa6dd3983a",
   "metadata": {},
   "outputs": [
    {
     "data": {
      "text/plain": [
       "array([[0.55969845, 0.22584226, 0.26442633],\n",
       "       [0.817135  , 0.11012234, 0.7017427 ],\n",
       "       [0.93973326, 0.63103425, 0.14379699]])"
      ]
     },
     "execution_count": 39,
     "metadata": {},
     "output_type": "execute_result"
    }
   ],
   "source": [
    "np.random.rand(3,3)"
   ]
  },
  {
   "cell_type": "code",
   "execution_count": 41,
   "id": "d6aa7936-4d8b-4367-9de9-ddc0db14a46c",
   "metadata": {},
   "outputs": [
    {
     "data": {
      "text/plain": [
       "array([[ 1.18365802,  0.57407244,  2.40434495],\n",
       "       [ 0.39534982, -0.43102556,  0.45193565],\n",
       "       [ 0.02516711, -1.15447794,  1.12735697],\n",
       "       [ 0.71847432,  0.46274937,  1.84586112]])"
      ]
     },
     "execution_count": 41,
     "metadata": {},
     "output_type": "execute_result"
    }
   ],
   "source": [
    "a4=np.random.randn(4,3)\n",
    "a4"
   ]
  },
  {
   "cell_type": "code",
   "execution_count": 43,
   "id": "4486e9d4-add3-4000-b110-5239195c4788",
   "metadata": {},
   "outputs": [
    {
     "data": {
      "text/plain": [
       "array([[ 1.18365802,  0.57407244,  2.40434495,  0.39534982],\n",
       "       [-0.43102556,  0.45193565,  0.02516711, -1.15447794],\n",
       "       [ 1.12735697,  0.71847432,  0.46274937,  1.84586112]])"
      ]
     },
     "execution_count": 43,
     "metadata": {},
     "output_type": "execute_result"
    }
   ],
   "source": [
    "a4.reshape(3,4)"
   ]
  },
  {
   "cell_type": "code",
   "execution_count": 45,
   "id": "6f8f536f-2846-459e-b9c9-8b78ddef2ebe",
   "metadata": {},
   "outputs": [
    {
     "data": {
      "text/plain": [
       "array([1.18365802, 0.57407244, 2.40434495])"
      ]
     },
     "execution_count": 45,
     "metadata": {},
     "output_type": "execute_result"
    }
   ],
   "source": [
    "a4[0]"
   ]
  },
  {
   "cell_type": "code",
   "execution_count": 47,
   "id": "12011c22-aa76-4f19-bada-0d505f4157c2",
   "metadata": {},
   "outputs": [
    {
     "data": {
      "text/plain": [
       "'aimnxt'"
      ]
     },
     "execution_count": 47,
     "metadata": {},
     "output_type": "execute_result"
    }
   ],
   "source": [
    "a1[4]"
   ]
  },
  {
   "cell_type": "code",
   "execution_count": 49,
   "id": "ca4a95aa-3995-4e39-9fa0-8a5a7e189e86",
   "metadata": {},
   "outputs": [
    {
     "data": {
      "text/plain": [
       "'True'"
      ]
     },
     "execution_count": 49,
     "metadata": {},
     "output_type": "execute_result"
    }
   ],
   "source": [
    "a1[6]"
   ]
  },
  {
   "cell_type": "code",
   "execution_count": 51,
   "id": "806a4a87-6a84-4350-8242-67598c617bbe",
   "metadata": {},
   "outputs": [
    {
     "data": {
      "text/plain": [
       "array(['6', '7', 'aimnxt', '34.565'], dtype='<U32')"
      ]
     },
     "execution_count": 51,
     "metadata": {},
     "output_type": "execute_result"
    }
   ],
   "source": [
    "a1[2:6]"
   ]
  },
  {
   "cell_type": "code",
   "execution_count": 53,
   "id": "b5278c9f-47a1-4fc1-a70b-2c7c84f4c342",
   "metadata": {},
   "outputs": [
    {
     "data": {
      "text/plain": [
       "array(['6', 'aimnxt'], dtype='<U32')"
      ]
     },
     "execution_count": 53,
     "metadata": {},
     "output_type": "execute_result"
    }
   ],
   "source": [
    "a1[2:6:2]"
   ]
  },
  {
   "cell_type": "code",
   "execution_count": 55,
   "id": "41ce6b2e-4f8f-4acc-ab9f-cfc2ffc60995",
   "metadata": {},
   "outputs": [
    {
     "data": {
      "text/plain": [
       "array(['True', '34.565', 'aimnxt', '7', '6', '5', '4'], dtype='<U32')"
      ]
     },
     "execution_count": 55,
     "metadata": {},
     "output_type": "execute_result"
    }
   ],
   "source": [
    "a1[::-1]"
   ]
  },
  {
   "cell_type": "code",
   "execution_count": 57,
   "id": "1751418c-17dd-4c55-bd72-0df07dceda35",
   "metadata": {},
   "outputs": [
    {
     "data": {
      "text/plain": [
       "array([[1, 2, 3],\n",
       "       [4, 5, 6]])"
      ]
     },
     "execution_count": 57,
     "metadata": {},
     "output_type": "execute_result"
    }
   ],
   "source": [
    "a2"
   ]
  },
  {
   "cell_type": "code",
   "execution_count": 59,
   "id": "eb43d1cf-b339-4919-ae2a-4652807e13ed",
   "metadata": {},
   "outputs": [
    {
     "data": {
      "text/plain": [
       "array([[2, 3],\n",
       "       [5, 6]])"
      ]
     },
     "execution_count": 59,
     "metadata": {},
     "output_type": "execute_result"
    }
   ],
   "source": [
    "a2[:,1:]"
   ]
  },
  {
   "cell_type": "code",
   "execution_count": 61,
   "id": "8d9cc1c7-0b0d-49e9-93cb-5ffd38659c99",
   "metadata": {},
   "outputs": [
    {
     "data": {
      "text/plain": [
       "array([[2, 3],\n",
       "       [5, 6]])"
      ]
     },
     "execution_count": 61,
     "metadata": {},
     "output_type": "execute_result"
    }
   ],
   "source": [
    "a2[[0,1],1:]"
   ]
  },
  {
   "cell_type": "code",
   "execution_count": 104,
   "id": "bc17a6fb-a2c1-4578-af98-1a62bc91fd80",
   "metadata": {},
   "outputs": [
    {
     "data": {
      "text/plain": [
       "array([[55, 35, 39, 34, 52],\n",
       "       [27, 35, 85, 63, 66],\n",
       "       [10, 38, 26, 51, 57],\n",
       "       [45, 55, 10, 16, 36],\n",
       "       [64, 47, 69, 40, 43],\n",
       "       [84, 22, 68, 79,  6]])"
      ]
     },
     "execution_count": 104,
     "metadata": {},
     "output_type": "execute_result"
    }
   ],
   "source": [
    "a5=np.random.randint(2,90,(6,5))\n",
    "a5"
   ]
  },
  {
   "cell_type": "code",
   "execution_count": 65,
   "id": "04e47a60-03f2-4154-a785-9889a92dc9b5",
   "metadata": {},
   "outputs": [
    {
     "data": {
      "text/plain": [
       "array([69, 73, 44, 62, 43, 80, 50, 68, 45, 79, 59, 76, 68, 67, 51, 87, 80,\n",
       "       86])"
      ]
     },
     "execution_count": 65,
     "metadata": {},
     "output_type": "execute_result"
    }
   ],
   "source": [
    "a5[a5>40]"
   ]
  },
  {
   "cell_type": "code",
   "execution_count": 67,
   "id": "b65dd8cb-1aad-478a-9791-93656f900a24",
   "metadata": {},
   "outputs": [
    {
     "data": {
      "text/plain": [
       "array([69, 73, 62, 80, 68, 79, 76, 68, 67, 87, 80, 86])"
      ]
     },
     "execution_count": 67,
     "metadata": {},
     "output_type": "execute_result"
    }
   ],
   "source": [
    "a5[a5>60]"
   ]
  },
  {
   "cell_type": "code",
   "execution_count": 69,
   "id": "6ae24e2b-c6cf-4b7f-90b2-82fb9b03f4c2",
   "metadata": {},
   "outputs": [],
   "source": [
    "a5[0,1]=100"
   ]
  },
  {
   "cell_type": "code",
   "execution_count": 71,
   "id": "246972a8-0d8c-4239-ae2f-3c2e6c5072b3",
   "metadata": {},
   "outputs": [
    {
     "data": {
      "text/plain": [
       "array([[ 69, 100,  44,   6,  24],\n",
       "       [ 62,   4,  43,  33,  27],\n",
       "       [ 18,  23,  80,  16,  50],\n",
       "       [ 68,  19,  45,  79,  59],\n",
       "       [ 13,  76,  68,  17,  67],\n",
       "       [ 51,  87,  80,  86,   8]])"
      ]
     },
     "execution_count": 71,
     "metadata": {},
     "output_type": "execute_result"
    }
   ],
   "source": [
    "a5"
   ]
  },
  {
   "cell_type": "code",
   "execution_count": 73,
   "id": "9b68acd6-c281-41f5-9def-4c481843b4da",
   "metadata": {},
   "outputs": [],
   "source": [
    "a5[2,3]=100"
   ]
  },
  {
   "cell_type": "code",
   "execution_count": 75,
   "id": "ee92265e-01a3-4e1f-8433-f521b6c84eb0",
   "metadata": {},
   "outputs": [
    {
     "data": {
      "text/plain": [
       "array([[ 69, 100,  44,   6,  24],\n",
       "       [ 62,   4,  43,  33,  27],\n",
       "       [ 18,  23,  80, 100,  50],\n",
       "       [ 68,  19,  45,  79,  59],\n",
       "       [ 13,  76,  68,  17,  67],\n",
       "       [ 51,  87,  80,  86,   8]])"
      ]
     },
     "execution_count": 75,
     "metadata": {},
     "output_type": "execute_result"
    }
   ],
   "source": [
    "a5"
   ]
  },
  {
   "cell_type": "code",
   "execution_count": 112,
   "id": "5c749069-320f-478f-a185-db324f0e319e",
   "metadata": {},
   "outputs": [],
   "source": [
    "a6=np.random.randint(0,3,(3,3))"
   ]
  },
  {
   "cell_type": "code",
   "execution_count": 114,
   "id": "776fed63-aa67-4b14-ae18-abbe3883e886",
   "metadata": {},
   "outputs": [
    {
     "data": {
      "text/plain": [
       "array([[2, 0, 1],\n",
       "       [0, 1, 0],\n",
       "       [0, 2, 0]])"
      ]
     },
     "execution_count": 114,
     "metadata": {},
     "output_type": "execute_result"
    }
   ],
   "source": [
    "a6"
   ]
  },
  {
   "cell_type": "code",
   "execution_count": 120,
   "id": "8ccc5411-92c3-45c1-9afc-9d4b16f594d0",
   "metadata": {},
   "outputs": [
    {
     "data": {
      "text/plain": [
       "array([[0, 2, 2],\n",
       "       [1, 0, 2],\n",
       "       [0, 2, 1]])"
      ]
     },
     "execution_count": 120,
     "metadata": {},
     "output_type": "execute_result"
    }
   ],
   "source": [
    "a7=np.random.randint(0,3,(3,3))\n",
    "a7"
   ]
  },
  {
   "cell_type": "code",
   "execution_count": 124,
   "id": "b9142c5a-47a9-441d-92a8-6a026946d1d5",
   "metadata": {},
   "outputs": [
    {
     "data": {
      "text/plain": [
       "array([[0, 0, 2],\n",
       "       [0, 0, 0],\n",
       "       [0, 4, 0]])"
      ]
     },
     "execution_count": 124,
     "metadata": {},
     "output_type": "execute_result"
    }
   ],
   "source": [
    "a6*a7"
   ]
  },
  {
   "cell_type": "code",
   "execution_count": 126,
   "id": "2e485fc4-71d8-4f14-b4e2-65b5541e0cec",
   "metadata": {},
   "outputs": [
    {
     "data": {
      "text/plain": [
       "array([[0, 6, 5],\n",
       "       [1, 0, 2],\n",
       "       [2, 0, 4]])"
      ]
     },
     "execution_count": 126,
     "metadata": {},
     "output_type": "execute_result"
    }
   ],
   "source": [
    "a6@a7"
   ]
  },
  {
   "cell_type": "code",
   "execution_count": 87,
   "id": "1a19bc6f-c21b-41a1-9b21-725ac07b575f",
   "metadata": {},
   "outputs": [
    {
     "name": "stderr",
     "output_type": "stream",
     "text": [
      "C:\\Users\\lenovo\\AppData\\Local\\Temp\\ipykernel_4012\\1058679823.py:1: RuntimeWarning: divide by zero encountered in divide\n",
      "  a6/0\n",
      "C:\\Users\\lenovo\\AppData\\Local\\Temp\\ipykernel_4012\\1058679823.py:1: RuntimeWarning: invalid value encountered in divide\n",
      "  a6/0\n"
     ]
    },
    {
     "data": {
      "text/plain": [
       "array([[inf, nan, inf],\n",
       "       [inf, inf, inf],\n",
       "       [nan, inf, nan]])"
      ]
     },
     "execution_count": 87,
     "metadata": {},
     "output_type": "execute_result"
    }
   ],
   "source": [
    "a6/0"
   ]
  },
  {
   "cell_type": "code",
   "execution_count": 118,
   "id": "b55f31d5-da19-4227-99bf-71f77d38d26b",
   "metadata": {},
   "outputs": [
    {
     "data": {
      "text/plain": [
       "array([[4, 0, 2],\n",
       "       [0, 2, 0],\n",
       "       [0, 4, 0]])"
      ]
     },
     "execution_count": 118,
     "metadata": {},
     "output_type": "execute_result"
    }
   ],
   "source": [
    "a6*2"
   ]
  },
  {
   "cell_type": "code",
   "execution_count": 116,
   "id": "33b3c3f1-bebd-4a37-9fa4-ea59585c1166",
   "metadata": {},
   "outputs": [
    {
     "data": {
      "text/plain": [
       "array([[8, 0, 1],\n",
       "       [0, 1, 0],\n",
       "       [0, 8, 0]], dtype=int32)"
      ]
     },
     "execution_count": 116,
     "metadata": {},
     "output_type": "execute_result"
    }
   ],
   "source": [
    "a6**3"
   ]
  },
  {
   "cell_type": "code",
   "execution_count": 93,
   "id": "2cf96a11-6e3b-4fa5-88cf-5c0595df5075",
   "metadata": {},
   "outputs": [
    {
     "data": {
      "text/plain": [
       "array([[0, 0, 1],\n",
       "       [0, 1, 1],\n",
       "       [0, 1, 0]], dtype=int32)"
      ]
     },
     "execution_count": 93,
     "metadata": {},
     "output_type": "execute_result"
    }
   ],
   "source": [
    "a6**100"
   ]
  },
  {
   "cell_type": "code",
   "execution_count": 95,
   "id": "2e599794-0528-420a-9a40-cc065f703c94",
   "metadata": {},
   "outputs": [],
   "source": [
    "a8=np.zeros((4,4))"
   ]
  },
  {
   "cell_type": "code",
   "execution_count": 97,
   "id": "5171473a-32cc-41fb-b5ea-91e7b2ea4249",
   "metadata": {},
   "outputs": [
    {
     "data": {
      "text/plain": [
       "array([[0., 0., 0., 0.],\n",
       "       [0., 0., 0., 0.],\n",
       "       [0., 0., 0., 0.],\n",
       "       [0., 0., 0., 0.]])"
      ]
     },
     "execution_count": 97,
     "metadata": {},
     "output_type": "execute_result"
    }
   ],
   "source": [
    "a8"
   ]
  },
  {
   "cell_type": "code",
   "execution_count": 106,
   "id": "f21dd626-dcc5-4568-945b-ad76ab7468a4",
   "metadata": {},
   "outputs": [],
   "source": [
    "a5[2,2]=1000"
   ]
  },
  {
   "cell_type": "code",
   "execution_count": 108,
   "id": "21198b7f-5353-4674-9c44-5f593b00e510",
   "metadata": {},
   "outputs": [
    {
     "data": {
      "text/plain": [
       "array([[  55,   35,   39,   34,   52],\n",
       "       [  27,   35,   85,   63,   66],\n",
       "       [  10,   38, 1000,   51,   57],\n",
       "       [  45,   55,   10,   16,   36],\n",
       "       [  64,   47,   69,   40,   43],\n",
       "       [  84,   22,   68,   79,    6]])"
      ]
     },
     "execution_count": 108,
     "metadata": {},
     "output_type": "execute_result"
    }
   ],
   "source": [
    "a5"
   ]
  },
  {
   "cell_type": "code",
   "execution_count": 110,
   "id": "e88fa17d-c52a-40f4-be1f-51e4af1e9456",
   "metadata": {},
   "outputs": [
    {
     "data": {
      "text/plain": [
       "array([[  55,   35,   39,   34,   52],\n",
       "       [  27,   35,   85,   63,   66],\n",
       "       [  10,   38, 1000,   51,   57],\n",
       "       [  45, 1000,   10,   16,   36],\n",
       "       [  64,   47,   69,   40,   43],\n",
       "       [  84,   22,   68,   79,    6]])"
      ]
     },
     "execution_count": 110,
     "metadata": {},
     "output_type": "execute_result"
    }
   ],
   "source": [
    "a5[3,1]=1000\n",
    "a5"
   ]
  },
  {
   "cell_type": "code",
   "execution_count": 134,
   "id": "797e3b60-ca42-4894-9ab7-80c06f30ce54",
   "metadata": {},
   "outputs": [],
   "source": [
    "a9=np.ones((4,5))"
   ]
  },
  {
   "cell_type": "code",
   "execution_count": 136,
   "id": "38b7bdf4-0f58-4072-8ba1-786f1f862240",
   "metadata": {},
   "outputs": [
    {
     "data": {
      "text/plain": [
       "array([[1., 1., 1., 1., 1.],\n",
       "       [1., 1., 1., 1., 1.],\n",
       "       [1., 1., 1., 1., 1.],\n",
       "       [1., 1., 1., 1., 1.]])"
      ]
     },
     "execution_count": 136,
     "metadata": {},
     "output_type": "execute_result"
    }
   ],
   "source": [
    "a9"
   ]
  },
  {
   "cell_type": "code",
   "execution_count": 138,
   "id": "3d72192a-e8a8-4fee-b724-fe3d9ac96066",
   "metadata": {},
   "outputs": [
    {
     "data": {
      "text/plain": [
       "array([[11., 11., 11., 11., 11.],\n",
       "       [11., 11., 11., 11., 11.],\n",
       "       [11., 11., 11., 11., 11.],\n",
       "       [11., 11., 11., 11., 11.]])"
      ]
     },
     "execution_count": 138,
     "metadata": {},
     "output_type": "execute_result"
    }
   ],
   "source": [
    "a9+10"
   ]
  },
  {
   "cell_type": "code",
   "execution_count": 140,
   "id": "7d928659-a81b-4d52-ba0e-fb5a7d578ca8",
   "metadata": {},
   "outputs": [
    {
     "data": {
      "text/plain": [
       "array([[2., 3., 4., 5., 6.],\n",
       "       [2., 3., 4., 5., 6.],\n",
       "       [2., 3., 4., 5., 6.],\n",
       "       [2., 3., 4., 5., 6.]])"
      ]
     },
     "execution_count": 140,
     "metadata": {},
     "output_type": "execute_result"
    }
   ],
   "source": [
    "a9+np.array([1,2,3,4,5])"
   ]
  },
  {
   "cell_type": "code",
   "execution_count": 142,
   "id": "1af386e5-f1a0-4747-9a69-4375e850654d",
   "metadata": {},
   "outputs": [
    {
     "data": {
      "text/plain": [
       "array([1, 2, 3, 4, 5])"
      ]
     },
     "execution_count": 142,
     "metadata": {},
     "output_type": "execute_result"
    }
   ],
   "source": [
    "np.array([1,2,3,4,5])"
   ]
  },
  {
   "cell_type": "code",
   "execution_count": 146,
   "id": "0534ef95-6a72-486d-be91-8002909b690b",
   "metadata": {},
   "outputs": [
    {
     "data": {
      "text/plain": [
       "array([[1],\n",
       "       [2],\n",
       "       [3],\n",
       "       [4],\n",
       "       [5]])"
      ]
     },
     "execution_count": 146,
     "metadata": {},
     "output_type": "execute_result"
    }
   ],
   "source": [
    "np.array([[1,2,3,4,5]]).T"
   ]
  },
  {
   "cell_type": "markdown",
   "id": "40b126bb-c653-4279-b5c8-5ebd93f72cf4",
   "metadata": {},
   "source": [
    "### column wise broadcasting\n"
   ]
  },
  {
   "cell_type": "code",
   "execution_count": 149,
   "id": "153c13b3-93e5-4246-84b3-672528cc0760",
   "metadata": {},
   "outputs": [
    {
     "data": {
      "text/plain": [
       "array([[2., 2., 2., 2., 2.],\n",
       "       [3., 3., 3., 3., 3.],\n",
       "       [4., 4., 4., 4., 4.],\n",
       "       [5., 5., 5., 5., 5.]])"
      ]
     },
     "execution_count": 149,
     "metadata": {},
     "output_type": "execute_result"
    }
   ],
   "source": [
    "np.array([[1,2,3,4]]).T+a9"
   ]
  },
  {
   "cell_type": "code",
   "execution_count": 151,
   "id": "cd67d36a-ab17-4c79-97bd-1bd2b5740cbd",
   "metadata": {},
   "outputs": [
    {
     "data": {
      "text/plain": [
       "array([[  55,   35,   39,   34,   52],\n",
       "       [  27,   35,   85,   63,   66],\n",
       "       [  10,   38, 1000,   51,   57],\n",
       "       [  45, 1000,   10,   16,   36],\n",
       "       [  64,   47,   69,   40,   43],\n",
       "       [  84,   22,   68,   79,    6]])"
      ]
     },
     "execution_count": 151,
     "metadata": {},
     "output_type": "execute_result"
    }
   ],
   "source": [
    "a5"
   ]
  },
  {
   "cell_type": "code",
   "execution_count": 153,
   "id": "59fd88e0-c840-4849-b704-9300374f886a",
   "metadata": {},
   "outputs": [
    {
     "data": {
      "text/plain": [
       "array([[ 7.41619849,  5.91607978,  6.244998  ,  5.83095189,  7.21110255],\n",
       "       [ 5.19615242,  5.91607978,  9.21954446,  7.93725393,  8.1240384 ],\n",
       "       [ 3.16227766,  6.164414  , 31.6227766 ,  7.14142843,  7.54983444],\n",
       "       [ 6.70820393, 31.6227766 ,  3.16227766,  4.        ,  6.        ],\n",
       "       [ 8.        ,  6.8556546 ,  8.30662386,  6.32455532,  6.55743852],\n",
       "       [ 9.16515139,  4.69041576,  8.24621125,  8.88819442,  2.44948974]])"
      ]
     },
     "execution_count": 153,
     "metadata": {},
     "output_type": "execute_result"
    }
   ],
   "source": [
    "np.sqrt(a5)"
   ]
  },
  {
   "cell_type": "code",
   "execution_count": 155,
   "id": "bae1d714-7939-48e6-979b-c0ad1ae16cd7",
   "metadata": {},
   "outputs": [
    {
     "name": "stderr",
     "output_type": "stream",
     "text": [
      "C:\\Users\\lenovo\\AppData\\Local\\Temp\\ipykernel_4012\\252965343.py:1: RuntimeWarning: overflow encountered in exp\n",
      "  np.exp(a5)\n"
     ]
    },
    {
     "data": {
      "text/plain": [
       "array([[7.69478527e+23, 1.58601345e+15, 8.65934004e+16, 5.83461743e+14,\n",
       "        3.83100800e+22],\n",
       "       [5.32048241e+11, 1.58601345e+15, 8.22301271e+36, 2.29378316e+27,\n",
       "        4.60718663e+28],\n",
       "       [2.20264658e+04, 3.18559318e+16,            inf, 1.40934908e+22,\n",
       "        5.68572000e+24],\n",
       "       [3.49342711e+19,            inf, 2.20264658e+04, 8.88611052e+06,\n",
       "        4.31123155e+15],\n",
       "       [6.23514908e+27, 2.58131289e+20, 9.25378173e+29, 2.35385267e+17,\n",
       "        4.72783947e+18],\n",
       "       [3.02507732e+36, 3.58491285e+09, 3.40427605e+29, 2.03828107e+34,\n",
       "        4.03428793e+02]])"
      ]
     },
     "execution_count": 155,
     "metadata": {},
     "output_type": "execute_result"
    }
   ],
   "source": [
    "np.exp(a5)"
   ]
  },
  {
   "cell_type": "code",
   "execution_count": 157,
   "id": "5db189ab-9d0c-4ce9-b838-7301c04515da",
   "metadata": {},
   "outputs": [
    {
     "data": {
      "text/plain": [
       "array([[1.74036269, 1.54406804, 1.59106461, 1.53147892, 1.71600334],\n",
       "       [1.43136376, 1.54406804, 1.92941893, 1.79934055, 1.81954394],\n",
       "       [1.        , 1.5797836 , 3.        , 1.70757018, 1.75587486],\n",
       "       [1.65321251, 3.        , 1.        , 1.20411998, 1.5563025 ],\n",
       "       [1.80617997, 1.67209786, 1.83884909, 1.60205999, 1.63346846],\n",
       "       [1.92427929, 1.34242268, 1.83250891, 1.89762709, 0.77815125]])"
      ]
     },
     "execution_count": 157,
     "metadata": {},
     "output_type": "execute_result"
    }
   ],
   "source": [
    "np.log10(a5)"
   ]
  },
  {
   "cell_type": "code",
   "execution_count": 159,
   "id": "4df382ba-c7be-4ccc-9cec-d470b738c7d2",
   "metadata": {},
   "outputs": [
    {
     "data": {
      "text/plain": [
       "[0, 2, 4, 6, 8]"
      ]
     },
     "execution_count": 159,
     "metadata": {},
     "output_type": "execute_result"
    }
   ],
   "source": [
    "list(range(0,10,2))"
   ]
  },
  {
   "cell_type": "code",
   "execution_count": 161,
   "id": "1405dba5-4750-41ea-a16e-ed8743e69917",
   "metadata": {},
   "outputs": [
    {
     "data": {
      "text/plain": [
       "array([1, 2, 3, 4, 5, 6, 7, 8, 9])"
      ]
     },
     "execution_count": 161,
     "metadata": {},
     "output_type": "execute_result"
    }
   ],
   "source": [
    "np.arange(1,10)"
   ]
  },
  {
   "cell_type": "code",
   "execution_count": 165,
   "id": "c7cdd648-00b2-4260-a8ea-dc41f0903220",
   "metadata": {},
   "outputs": [
    {
     "ename": "TypeError",
     "evalue": "'float' object cannot be interpreted as an integer",
     "output_type": "error",
     "traceback": [
      "\u001b[1;31m---------------------------------------------------------------------------\u001b[0m",
      "\u001b[1;31mTypeError\u001b[0m                                 Traceback (most recent call last)",
      "Cell \u001b[1;32mIn[165], line 1\u001b[0m\n\u001b[1;32m----> 1\u001b[0m \u001b[38;5;28mrange\u001b[39m(\u001b[38;5;241m1\u001b[39m,\u001b[38;5;241m10\u001b[39m,\u001b[38;5;241m0.5\u001b[39m)\n",
      "\u001b[1;31mTypeError\u001b[0m: 'float' object cannot be interpreted as an integer"
     ]
    }
   ],
   "source": [
    "range(1,10,0.5)"
   ]
  },
  {
   "cell_type": "code",
   "execution_count": 169,
   "id": "80a3b786-b238-4c56-8acd-58851a705aa2",
   "metadata": {},
   "outputs": [
    {
     "data": {
      "text/plain": [
       "(array([2.        , 2.02040816, 2.04081633, 2.06122449, 2.08163265,\n",
       "        2.10204082, 2.12244898, 2.14285714, 2.16326531, 2.18367347,\n",
       "        2.20408163, 2.2244898 , 2.24489796, 2.26530612, 2.28571429,\n",
       "        2.30612245, 2.32653061, 2.34693878, 2.36734694, 2.3877551 ,\n",
       "        2.40816327, 2.42857143, 2.44897959, 2.46938776, 2.48979592,\n",
       "        2.51020408, 2.53061224, 2.55102041, 2.57142857, 2.59183673,\n",
       "        2.6122449 , 2.63265306, 2.65306122, 2.67346939, 2.69387755,\n",
       "        2.71428571, 2.73469388, 2.75510204, 2.7755102 , 2.79591837,\n",
       "        2.81632653, 2.83673469, 2.85714286, 2.87755102, 2.89795918,\n",
       "        2.91836735, 2.93877551, 2.95918367, 2.97959184, 3.        ]),\n",
       " 0.02040816326530612)"
      ]
     },
     "execution_count": 169,
     "metadata": {},
     "output_type": "execute_result"
    }
   ],
   "source": [
    "np.linspace(2,3,num=50,retstep=True)"
   ]
  },
  {
   "cell_type": "code",
   "execution_count": 171,
   "id": "98bad2e3-c90f-469d-96f3-6d69b973073d",
   "metadata": {},
   "outputs": [
    {
     "data": {
      "text/plain": [
       "array([  100.        ,   464.15888336,  2154.43469003, 10000.        ])"
      ]
     },
     "execution_count": 171,
     "metadata": {},
     "output_type": "execute_result"
    }
   ],
   "source": [
    "np.logspace(2,4,num=4)"
   ]
  },
  {
   "cell_type": "code",
   "execution_count": 173,
   "id": "aa062549-0fc3-488c-9d92-da84d535c98d",
   "metadata": {},
   "outputs": [
    {
     "data": {
      "text/plain": [
       "array([  100.        ,   464.15888336,  2154.43469003, 10000.        ])"
      ]
     },
     "execution_count": 173,
     "metadata": {},
     "output_type": "execute_result"
    }
   ],
   "source": [
    "np.logspace(2,4,num=4,base=10)"
   ]
  },
  {
   "cell_type": "code",
   "execution_count": 175,
   "id": "22e04bed-abd5-4fc9-bcc7-3135fabbed77",
   "metadata": {},
   "outputs": [
    {
     "data": {
      "text/plain": [
       "array([ 4.        ,  6.34960421, 10.0793684 , 16.        ])"
      ]
     },
     "execution_count": 175,
     "metadata": {},
     "output_type": "execute_result"
    }
   ],
   "source": [
    "np.logspace(2,4,num=4,base=2)"
   ]
  },
  {
   "cell_type": "code",
   "execution_count": 177,
   "id": "3864faff-4521-469a-8b49-c946fddc3283",
   "metadata": {},
   "outputs": [
    {
     "data": {
      "text/plain": [
       "array([[1., 0., 0., 0., 0.],\n",
       "       [0., 1., 0., 0., 0.],\n",
       "       [0., 0., 1., 0., 0.],\n",
       "       [0., 0., 0., 1., 0.],\n",
       "       [0., 0., 0., 0., 1.]])"
      ]
     },
     "execution_count": 177,
     "metadata": {},
     "output_type": "execute_result"
    }
   ],
   "source": [
    "#identity matrix\n",
    "np.eye(5)"
   ]
  },
  {
   "cell_type": "code",
   "execution_count": 179,
   "id": "9dc98f82-69ca-4777-b229-058b5aae400a",
   "metadata": {},
   "outputs": [
    {
     "data": {
      "text/plain": [
       "array([[1., 0., 0., 0.],\n",
       "       [0., 1., 0., 0.],\n",
       "       [0., 0., 1., 0.],\n",
       "       [0., 0., 0., 1.]])"
      ]
     },
     "execution_count": 179,
     "metadata": {},
     "output_type": "execute_result"
    }
   ],
   "source": [
    "np.eye(4)"
   ]
  },
  {
   "cell_type": "code",
   "execution_count": null,
   "id": "afd55533-a4bf-4057-9113-08686b226397",
   "metadata": {},
   "outputs": [],
   "source": []
  }
 ],
 "metadata": {
  "kernelspec": {
   "display_name": "Python [conda env:base] *",
   "language": "python",
   "name": "conda-base-py"
  },
  "language_info": {
   "codemirror_mode": {
    "name": "ipython",
    "version": 3
   },
   "file_extension": ".py",
   "mimetype": "text/x-python",
   "name": "python",
   "nbconvert_exporter": "python",
   "pygments_lexer": "ipython3",
   "version": "3.12.7"
  }
 },
 "nbformat": 4,
 "nbformat_minor": 5
}
