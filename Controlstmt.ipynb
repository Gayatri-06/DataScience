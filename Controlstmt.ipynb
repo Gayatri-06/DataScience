{
 "cells": [
  {
   "cell_type": "code",
   "execution_count": 1,
   "id": "9d9fb2dd-1ae5-42fc-8d21-b2411ef131ae",
   "metadata": {},
   "outputs": [
    {
     "data": {
      "text/plain": [
       "True"
      ]
     },
     "execution_count": 1,
     "metadata": {},
     "output_type": "execute_result"
    }
   ],
   "source": [
    "l=[1,2,3,4,5,6]\n",
    "2 in l"
   ]
  },
  {
   "cell_type": "code",
   "execution_count": 3,
   "id": "d6d6ae63-8d21-47fd-a3f0-bf065545dc01",
   "metadata": {},
   "outputs": [
    {
     "name": "stdout",
     "output_type": "stream",
     "text": [
      "don't perform this task\n"
     ]
    }
   ],
   "source": [
    "if 60 in l:\n",
    "    print(\"try to perform a task\")\n",
    "else:\n",
    "    print(\"don't perform this task\")"
   ]
  },
  {
   "cell_type": "code",
   "execution_count": 7,
   "id": "12c10614-9a45-49b1-9d18-1f1cad5c4e4f",
   "metadata": {},
   "outputs": [],
   "source": [
    "l=[1,2,3,\"aimnxt\",\"datascience\",True,30.12]"
   ]
  },
  {
   "cell_type": "code",
   "execution_count": 9,
   "id": "0b7bd351-56bb-46d8-9a56-75a54f25ed54",
   "metadata": {},
   "outputs": [
    {
     "name": "stdout",
     "output_type": "stream",
     "text": [
      "try to do sub\n"
     ]
    }
   ],
   "source": [
    "if 10 in l:\n",
    "    print(\"try to do a addition\")\n",
    "elif 2 in l:\n",
    "    print(\"try to do sub\")\n",
    "elif 3 in l:\n",
    "    print(\"try to do mul\")\n",
    "if 4 in l:\n",
    "    print(\"this is new stmt\")\n",
    "\n",
    "    "
   ]
  },
  {
   "cell_type": "code",
   "execution_count": 11,
   "id": "50926029-faf0-4d8a-84a1-517a7527edfa",
   "metadata": {},
   "outputs": [],
   "source": [
    "a=400"
   ]
  },
  {
   "cell_type": "code",
   "execution_count": 13,
   "id": "a9002be8-909e-4963-af93-41a4e393c4bd",
   "metadata": {},
   "outputs": [
    {
     "name": "stdin",
     "output_type": "stream",
     "text": [
      " 30\n"
     ]
    }
   ],
   "source": [
    "b=int(input())"
   ]
  },
  {
   "cell_type": "code",
   "execution_count": 25,
   "id": "1303f695-c767-4e69-bd46-900bae7c572e",
   "metadata": {},
   "outputs": [
    {
     "name": "stdin",
     "output_type": "stream",
     "text": [
      " 500\n"
     ]
    },
    {
     "name": "stdout",
     "output_type": "stream",
     "text": [
      "i won't be able to buy anything with this price tag\n"
     ]
    }
   ],
   "source": [
    "price=int(input())\n",
    "if price<500:\n",
    "    print(\"i will be able to buy something\")\n",
    "    if price<400:\n",
    "        print(\"i will be able to buy a jacket\")\n",
    "    elif price<300:\n",
    "        print(\"i will be able to buy a shirt\")\n",
    "        if price<200:\n",
    "            print(\"i would like to do something\")\n",
    "        else:\n",
    "            print(\"i won't be able to buy anything\")\n",
    "else:\n",
    "    print(\"i won't be able to buy anything with this price tag\")\n",
    "    if price>500:\n",
    "        print(\"let's try something else\")"
   ]
  },
  {
   "cell_type": "code",
   "execution_count": 49,
   "id": "f791ef50-cc51-4265-bde9-ea5953014a1c",
   "metadata": {},
   "outputs": [
    {
     "name": "stdin",
     "output_type": "stream",
     "text": [
      " 200\n"
     ]
    },
    {
     "name": "stdout",
     "output_type": "stream",
     "text": [
      "NO GRE\n",
      "TOFEL\n",
      "Try soomething else\n"
     ]
    }
   ],
   "source": [
    "marks=int(input())\n",
    "if marks<600:\n",
    "    print(\"NO GRE\")\n",
    "    if marks<500:\n",
    "        print(\"TOFEL\")\n",
    "        if marks<400:\n",
    "            print(\"Try soomething else\")\n",
    "    else:\n",
    "        print(\"YOU GOT TOFEL\")\n",
    "else:\n",
    "    print(\"You got GRE congratulations\")\n",
    "            "
   ]
  },
  {
   "cell_type": "code",
   "execution_count": 51,
   "id": "42827e80-bac3-4250-a2d4-c75c18573895",
   "metadata": {},
   "outputs": [
    {
     "name": "stdin",
     "output_type": "stream",
     "text": [
      "enter a floating point number 0\n"
     ]
    },
    {
     "name": "stdout",
     "output_type": "stream",
     "text": [
      "entered value is zero\n"
     ]
    }
   ],
   "source": [
    "v=float(input(\"enter a floating point number\"))\n",
    "if v>=0:\n",
    "    if v==0:\n",
    "        print(\"entered value is zero\")\n",
    "    else:\n",
    "        print(\"entered value is a positive number\")\n",
    "else:\n",
    "    print(\"entered number is negative number\")"
   ]
  },
  {
   "cell_type": "code",
   "execution_count": 5,
   "id": "8c985b30-d33c-4c73-8739-8ab73b7fb14a",
   "metadata": {},
   "outputs": [
    {
     "name": "stdin",
     "output_type": "stream",
     "text": [
      " 10\n"
     ]
    },
    {
     "name": "stdout",
     "output_type": "stream",
     "text": [
      "try to do something\n"
     ]
    }
   ],
   "source": [
    "a=int(input())\n",
    "if a<10 or a==10:\n",
    "    print(\"try to do something\")"
   ]
  },
  {
   "cell_type": "code",
   "execution_count": 7,
   "id": "82641a4f-e2b4-4aef-aced-a0fa71920053",
   "metadata": {},
   "outputs": [
    {
     "name": "stdout",
     "output_type": "stream",
     "text": [
      "let's do something\n"
     ]
    }
   ],
   "source": [
    "a=10\n",
    "b=11\n",
    "c=12\n",
    "d=13\n",
    "if a==9 or b==11 and c==12 and d==13:\n",
    "    print(\"let's do something\")"
   ]
  },
  {
   "cell_type": "code",
   "execution_count": 9,
   "id": "7235c967-af8e-4071-b796-d8056f18efec",
   "metadata": {},
   "outputs": [],
   "source": [
    "d={'key1':\"value\",'key2':\"aimnxt\",'key3':\"datascience\"}"
   ]
  },
  {
   "cell_type": "code",
   "execution_count": 13,
   "id": "0d2c5c5a-34ba-4c0f-b3cd-25b00632f7da",
   "metadata": {},
   "outputs": [
    {
     "name": "stdout",
     "output_type": "stream",
     "text": [
      "all values are not verified\n"
     ]
    }
   ],
   "source": [
    "if d['key1']==\"value\" and d['key2']==\"Aimnxt\" and d['key3']==\"Aimnxt\":\n",
    "    print(\"all the values are verified\")\n",
    "    print(d.values())\n",
    "else:\n",
    "    print(\"all values are not verified\")"
   ]
  },
  {
   "cell_type": "code",
   "execution_count": 17,
   "id": "89548d7f-b3cc-4b51-92ff-19994f869cc0",
   "metadata": {},
   "outputs": [
    {
     "name": "stdout",
     "output_type": "stream",
     "text": [
      "all the values are verified\n",
      "dict_values(['value', 'aimnxt', 'datascience'])\n"
     ]
    }
   ],
   "source": [
    "if d['key1']==\"value\" and d['key2']==\"aimnxt\" and d['key3']==\"datascience\":\n",
    "    print(\"all the values are verified\")\n",
    "    print(d.values())\n",
    "else:\n",
    "    print(\"all values are not verified\")"
   ]
  },
  {
   "cell_type": "code",
   "execution_count": 19,
   "id": "e605c6b0-d3af-4305-a92d-49776cdb5ebe",
   "metadata": {},
   "outputs": [],
   "source": [
    "l=[1,2,3,4,5,\"aimnxt\",234.45]"
   ]
  },
  {
   "cell_type": "code",
   "execution_count": 21,
   "id": "295c24f6-f0c8-425e-82f7-77cb18c97519",
   "metadata": {},
   "outputs": [
    {
     "data": {
      "text/plain": [
       "1"
      ]
     },
     "execution_count": 21,
     "metadata": {},
     "output_type": "execute_result"
    }
   ],
   "source": [
    "l[0]"
   ]
  },
  {
   "cell_type": "code",
   "execution_count": 23,
   "id": "c13eea88-239c-4c73-ac2d-febd8e8dbf45",
   "metadata": {},
   "outputs": [
    {
     "data": {
      "text/plain": [
       "[3, 4, 5]"
      ]
     },
     "execution_count": 23,
     "metadata": {},
     "output_type": "execute_result"
    }
   ],
   "source": [
    "l[2:5]"
   ]
  },
  {
   "cell_type": "code",
   "execution_count": 3,
   "id": "04c4b306-0ad3-48a6-a92a-0f232cb26cfc",
   "metadata": {},
   "outputs": [
    {
     "name": "stdin",
     "output_type": "stream",
     "text": [
      " 40\n"
     ]
    },
    {
     "name": "stdout",
     "output_type": "stream",
     "text": [
      "white\n",
      "yellow\n",
      "blue\n"
     ]
    }
   ],
   "source": [
    "a=int(input())\n",
    "if a>=1 or a<=0:\n",
    "    print(\"white\")\n",
    "if 10<=a>=20:\n",
    "    print(\"yellow\")\n",
    "if 21<=a>=30:\n",
    "    print(\"blue\")\n",
    "el         if 31<=a>=40:\n",
    "    print(\"red\")\n",
    "else:\n",
    "    print(\"please enter number from 1 to 40\")"
   ]
  },
  {
   "cell_type": "code",
   "execution_count": null,
   "id": "2476f82e-ee67-4b1b-882d-30563204f06b",
   "metadata": {},
   "outputs": [],
   "source": [
    "for i in l:\n",
    "    if type(i)==int or type(i)==float:\n",
    "        print(i+1)\n",
    "    elif type(i) ==str:\n",
    "        print(i+str(l))"
   ]
  },
  {
   "cell_type": "code",
   "execution_count": 11,
   "id": "8f5a5ef2-e3a5-4ae6-8235-2b99a02405f5",
   "metadata": {},
   "outputs": [
    {
     "name": "stdin",
     "output_type": "stream",
     "text": [
      " 9\n",
      " 6\n"
     ]
    },
    {
     "name": "stdout",
     "output_type": "stream",
     "text": [
      "The largest: 9\n"
     ]
    }
   ],
   "source": [
    "a=int(input())\n",
    "b=int(input())\n",
    "if a<b:\n",
    "    print(\"The largest:\",b)\n",
    "elif a>b:\n",
    "    print(\"The largest:\",a)\n",
    "else:\n",
    "    print(\"Both are equal\")"
   ]
  },
  {
   "cell_type": "code",
   "execution_count": 15,
   "id": "0ccb161a-47c0-4450-a7f7-25d3f0bd3c8d",
   "metadata": {},
   "outputs": [
    {
     "name": "stdin",
     "output_type": "stream",
     "text": [
      "Enter a character:  a\n"
     ]
    },
    {
     "name": "stdout",
     "output_type": "stream",
     "text": [
      "Vowel\n"
     ]
    }
   ],
   "source": [
    "character = input(\"Enter a character: \").lower()\n",
    "if character in ('a', 'e', 'i', 'o', 'u'):\n",
    "    print(\"Vowel\")\n",
    "else:\n",
    "    print(\"Consonant\")\n"
   ]
  },
  {
   "cell_type": "code",
   "execution_count": 1,
   "id": "b2ef0b90-8477-430e-b649-812e307bc86d",
   "metadata": {},
   "outputs": [
    {
     "name": "stdin",
     "output_type": "stream",
     "text": [
      "Enter the year 2024\n"
     ]
    },
    {
     "name": "stdout",
     "output_type": "stream",
     "text": [
      "2024 is a leap year\n"
     ]
    }
   ],
   "source": [
    "def is_leap(year):\n",
    "    return (year%4==0) and (year%100!=0) or (year%400==0)\n",
    "year=int(input(\"Enter the year\"))\n",
    "if is_leap(year):\n",
    "    print(f\"{year} is a leap year\")\n",
    "else:\n",
    "    print(f\"{year} is not a leap year\")"
   ]
  },
  {
   "cell_type": "code",
   "execution_count": 5,
   "id": "1397ef73-fd8e-4296-aab3-c4c8ee02d2f6",
   "metadata": {},
   "outputs": [
    {
     "name": "stdin",
     "output_type": "stream",
     "text": [
      "Enter the age: 18\n"
     ]
    },
    {
     "name": "stdout",
     "output_type": "stream",
     "text": [
      "Eligible to vote\n"
     ]
    }
   ],
   "source": [
    "age=int(input(\"Enter the age:\"))\n",
    "if age>=18:\n",
    "    print(\"Eligible to vote\")\n",
    "else:\n",
    "    print(\"Not eligible to vote\")"
   ]
  },
  {
   "cell_type": "code",
   "execution_count": 7,
   "id": "75c6c846-c209-406d-b0ab-de55a190adeb",
   "metadata": {},
   "outputs": [
    {
     "name": "stdin",
     "output_type": "stream",
     "text": [
      "Enter marks: 89\n"
     ]
    },
    {
     "name": "stdout",
     "output_type": "stream",
     "text": [
      "Studen's grade is B\n",
      "Student's marks are Odd\n"
     ]
    }
   ],
   "source": [
    "def calc(marks):\n",
    "    if marks>=90:\n",
    "        grade='A'\n",
    "    elif 75<=marks<90:\n",
    "        grade='B'\n",
    "    elif 50<=marks<75:\n",
    "        grade='C'\n",
    "    else:\n",
    "        grade='F'\n",
    "    return grade\n",
    "def check(marks):\n",
    "    if marks%2==0:\n",
    "        return \"Even\"\n",
    "    else:\n",
    "        return \"Odd\"\n",
    "marks=int(input(\"Enter marks:\"))\n",
    "grade=calc(marks)\n",
    "eve_odd=check(marks)\n",
    "print(f\"Studen's grade is {grade}\")\n",
    "print(f\"Student's marks are {eve_odd}\")"
   ]
  },
  {
   "cell_type": "code",
   "execution_count": 17,
   "id": "20d7f6db-f9f1-483f-bb2c-0c36a03cf46e",
   "metadata": {},
   "outputs": [
    {
     "name": "stdin",
     "output_type": "stream",
     "text": [
      " 20\n",
      " 60\n",
      " 90\n"
     ]
    },
    {
     "name": "stdout",
     "output_type": "stream",
     "text": [
      "max is 90\n"
     ]
    }
   ],
   "source": [
    "a=int(input())\n",
    "b=int(input())\n",
    "c=int(input())\n",
    "if a>=b and a >= c:\n",
    "    print(\"max is\",a)\n",
    "elif b>=a and b>=c:\n",
    "    print(\"max is\",b)\n",
    "else:\n",
    "    print(\"max is\",c)"
   ]
  },
  {
   "cell_type": "code",
   "execution_count": 21,
   "id": "9153e93f-6c05-4783-aebc-b3e864e2581b",
   "metadata": {},
   "outputs": [
    {
     "name": "stdin",
     "output_type": "stream",
     "text": [
      "Enter the password:  hyi09\n"
     ]
    },
    {
     "name": "stdout",
     "output_type": "stream",
     "text": [
      "Access Denied\n"
     ]
    }
   ],
   "source": [
    "predefined_password = \"Henry123\"\n",
    "user_password = input(\"Enter the password: \")\n",
    "if user_password == predefined_password:\n",
    "    print(\"Access Granted\")\n",
    "else:\n",
    "    print(\"Access Denied\")"
   ]
  },
  {
   "cell_type": "code",
   "execution_count": 29,
   "id": "a82f6a5f-32dd-44d7-99d6-f0b2e03463d3",
   "metadata": {},
   "outputs": [
    {
     "name": "stdin",
     "output_type": "stream",
     "text": [
      " 2000\n"
     ]
    },
    {
     "name": "stdout",
     "output_type": "stream",
     "text": [
      "1800.0\n"
     ]
    }
   ],
   "source": [
    "amount=int(input())\n",
    "bill=0\n",
    "if amount>1000:\n",
    "    bill=amount-amount*0.1\n",
    "    print(bill)\n",
    "else:\n",
    "    bill=amount\n",
    "    print(bill)"
   ]
  },
  {
   "cell_type": "code",
   "execution_count": 35,
   "id": "67c43650-ec5f-4edb-8e6a-74f7797702c4",
   "metadata": {},
   "outputs": [
    {
     "name": "stdin",
     "output_type": "stream",
     "text": [
      " 6\n",
      " 5\n",
      " 4\n"
     ]
    },
    {
     "name": "stdout",
     "output_type": "stream",
     "text": [
      "Scalene\n"
     ]
    }
   ],
   "source": [
    "s1=int(input())\n",
    "s2=int(input())\n",
    "s3=int(input())\n",
    "if s1==s2==s3:\n",
    "    print(\"Equilateral\")\n",
    "elif s1==s2 or s2==s3 or s3==s1:\n",
    "    print(\"Isosceles\")\n",
    "else:\n",
    "    print(\"Scalene\")"
   ]
  },
  {
   "cell_type": "code",
   "execution_count": 39,
   "id": "1972d5ff-0fdb-4f86-9de9-1d5db1958bea",
   "metadata": {},
   "outputs": [
    {
     "name": "stdin",
     "output_type": "stream",
     "text": [
      " 5\n"
     ]
    },
    {
     "name": "stdout",
     "output_type": "stream",
     "text": [
      "5 is not divisible by 5 and 11\n"
     ]
    }
   ],
   "source": [
    "a=int(input())\n",
    "if a%5==0 and a%11==0:\n",
    "    print(f\"{a} is divisible by 5 and 11\")\n",
    "else:\n",
    "    print(f\"{a} is not divisible by 5 and 11\")"
   ]
  },
  {
   "cell_type": "code",
   "execution_count": 41,
   "id": "68e067fb-45ee-4992-8de7-f7e7a76e3297",
   "metadata": {},
   "outputs": [
    {
     "name": "stdin",
     "output_type": "stream",
     "text": [
      "Enter the total number of classes:  70\n",
      "Enter the number of classes attended:  65\n"
     ]
    },
    {
     "name": "stdout",
     "output_type": "stream",
     "text": [
      "Your attendance is: 92.86%\n",
      "You are eligible to take the exam.\n"
     ]
    }
   ],
   "source": [
    "total_classes = int(input(\"Enter the total number of classes: \"))\n",
    "attended_classes = int(input(\"Enter the number of classes attended: \"))\n",
    "attendance_percentage = (attended_classes / total_classes) * 100\n",
    "print(f\"Your attendance is: {attendance_percentage:.2f}%\")\n",
    "if attendance_percentage >= 75:\n",
    "    print(\"You are eligible to take the exam.\")\n",
    "else:\n",
    "    print(\"You are not eligible to take the exam.\")"
   ]
  },
  {
   "cell_type": "code",
   "execution_count": 47,
   "id": "1d27bcb9-fe75-40b6-8042-916d6fa7b106",
   "metadata": {},
   "outputs": [
    {
     "name": "stdin",
     "output_type": "stream",
     "text": [
      "Enter temp: 32\n"
     ]
    },
    {
     "name": "stdout",
     "output_type": "stream",
     "text": [
      "It's hot outside. Stay hydrated.\n"
     ]
    }
   ],
   "source": [
    "temp=int(input(\"Enter temp:\"))\n",
    "if temp>30:\n",
    "    print(\"It's hot outside. Stay hydrated.\")\n",
    "elif 15<=temp<31:\n",
    "    print(\"The weather is pleasant.\")\n",
    "else:\n",
    "    print(\"It's cold outside. Wear a jacket.\")"
   ]
  },
  {
   "cell_type": "code",
   "execution_count": 53,
   "id": "b68eb21e-bfb9-4303-b6b1-258a1284f839",
   "metadata": {},
   "outputs": [
    {
     "name": "stdin",
     "output_type": "stream",
     "text": [
      " 100\n"
     ]
    },
    {
     "name": "stdout",
     "output_type": "stream",
     "text": [
      "Number within range of 1 and 100\n"
     ]
    }
   ],
   "source": [
    "n=int(input())\n",
    "if 1<=n<=100:\n",
    "    print(\"Number within range of 1 and 100\")\n",
    "else:\n",
    "    print(\"Not in range\")"
   ]
  },
  {
   "cell_type": "code",
   "execution_count": 59,
   "id": "c6b56e4c-65c1-45cb-bf07-c61dbbc5a886",
   "metadata": {},
   "outputs": [
    {
     "name": "stdin",
     "output_type": "stream",
     "text": [
      " 5\n",
      " 9\n",
      " +\n"
     ]
    },
    {
     "name": "stdout",
     "output_type": "stream",
     "text": [
      "14\n"
     ]
    }
   ],
   "source": [
    "def calc(m,n,op):\n",
    "    if op=='+':\n",
    "        print(m+n)\n",
    "    elif op=='-':\n",
    "        print(m-n)\n",
    "    elif op=='*':\n",
    "        print(m*n)\n",
    "    elif op=='/':\n",
    "        if n==0:\n",
    "            print(\"invalid\")\n",
    "        else:\n",
    "            print(m/n)\n",
    "    else:\n",
    "        print(\"invalid\")\n",
    "m=int(input())\n",
    "n=int(input())\n",
    "op=input()\n",
    "c=calc(m,n,op)\n",
    "        "
   ]
  },
  {
   "cell_type": "code",
   "execution_count": 61,
   "id": "07e4b754-e3d5-49b6-871a-4f8740560053",
   "metadata": {},
   "outputs": [
    {
     "name": "stdin",
     "output_type": "stream",
     "text": [
      "Enter the year 550\n"
     ]
    },
    {
     "name": "stdout",
     "output_type": "stream",
     "text": [
      "even\n"
     ]
    }
   ],
   "source": [
    "n=int(input(\"Enter the year\"))\n",
    "if n%2==0:\n",
    "    print(\"even\")\n",
    "else:\n",
    "    print(\"odd\")"
   ]
  }
 ],
 "metadata": {
  "kernelspec": {
   "display_name": "Python [conda env:base] *",
   "language": "python",
   "name": "conda-base-py"
  },
  "language_info": {
   "codemirror_mode": {
    "name": "ipython",
    "version": 3
   },
   "file_extension": ".py",
   "mimetype": "text/x-python",
   "name": "python",
   "nbconvert_exporter": "python",
   "pygments_lexer": "ipython3",
   "version": "3.12.7"
  }
 },
 "nbformat": 4,
 "nbformat_minor": 5
}
