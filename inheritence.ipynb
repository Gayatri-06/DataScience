{
 "cells": [
  {
   "cell_type": "code",
   "execution_count": 1,
   "id": "29d3c0e6-aea0-4afb-8a24-108d6040af99",
   "metadata": {},
   "outputs": [],
   "source": [
    "class student():\n",
    "    def __init__(self,name,roll_no,branch):\n",
    "        self.name=name\n",
    "        self.roll_no=roll_no\n",
    "        self.branch=branch"
   ]
  },
  {
   "cell_type": "code",
   "execution_count": 3,
   "id": "d07e25f6-72fd-489a-b78a-30a6c5a0647d",
   "metadata": {},
   "outputs": [],
   "source": [
    "class new_student(student):\n",
    "    pass"
   ]
  },
  {
   "cell_type": "code",
   "execution_count": 5,
   "id": "9615954b-3ae0-443d-8c35-8e157007709e",
   "metadata": {},
   "outputs": [],
   "source": [
    "obj2=new_student('Henry',30,\"aiml\")"
   ]
  },
  {
   "cell_type": "code",
   "execution_count": 9,
   "id": "16582601-c268-4dd0-a495-a1767c3e97f2",
   "metadata": {},
   "outputs": [
    {
     "data": {
      "text/plain": [
       "'aiml'"
      ]
     },
     "execution_count": 9,
     "metadata": {},
     "output_type": "execute_result"
    }
   ],
   "source": [
    "obj2.branch"
   ]
  },
  {
   "cell_type": "code",
   "execution_count": 11,
   "id": "9b1db3c8-63ef-4146-9251-133bbe2b189c",
   "metadata": {},
   "outputs": [],
   "source": [
    "class Vehicle:\n",
    "    def __init__(self, brand):\n",
    "        self.brand = brand\n",
    "obj=Vehicle(\"bmw\")\n",
    "class Car(Vehicle):\n",
    "    def __init__(self, brand, model):\n",
    "        super().__init__(brand)\n",
    "        self.model = model\n",
    "    \n",
    "obj2=Car(\"bmw\",2023)"
   ]
  },
  {
   "cell_type": "code",
   "execution_count": 13,
   "id": "a7fc0f2c-43db-479c-9786-054191a5b52b",
   "metadata": {},
   "outputs": [
    {
     "data": {
      "text/plain": [
       "2023"
      ]
     },
     "execution_count": 13,
     "metadata": {},
     "output_type": "execute_result"
    }
   ],
   "source": [
    "obj2.model"
   ]
  },
  {
   "cell_type": "code",
   "execution_count": 15,
   "id": "b20d9ebc-3957-4030-8040-a9af651e54bb",
   "metadata": {},
   "outputs": [],
   "source": [
    "class engine:\n",
    "    def engine_type(self):\n",
    "        print(\"engine type:petrol\")\n",
    "\n",
    "class Wheels:\n",
    "    def wheel_count(self):\n",
    "        print(\"Number of wheels: 4\")\n",
    "\n",
    "class car(engine, Wheels):\n",
    "    def car_info(self):\n",
    "        print(\"this is a car\")"
   ]
  },
  {
   "cell_type": "code",
   "execution_count": 17,
   "id": "ef5fa4d7-1fc5-4b8b-97bc-2f043ca6aead",
   "metadata": {},
   "outputs": [],
   "source": [
    "obj=car()"
   ]
  },
  {
   "cell_type": "code",
   "execution_count": 19,
   "id": "1ff74149-2c9d-4b25-81da-b67574a56cbc",
   "metadata": {},
   "outputs": [
    {
     "name": "stdout",
     "output_type": "stream",
     "text": [
      "engine type:petrol\n"
     ]
    }
   ],
   "source": [
    "obj.engine_type()"
   ]
  },
  {
   "cell_type": "code",
   "execution_count": 21,
   "id": "b22e597d-6653-488f-88e0-f5a2b92a6c8f",
   "metadata": {},
   "outputs": [
    {
     "name": "stdout",
     "output_type": "stream",
     "text": [
      "Number of wheels: 4\n"
     ]
    }
   ],
   "source": [
    "obj.wheel_count()"
   ]
  },
  {
   "cell_type": "code",
   "execution_count": 23,
   "id": "1c921e23-c1ce-4723-94eb-9c1893944faf",
   "metadata": {},
   "outputs": [
    {
     "name": "stdout",
     "output_type": "stream",
     "text": [
      "this is a car\n"
     ]
    }
   ],
   "source": [
    "obj.car_info()"
   ]
  },
  {
   "cell_type": "code",
   "execution_count": 25,
   "id": "98d4803b-138f-4302-b541-2db6f016c990",
   "metadata": {},
   "outputs": [],
   "source": [
    "class Animal():\n",
    "    def animal_sound(self):\n",
    "        print(\"animal sounds\")\n",
    "class Dog(Animal): \n",
    "    def make_sound(self):\n",
    "        print(\"barks\")\n",
    "class Cat(Animal):\n",
    "    def make_sound(self):\n",
    "        print(\"meow\")"
   ]
  },
  {
   "cell_type": "code",
   "execution_count": 27,
   "id": "8f9f38e6-843c-4b5c-bdec-25f44c3022ab",
   "metadata": {},
   "outputs": [],
   "source": [
    "cat=Cat()"
   ]
  },
  {
   "cell_type": "code",
   "execution_count": 29,
   "id": "8a38da4c-a93a-4efa-9be8-91ba1723f72a",
   "metadata": {},
   "outputs": [
    {
     "name": "stdout",
     "output_type": "stream",
     "text": [
      "meow\n"
     ]
    }
   ],
   "source": [
    "cat.make_sound()"
   ]
  },
  {
   "cell_type": "code",
   "execution_count": 31,
   "id": "f6d2a3bd-84a0-4861-98dd-54b78c50decc",
   "metadata": {},
   "outputs": [
    {
     "name": "stdout",
     "output_type": "stream",
     "text": [
      "barks\n",
      "animal sounds\n"
     ]
    }
   ],
   "source": [
    "dog=Dog()\n",
    "dog.make_sound()\n",
    "animal=Animal()\n",
    "animal.animal_sound()"
   ]
  }
 ],
 "metadata": {
  "kernelspec": {
   "display_name": "Python [conda env:base] *",
   "language": "python",
   "name": "conda-base-py"
  },
  "language_info": {
   "codemirror_mode": {
    "name": "ipython",
    "version": 3
   },
   "file_extension": ".py",
   "mimetype": "text/x-python",
   "name": "python",
   "nbconvert_exporter": "python",
   "pygments_lexer": "ipython3",
   "version": "3.12.7"
  }
 },
 "nbformat": 4,
 "nbformat_minor": 5
}
