{
 "cells": [
  {
   "cell_type": "code",
   "execution_count": 27,
   "id": "6a56e351-f447-431b-b1d0-78bb72dd65ba",
   "metadata": {},
   "outputs": [],
   "source": [
    "class Car():\n",
    "    def __init__(self,brand,windows,enginetype,color):\n",
    "        self.brand=brand\n",
    "        self.windows=windows\n",
    "        self.enginetype=enginetype\n",
    "        self.color=color"
   ]
  },
  {
   "cell_type": "code",
   "execution_count": 29,
   "id": "e897a719-d33a-432f-8a8b-1945807acbb5",
   "metadata": {},
   "outputs": [],
   "source": [
    "car1=Car(\"Audi\",4,\"diesel\",\"red\")"
   ]
  },
  {
   "cell_type": "code",
   "execution_count": 31,
   "id": "53c788c9-8e52-4658-833d-4256eba3b723",
   "metadata": {},
   "outputs": [
    {
     "data": {
      "text/plain": [
       "'Audi'"
      ]
     },
     "execution_count": 31,
     "metadata": {},
     "output_type": "execute_result"
    }
   ],
   "source": [
    "car1.brand"
   ]
  },
  {
   "cell_type": "code",
   "execution_count": 33,
   "id": "da72bc73-da5e-48c0-bdfe-55e29d169628",
   "metadata": {},
   "outputs": [],
   "source": [
    "car1.brand=\"BMW\""
   ]
  },
  {
   "cell_type": "code",
   "execution_count": 35,
   "id": "bc3d10bf-504f-4e76-b1bb-1f3cbe6469b0",
   "metadata": {},
   "outputs": [
    {
     "name": "stdout",
     "output_type": "stream",
     "text": [
      "BMW\n"
     ]
    }
   ],
   "source": [
    "print(car1.brand)"
   ]
  },
  {
   "cell_type": "code",
   "execution_count": 11,
   "id": "2c4f1373-6180-4931-99a4-63f76c410371",
   "metadata": {},
   "outputs": [],
   "source": [
    "class Student():\n",
    "    def __init__(self,name,age,yearofbirth):\n",
    "        self.name=name\n",
    "        self.age=age\n",
    "        self.yearofbirth=yearofbirth"
   ]
  },
  {
   "cell_type": "code",
   "execution_count": 13,
   "id": "27d8e313-2857-4e82-bf55-a2ba3a80d35e",
   "metadata": {},
   "outputs": [],
   "source": [
    "s1=Student(\"Henry\",21,2003)\n",
    "s2=Student(\"Alex\",22,2002)\n",
    "s3=Student(\"Dante\",21,2003)"
   ]
  },
  {
   "cell_type": "code",
   "execution_count": 17,
   "id": "cd44ba26-cd09-4df6-be1a-ef45be4b35c0",
   "metadata": {},
   "outputs": [
    {
     "data": {
      "text/plain": [
       "'Henry'"
      ]
     },
     "execution_count": 17,
     "metadata": {},
     "output_type": "execute_result"
    }
   ],
   "source": [
    "s1.name"
   ]
  },
  {
   "cell_type": "code",
   "execution_count": 19,
   "id": "6b906d2f-d05c-470a-9f49-554fc02ba58d",
   "metadata": {},
   "outputs": [],
   "source": [
    "class Car():\n",
    "    pass"
   ]
  },
  {
   "cell_type": "code",
   "execution_count": 23,
   "id": "b3cc4423-8a76-45cf-87fa-457696b11479",
   "metadata": {},
   "outputs": [],
   "source": [
    "car1=Car()"
   ]
  },
  {
   "cell_type": "code",
   "execution_count": 25,
   "id": "5ffca621-8d90-4b0f-bbc3-6fb1f759cd45",
   "metadata": {},
   "outputs": [
    {
     "data": {
      "text/plain": [
       "['__class__',\n",
       " '__delattr__',\n",
       " '__dict__',\n",
       " '__dir__',\n",
       " '__doc__',\n",
       " '__eq__',\n",
       " '__format__',\n",
       " '__ge__',\n",
       " '__getattribute__',\n",
       " '__getstate__',\n",
       " '__gt__',\n",
       " '__hash__',\n",
       " '__init__',\n",
       " '__init_subclass__',\n",
       " '__le__',\n",
       " '__lt__',\n",
       " '__module__',\n",
       " '__ne__',\n",
       " '__new__',\n",
       " '__reduce__',\n",
       " '__reduce_ex__',\n",
       " '__repr__',\n",
       " '__setattr__',\n",
       " '__sizeof__',\n",
       " '__str__',\n",
       " '__subclasshook__',\n",
       " '__weakref__']"
      ]
     },
     "execution_count": 25,
     "metadata": {},
     "output_type": "execute_result"
    }
   ],
   "source": [
    "dir(car1)"
   ]
  },
  {
   "cell_type": "code",
   "execution_count": 37,
   "id": "fd7d0b00-1831-4178-b779-42ecc0bddb8f",
   "metadata": {},
   "outputs": [
    {
     "data": {
      "text/plain": [
       "['__class__',\n",
       " '__delattr__',\n",
       " '__dict__',\n",
       " '__dir__',\n",
       " '__doc__',\n",
       " '__eq__',\n",
       " '__format__',\n",
       " '__ge__',\n",
       " '__getattribute__',\n",
       " '__getstate__',\n",
       " '__gt__',\n",
       " '__hash__',\n",
       " '__init__',\n",
       " '__init_subclass__',\n",
       " '__le__',\n",
       " '__lt__',\n",
       " '__module__',\n",
       " '__ne__',\n",
       " '__new__',\n",
       " '__reduce__',\n",
       " '__reduce_ex__',\n",
       " '__repr__',\n",
       " '__setattr__',\n",
       " '__sizeof__',\n",
       " '__str__',\n",
       " '__subclasshook__',\n",
       " '__weakref__',\n",
       " 'brand',\n",
       " 'color',\n",
       " 'enginetype',\n",
       " 'windows']"
      ]
     },
     "execution_count": 37,
     "metadata": {},
     "output_type": "execute_result"
    }
   ],
   "source": [
    "dir(car1)"
   ]
  },
  {
   "cell_type": "code",
   "execution_count": 39,
   "id": "4df34f4e-3215-4630-bced-ad4eede0bed7",
   "metadata": {},
   "outputs": [
    {
     "data": {
      "text/plain": [
       "['__class__',\n",
       " '__delattr__',\n",
       " '__dict__',\n",
       " '__dir__',\n",
       " '__doc__',\n",
       " '__eq__',\n",
       " '__format__',\n",
       " '__ge__',\n",
       " '__getattribute__',\n",
       " '__getstate__',\n",
       " '__gt__',\n",
       " '__hash__',\n",
       " '__init__',\n",
       " '__init_subclass__',\n",
       " '__le__',\n",
       " '__lt__',\n",
       " '__module__',\n",
       " '__ne__',\n",
       " '__new__',\n",
       " '__reduce__',\n",
       " '__reduce_ex__',\n",
       " '__repr__',\n",
       " '__setattr__',\n",
       " '__sizeof__',\n",
       " '__str__',\n",
       " '__subclasshook__',\n",
       " '__weakref__',\n",
       " 'age',\n",
       " 'name',\n",
       " 'yearofbirth']"
      ]
     },
     "execution_count": 39,
     "metadata": {},
     "output_type": "execute_result"
    }
   ],
   "source": [
    "dir(s1)"
   ]
  },
  {
   "cell_type": "code",
   "execution_count": 41,
   "id": "6c25221f-48d7-4652-af85-27fd6bbfebf4",
   "metadata": {},
   "outputs": [],
   "source": [
    "class Car():\n",
    "    def __init__(self,brand,windows,enginetype,color):\n",
    "        self.brand=brand\n",
    "        self.windows=windows\n",
    "        self.enginetype=enginetype\n",
    "        self.color=color\n",
    "    def self_driving(self):\n",
    "        return \"the color of the car is {}\".format(self.color)"
   ]
  },
  {
   "cell_type": "code",
   "execution_count": 43,
   "id": "1d6c708c-ce91-4c03-a3ab-3351626f2e68",
   "metadata": {},
   "outputs": [],
   "source": [
    "c1=Car(\"BMW\",4,\"petrol\",\"black\")"
   ]
  },
  {
   "cell_type": "code",
   "execution_count": 45,
   "id": "9dcf601e-370a-4d8d-83ba-ba2fcaf93279",
   "metadata": {},
   "outputs": [
    {
     "data": {
      "text/plain": [
       "'the color of the car is black'"
      ]
     },
     "execution_count": 45,
     "metadata": {},
     "output_type": "execute_result"
    }
   ],
   "source": [
    "c1.self_driving()"
   ]
  },
  {
   "cell_type": "code",
   "execution_count": 1,
   "id": "a542f079-6011-476c-949e-7b5a4656e12e",
   "metadata": {},
   "outputs": [],
   "source": [
    "class Bank():\n",
    "    def __init__(self,name,acctype,branch):\n",
    "        self.name=name\n",
    "        self.acctype=acctype\n",
    "        self.branch=branch\n",
    "    def savings_account(self):\n",
    "        return \"my accountype is {}\".format(self.acctype)"
   ]
  },
  {
   "cell_type": "code",
   "execution_count": 3,
   "id": "88a61167-5f3a-4e37-ae07-568d28f7e478",
   "metadata": {},
   "outputs": [],
   "source": [
    "b1=Bank(\"Axis\",\"Salary\",\"Nizampet\")\n",
    "b2=Bank(\"Union\",\"Savings\",\"Bachupalli\")"
   ]
  },
  {
   "cell_type": "code",
   "execution_count": 5,
   "id": "3bf83646-fe94-468f-a77a-1a3ebed078f3",
   "metadata": {},
   "outputs": [
    {
     "data": {
      "text/plain": [
       "'my accountype is Savings'"
      ]
     },
     "execution_count": 5,
     "metadata": {},
     "output_type": "execute_result"
    }
   ],
   "source": [
    "b2.savings_account()"
   ]
  },
  {
   "cell_type": "code",
   "execution_count": 1,
   "id": "d4b9a8ae-745e-4b6c-8e73-a54c8719923c",
   "metadata": {},
   "outputs": [],
   "source": [
    "class Car():\n",
    "    def __init__(self,windows,doors,enginetype):\n",
    "        self.windows=windows\n",
    "        self.doors=doors\n",
    "        self.enginetype=enginetype"
   ]
  },
  {
   "cell_type": "code",
   "execution_count": 3,
   "id": "46af4300-7abf-46fd-bb19-0c39a4b8c8f0",
   "metadata": {},
   "outputs": [],
   "source": [
    "audi=Car(4,5,\"Diesel\")"
   ]
  },
  {
   "cell_type": "code",
   "execution_count": 5,
   "id": "b3905f3a-4310-4151-b853-66d3f4e6f978",
   "metadata": {},
   "outputs": [],
   "source": [
    "audi.windows=5"
   ]
  },
  {
   "cell_type": "code",
   "execution_count": 7,
   "id": "cbd2bbb3-2010-41ff-aed7-f86f65c44fdd",
   "metadata": {},
   "outputs": [
    {
     "data": {
      "text/plain": [
       "5"
      ]
     },
     "execution_count": 7,
     "metadata": {},
     "output_type": "execute_result"
    }
   ],
   "source": [
    "audi.windows"
   ]
  },
  {
   "cell_type": "code",
   "execution_count": 9,
   "id": "bc9b3a40-65eb-4827-863d-780a19c0612e",
   "metadata": {},
   "outputs": [
    {
     "data": {
      "text/plain": [
       "['__class__',\n",
       " '__delattr__',\n",
       " '__dict__',\n",
       " '__dir__',\n",
       " '__doc__',\n",
       " '__eq__',\n",
       " '__format__',\n",
       " '__ge__',\n",
       " '__getattribute__',\n",
       " '__getstate__',\n",
       " '__gt__',\n",
       " '__hash__',\n",
       " '__init__',\n",
       " '__init_subclass__',\n",
       " '__le__',\n",
       " '__lt__',\n",
       " '__module__',\n",
       " '__ne__',\n",
       " '__new__',\n",
       " '__reduce__',\n",
       " '__reduce_ex__',\n",
       " '__repr__',\n",
       " '__setattr__',\n",
       " '__sizeof__',\n",
       " '__str__',\n",
       " '__subclasshook__',\n",
       " '__weakref__',\n",
       " 'doors',\n",
       " 'enginetype',\n",
       " 'windows']"
      ]
     },
     "execution_count": 9,
     "metadata": {},
     "output_type": "execute_result"
    }
   ],
   "source": [
    "dir(audi)"
   ]
  },
  {
   "cell_type": "code",
   "execution_count": 17,
   "id": "02569fe0-cd06-42ce-a359-58ea216cb619",
   "metadata": {},
   "outputs": [],
   "source": [
    "#protected variable\n",
    "class Car():\n",
    "    def __init__(self,windows,doors,enginetype,color):\n",
    "        self._windows=windows\n",
    "        self._doors=doors\n",
    "        self._enginetype=enginetype\n",
    "        self._color=color"
   ]
  },
  {
   "cell_type": "code",
   "execution_count": 19,
   "id": "3c597aed-512e-4ce4-b839-71abde809ac0",
   "metadata": {},
   "outputs": [],
   "source": [
    "audi=Car(4,5,\"Diesel\",\"Black\")"
   ]
  },
  {
   "cell_type": "code",
   "execution_count": 23,
   "id": "3cd45a4a-1dd9-49fa-bfd2-2eadc7f25cc7",
   "metadata": {},
   "outputs": [
    {
     "data": {
      "text/plain": [
       "'Black'"
      ]
     },
     "execution_count": 23,
     "metadata": {},
     "output_type": "execute_result"
    }
   ],
   "source": [
    "audi._color"
   ]
  },
  {
   "cell_type": "code",
   "execution_count": 47,
   "id": "4483475c-d364-4464-8469-1536d1d81a91",
   "metadata": {},
   "outputs": [],
   "source": [
    "class Student():\n",
    "    def __init__(self,name,id,subject,yop):\n",
    "        self.__name=name\n",
    "        self.__id=id\n",
    "        self.__subject=subject\n",
    "        self.__yop=yop\n",
    "s1=Student(\"Amy\",99,\"DL\",2025)\n",
    "s2=Student(\"Alex\",97,\"ML\",2024)\n"
   ]
  },
  {
   "cell_type": "code",
   "execution_count": 49,
   "id": "d8d649b7-9975-4d7d-a40c-f2b2d59a1407",
   "metadata": {},
   "outputs": [
    {
     "data": {
      "text/plain": [
       "2025"
      ]
     },
     "execution_count": 49,
     "metadata": {},
     "output_type": "execute_result"
    }
   ],
   "source": [
    "s1._Student__yop"
   ]
  },
  {
   "cell_type": "code",
   "execution_count": 53,
   "id": "bc9f3651-6d1f-4667-b3b2-2a886a4dc4fb",
   "metadata": {},
   "outputs": [
    {
     "data": {
      "text/plain": [
       "['_Student__id',\n",
       " '_Student__name',\n",
       " '_Student__subject',\n",
       " '_Student__yop',\n",
       " '__class__',\n",
       " '__delattr__',\n",
       " '__dict__',\n",
       " '__dir__',\n",
       " '__doc__',\n",
       " '__eq__',\n",
       " '__format__',\n",
       " '__ge__',\n",
       " '__getattribute__',\n",
       " '__getstate__',\n",
       " '__gt__',\n",
       " '__hash__',\n",
       " '__init__',\n",
       " '__init_subclass__',\n",
       " '__le__',\n",
       " '__lt__',\n",
       " '__module__',\n",
       " '__ne__',\n",
       " '__new__',\n",
       " '__reduce__',\n",
       " '__reduce_ex__',\n",
       " '__repr__',\n",
       " '__setattr__',\n",
       " '__sizeof__',\n",
       " '__str__',\n",
       " '__subclasshook__',\n",
       " '__weakref__']"
      ]
     },
     "execution_count": 53,
     "metadata": {},
     "output_type": "execute_result"
    }
   ],
   "source": [
    "dir(s1)"
   ]
  },
  {
   "cell_type": "code",
   "execution_count": 57,
   "id": "b33d5397-0a15-4002-aea8-3b96ea570d65",
   "metadata": {},
   "outputs": [
    {
     "data": {
      "text/plain": [
       "'Savings'"
      ]
     },
     "execution_count": 57,
     "metadata": {},
     "output_type": "execute_result"
    }
   ],
   "source": [
    "class Bank():\n",
    "    def __init__(self,name,accno,acctype):\n",
    "        self.__name=name\n",
    "        self.__accno=accno\n",
    "        self.__acctype=acctype\n",
    "b1=Bank(\"Axis\",2536,\"Savings\")\n",
    "b2=Bank(\"Union\",987,\"Salary\")\n",
    "b1._Bank__acctype"
   ]
  },
  {
   "cell_type": "code",
   "execution_count": 11,
   "id": "b51e429d-2b1a-4647-93fa-04ab679c9c40",
   "metadata": {},
   "outputs": [
    {
     "data": {
      "text/plain": [
       "'Employee Details: 70000'"
      ]
     },
     "execution_count": 11,
     "metadata": {},
     "output_type": "execute_result"
    }
   ],
   "source": [
    "class Employee():\n",
    "    def __init__(self,name,empid,salary):\n",
    "        self.name=name\n",
    "        self.empid=empid\n",
    "        self.salary=salary\n",
    "    def newsal(self):\n",
    "        return (f\"Employee Details: {self.salary}\")\n",
    "e1=Employee(\"Alex\",99,70000)\n",
    "e1.newsal()"
   ]
  },
  {
   "cell_type": "code",
   "execution_count": 13,
   "id": "9899203c-8c41-47bb-a044-2f50fd8fc04b",
   "metadata": {},
   "outputs": [],
   "source": [
    "class person():\n",
    "    def age(self,current_year,year_of_birth):\n",
    "        return current_year-year_of_birth\n",
    "    def email_id_input(self,email_id):\n",
    "        print(\"take an email id form a person and print it\",email_id)\n",
    "        #print(f\"the email id of the person is {email_id}\")\n",
    "        #print()\n",
    "    def ask_name(self):\n",
    "        name=input(\"tell me your name\")\n",
    "        return name\n",
    "    def ask_dob(self):\n",
    "        dob=input(\"tell me your date of birth\")\n",
    "        return dob"
   ]
  },
  {
   "cell_type": "code",
   "execution_count": 21,
   "id": "6f1eb282-02fc-406f-ba82-e824e83c0a9a",
   "metadata": {},
   "outputs": [
    {
     "name": "stdout",
     "output_type": "stream",
     "text": [
      "take an email id form a person and print it p1@gmail.com\n"
     ]
    },
    {
     "name": "stdin",
     "output_type": "stream",
     "text": [
      "tell me your name Kinn\n",
      "tell me your date of birth 2000\n"
     ]
    },
    {
     "data": {
      "text/plain": [
       "'2000'"
      ]
     },
     "execution_count": 21,
     "metadata": {},
     "output_type": "execute_result"
    }
   ],
   "source": [
    "p1=person()\n",
    "p1.age(2025,2000)\n",
    "p1.email_id_input(\"p1@gmail.com\")\n",
    "p1.ask_name()\n",
    "p1.ask_dob()"
   ]
  },
  {
   "cell_type": "code",
   "execution_count": 27,
   "id": "1d231427-c3b7-44de-89dd-10170708172c",
   "metadata": {},
   "outputs": [
    {
     "data": {
      "text/plain": [
       "'audi'"
      ]
     },
     "execution_count": 27,
     "metadata": {},
     "output_type": "execute_result"
    }
   ],
   "source": [
    "class Car():\n",
    "    def __init__(self,brand,windows,enginetype,color):\n",
    "        self.brand=brand\n",
    "        self.windows=windows\n",
    "        self.enginetype=enginetype\n",
    "        self.color=color\n",
    "    def drive(self):\n",
    "        return \"the person drives the car\"\n",
    "c1=Car(\"audi\",4,\"petrol\",\"black\")\n",
    "c1.drive()\n",
    "c1.brand"
   ]
  },
  {
   "cell_type": "code",
   "execution_count": 33,
   "id": "ea6e6a76-955a-4150-b1d5-4c0496366179",
   "metadata": {},
   "outputs": [],
   "source": [
    "#inheritence\n",
    "class new_car(Car):\n",
    "    pass"
   ]
  },
  {
   "cell_type": "code",
   "execution_count": 37,
   "id": "3d4da681-b851-4aea-85a6-46cd356cf3a6",
   "metadata": {},
   "outputs": [
    {
     "data": {
      "text/plain": [
       "'White'"
      ]
     },
     "execution_count": 37,
     "metadata": {},
     "output_type": "execute_result"
    }
   ],
   "source": [
    "c2=new_car(\"BMW\",6,\"diesel\",\"White\")\n",
    "c2.color"
   ]
  },
  {
   "cell_type": "code",
   "execution_count": 39,
   "id": "6cfc83ec-8685-4d6a-a084-dd16f3e62c22",
   "metadata": {},
   "outputs": [],
   "source": [
    "class Employee():\n",
    "    def __init__(self,name,empid,pos):\n",
    "        self.name=name\n",
    "        self.empid=empid\n",
    "        self.pos=pos"
   ]
  },
  {
   "cell_type": "code",
   "execution_count": 55,
   "id": "2f10c53f-fd53-42cf-b14c-551ada0c8212",
   "metadata": {},
   "outputs": [],
   "source": [
    "class bharat(Employee):\n",
    "    def display(self):\n",
    "        return (f\"{self.name},{self.empid},{self.pos}\")"
   ]
  },
  {
   "cell_type": "code",
   "execution_count": 57,
   "id": "482cddaa-1992-415e-bdba-7375e9e1230b",
   "metadata": {},
   "outputs": [
    {
     "data": {
      "text/plain": [
       "'Henry,86,Scientist'"
      ]
     },
     "execution_count": 57,
     "metadata": {},
     "output_type": "execute_result"
    }
   ],
   "source": [
    "e1=bharat(\"Henry\",86,\"Scientist\")\n",
    "e1.display()"
   ]
  },
  {
   "cell_type": "code",
   "execution_count": 59,
   "id": "0da04078-e7d4-4e1a-ab3e-822b4c69f952",
   "metadata": {},
   "outputs": [],
   "source": [
    "class BMW(Car):\n",
    "    def __init__(self,brand,windows,enginetype,color,enableai):\n",
    "        super().__init__(brand,windows,enginetype,color)\n",
    "        self.enableai=enableai\n",
    "    def self_driving(self):\n",
    "        print(\"BMW supports self driving\")"
   ]
  },
  {
   "cell_type": "code",
   "execution_count": 63,
   "id": "d1e01c75-6246-4f13-8722-3dbb5ff6abbe",
   "metadata": {},
   "outputs": [
    {
     "data": {
      "text/plain": [
       "'new'"
      ]
     },
     "execution_count": 63,
     "metadata": {},
     "output_type": "execute_result"
    }
   ],
   "source": [
    "c2=BMW('new',5,'diesel','black',True)\n",
    "c2.brand"
   ]
  },
  {
   "cell_type": "code",
   "execution_count": 65,
   "id": "011c8a4e-89c6-44fe-8f26-8637825ae16e",
   "metadata": {},
   "outputs": [
    {
     "name": "stdout",
     "output_type": "stream",
     "text": [
      "BMW supports self driving\n"
     ]
    }
   ],
   "source": [
    "c2.self_driving()"
   ]
  },
  {
   "cell_type": "code",
   "execution_count": 1,
   "id": "c604f4cf-27e4-476d-be60-e3cc6aa7a606",
   "metadata": {},
   "outputs": [],
   "source": [
    "class Animal():\n",
    "    def speak(self):\n",
    "        print(\"Animal makes a sound\")\n",
    "class Dog(Animal):\n",
    "    def speak(self):\n",
    "        print(\"Dog barks\")\n",
    "class Cat(Animal):\n",
    "    def speak(self):\n",
    "        print(\"Cat meows\")"
   ]
  },
  {
   "cell_type": "code",
   "execution_count": 3,
   "id": "570c304b-4234-45d1-9507-7ca502a6c1c1",
   "metadata": {},
   "outputs": [],
   "source": [
    "dog=Dog()\n",
    "cat=Cat()"
   ]
  },
  {
   "cell_type": "code",
   "execution_count": 5,
   "id": "c2a4afa9-9954-44a3-827d-ef56c5b80237",
   "metadata": {},
   "outputs": [
    {
     "name": "stdout",
     "output_type": "stream",
     "text": [
      "Dog barks\n",
      "Cat meows\n"
     ]
    }
   ],
   "source": [
    "dog.speak()\n",
    "cat.speak()"
   ]
  },
  {
   "cell_type": "code",
   "execution_count": 7,
   "id": "c708a26e-697d-43a1-a757-2db8c8cc7702",
   "metadata": {},
   "outputs": [],
   "source": [
    "class Student():\n",
    "    def exams(self):\n",
    "        print(\"all exams have been completed\")\n",
    "class Gayatri(Student):\n",
    "    def exams(self):\n",
    "        print(\"i have one more exam left\")\n",
    "class Kavya(Student):\n",
    "    def exams(self):\n",
    "        print(\"completed all my exams,results are also out\")"
   ]
  },
  {
   "cell_type": "code",
   "execution_count": 9,
   "id": "be149fe1-e618-490c-a276-1938ec6cd627",
   "metadata": {},
   "outputs": [],
   "source": [
    "student1=Gayatri()\n",
    "student2=Kavya()"
   ]
  },
  {
   "cell_type": "code",
   "execution_count": 11,
   "id": "678a8ee1-9a9a-4c33-87f7-71e536e9cc41",
   "metadata": {},
   "outputs": [
    {
     "name": "stdout",
     "output_type": "stream",
     "text": [
      "i have one more exam left\n",
      "completed all my exams,results are also out\n"
     ]
    }
   ],
   "source": [
    "student1.exams()\n",
    "student2.exams()"
   ]
  },
  {
   "cell_type": "code",
   "execution_count": 13,
   "id": "0c9af90a-dd86-4a0e-a116-6542c328c976",
   "metadata": {},
   "outputs": [],
   "source": [
    "class aimnxt:\n",
    "    def student(self):\n",
    "        print(\"print the details of all the students\")\n",
    "    def achivers(self):\n",
    "        print(\"print the list of all the achievers\")\n",
    "    def hall_of_fame(self):\n",
    "        print(\"print everyone from hall of fame\")\n",
    "class aimnxt_vision(aimnxt):\n",
    "    def student(self):\n",
    "        print(\"these are the filters student list\")"
   ]
  },
  {
   "cell_type": "code",
   "execution_count": 15,
   "id": "13f4dbf2-b3d3-4af0-854d-a28dd68ac775",
   "metadata": {},
   "outputs": [
    {
     "name": "stdout",
     "output_type": "stream",
     "text": [
      "these are the filters student list\n"
     ]
    }
   ],
   "source": [
    "obj1=aimnxt_vision()\n",
    "obj1.student()"
   ]
  },
  {
   "cell_type": "code",
   "execution_count": 21,
   "id": "76af996c-6b81-4e5f-8094-29980b5cca7f",
   "metadata": {},
   "outputs": [],
   "source": [
    "class BankAccount:\n",
    "    def __init__(self,acc_holder,balance):\n",
    "        self.acc_holder=acc_holder\n",
    "        self.__balance=balance\n",
    "    def get_balance(self):\n",
    "        return self.__balance\n",
    "    def deposit(self,amount):\n",
    "        if amount>0:\n",
    "            self.__balance+=amount\n",
    "            print(f\"Deposit {amount}.New balance:{self.__balance}\")\n",
    "        else:\n",
    "            print(\"Invalid deposit amount\")\n",
    "    def withdraw(self,amount):\n",
    "        if 0<amount<self.__balance:\n",
    "            self.__balance-=amount\n",
    "            print(f\"Withdrew {amount}.New Balance:{self.__balance}\")\n",
    "        else:\n",
    "            print(\"Invalid withdrawal or Insufficient funds\")\n",
    "    "
   ]
  },
  {
   "cell_type": "code",
   "execution_count": 23,
   "id": "50c3ab11-4895-4add-93a8-b06cdae9b921",
   "metadata": {},
   "outputs": [],
   "source": [
    "account=BankAccount(\"Alice\",10000)"
   ]
  },
  {
   "cell_type": "code",
   "execution_count": 25,
   "id": "07d92e26-37ff-43f4-851b-cb254f672119",
   "metadata": {},
   "outputs": [
    {
     "name": "stdout",
     "output_type": "stream",
     "text": [
      "Balance: 10000\n"
     ]
    }
   ],
   "source": [
    "print(\"Balance:\",account.get_balance())"
   ]
  },
  {
   "cell_type": "code",
   "execution_count": 27,
   "id": "13419e3e-149a-4d69-8be8-5432d0ce0886",
   "metadata": {},
   "outputs": [
    {
     "name": "stdout",
     "output_type": "stream",
     "text": [
      "Deposit 15000.New balance:25000\n"
     ]
    }
   ],
   "source": [
    "account.deposit(15000)"
   ]
  },
  {
   "cell_type": "code",
   "execution_count": 29,
   "id": "de49d9b0-e3dd-4a9c-80f1-5f0f1df3204a",
   "metadata": {},
   "outputs": [
    {
     "name": "stdout",
     "output_type": "stream",
     "text": [
      "Withdrew 10000.New Balance:15000\n"
     ]
    }
   ],
   "source": [
    "account.withdraw(10000)"
   ]
  },
  {
   "cell_type": "code",
   "execution_count": 33,
   "id": "9799fc60-a690-45bd-9054-8352a1c0da28",
   "metadata": {},
   "outputs": [
    {
     "name": "stdout",
     "output_type": "stream",
     "text": [
      "2000\n",
      "Deposit 1000.New balance:3000\n",
      "Withdrew 200.New Balance:2800\n"
     ]
    }
   ],
   "source": [
    "account1=BankAccount(\"Bob\",2000)\n",
    "print(account1.get_balance())\n",
    "account1.deposit(1000)\n",
    "account1.withdraw(200)"
   ]
  },
  {
   "cell_type": "code",
   "execution_count": null,
   "id": "8d561a27-9fbe-42ba-a077-b29587479fb1",
   "metadata": {},
   "outputs": [],
   "source": [
    "class Car:\n",
    "    def __init__(self,model):\n",
    "        self.model=model\n",
    "        self.__speed=0\n",
    "    def get_speed(self):\n",
    "        return self.__speed\n",
    "    def set_speed(self):\n",
    "        if 0<=speed<=200:\n",
    "            self.__speed=speed\n",
    "            print(f\"Speed set to {speed}kmph\")\n",
    "        else:\n",
    "            print(\"Invalid speed! Enter a value between 0 and 200 kmph\")\n",
    "    def accelarate(self,increment):\n",
    "        "
   ]
  },
  {
   "cell_type": "code",
   "execution_count": null,
   "id": "020df6cf-0966-4d0a-b3c0-e9833e637de4",
   "metadata": {},
   "outputs": [],
   "source": []
  }
 ],
 "metadata": {
  "kernelspec": {
   "display_name": "Python [conda env:base] *",
   "language": "python",
   "name": "conda-base-py"
  },
  "language_info": {
   "codemirror_mode": {
    "name": "ipython",
    "version": 3
   },
   "file_extension": ".py",
   "mimetype": "text/x-python",
   "name": "python",
   "nbconvert_exporter": "python",
   "pygments_lexer": "ipython3",
   "version": "3.12.7"
  }
 },
 "nbformat": 4,
 "nbformat_minor": 5
}
