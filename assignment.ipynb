{
 "cells": [
  {
   "cell_type": "code",
   "execution_count": 1,
   "id": "ebab2c0c-5e57-409c-9895-b810cc5d3f6a",
   "metadata": {},
   "outputs": [],
   "source": [
    "s=\"this is My First Python programming class and i am learNING python string and its function\""
   ]
  },
  {
   "cell_type": "code",
   "execution_count": 5,
   "id": "0c706ec2-eebd-4404-870a-9390035a82c4",
   "metadata": {},
   "outputs": [
    {
     "data": {
      "text/plain": [
       "'tssyityopgmncsa alrNph rgni ni'"
      ]
     },
     "execution_count": 5,
     "metadata": {},
     "output_type": "execute_result"
    }
   ],
   "source": [
    "s[0:300:3]#Try to extract data from index one to index 300 with a jump of 3"
   ]
  },
  {
   "cell_type": "code",
   "execution_count": 7,
   "id": "b418df2d-1d77-445a-ade6-d183f49f9f25",
   "metadata": {},
   "outputs": [
    {
     "data": {
      "text/plain": [
       "'noitcnuf sti dna gnirts nohtyp GNINrael ma i dna ssalc gnimmargorp nohtyP tsriF yM si siht'"
      ]
     },
     "execution_count": 7,
     "metadata": {},
     "output_type": "execute_result"
    }
   ],
   "source": [
    "s[::-1]#Try to reverse a string without using reverse function"
   ]
  },
  {
   "cell_type": "code",
   "execution_count": 13,
   "id": "33448fa7-320c-45fe-8521-a55382134705",
   "metadata": {},
   "outputs": [
    {
     "data": {
      "text/plain": [
       "['THIS',\n",
       " 'IS',\n",
       " 'MY',\n",
       " 'FIRST',\n",
       " 'PYTHON',\n",
       " 'PROGRAMMING',\n",
       " 'CLASS',\n",
       " 'AND',\n",
       " 'I',\n",
       " 'AM',\n",
       " 'LEARNING',\n",
       " 'PYTHON',\n",
       " 'STRING',\n",
       " 'AND',\n",
       " 'ITS',\n",
       " 'FUNCTION']"
      ]
     },
     "execution_count": 13,
     "metadata": {},
     "output_type": "execute_result"
    }
   ],
   "source": [
    "s1=s.upper()# string in uppercase\n",
    "s1.split()#split a string"
   ]
  },
  {
   "cell_type": "code",
   "execution_count": 15,
   "id": "8ab5322f-3d74-4e30-ada0-89daa6d551b7",
   "metadata": {},
   "outputs": [
    {
     "data": {
      "text/plain": [
       "'this is my first python programming class and i am learning python string and its function'"
      ]
     },
     "execution_count": 15,
     "metadata": {},
     "output_type": "execute_result"
    }
   ],
   "source": [
    "s.lower()#try to convert the whole string into lower case"
   ]
  },
  {
   "cell_type": "code",
   "execution_count": 17,
   "id": "272e249d-4ac7-4d11-84d0-febd6bf2524b",
   "metadata": {},
   "outputs": [
    {
     "data": {
      "text/plain": [
       "'This is my first python programming class and i am learning python string and its function'"
      ]
     },
     "execution_count": 17,
     "metadata": {},
     "output_type": "execute_result"
    }
   ],
   "source": [
    "s.capitalize()#Try to capitalize the whole string"
   ]
  },
  {
   "cell_type": "code",
   "execution_count": null,
   "id": "4c62a852-1a56-4314-9702-4014633ae841",
   "metadata": {},
   "outputs": [],
   "source": [
    "#isalnum means if the given thing is alphabet or numeric if yes then it returns true.isalpha means it given thing is alphabet or not,if yes then it returns true"
   ]
  },
  {
   "cell_type": "code",
   "execution_count": 19,
   "id": "f52d1b30-23b7-43ff-a2d8-9a0edf37a6ff",
   "metadata": {},
   "outputs": [
    {
     "data": {
      "text/plain": [
       "'this is My First Python programming class and i am learNING python string and its function'"
      ]
     },
     "execution_count": 19,
     "metadata": {},
     "output_type": "execute_result"
    }
   ],
   "source": [
    "s.expandtabs()"
   ]
  },
  {
   "cell_type": "code",
   "execution_count": 21,
   "id": "8b1dc9bf-6394-4fe7-96c1-102898af9de3",
   "metadata": {},
   "outputs": [
    {
     "data": {
      "text/plain": [
       "'Aimnxt     '"
      ]
     },
     "execution_count": 21,
     "metadata": {},
     "output_type": "execute_result"
    }
   ],
   "source": [
    "s2=\"  Aimnxt     \"\n",
    "s2.lstrip()"
   ]
  },
  {
   "cell_type": "code",
   "execution_count": 23,
   "id": "46c1f168-f918-4b4f-8171-bd9722ba770b",
   "metadata": {},
   "outputs": [
    {
     "data": {
      "text/plain": [
       "'  Aimnxt'"
      ]
     },
     "execution_count": 23,
     "metadata": {},
     "output_type": "execute_result"
    }
   ],
   "source": [
    "s2.rstrip()"
   ]
  },
  {
   "cell_type": "code",
   "execution_count": 25,
   "id": "bf88064a-ebcc-4812-a50c-fea1e1f7eb21",
   "metadata": {},
   "outputs": [
    {
     "data": {
      "text/plain": [
       "'Aimnxt'"
      ]
     },
     "execution_count": 25,
     "metadata": {},
     "output_type": "execute_result"
    }
   ],
   "source": [
    "s2.strip()"
   ]
  },
  {
   "cell_type": "code",
   "execution_count": 29,
   "id": "f883261c-549a-4399-8dee-ad41e1da522b",
   "metadata": {},
   "outputs": [
    {
     "data": {
      "text/plain": [
       "'this is My First Python progremming cless end i em leerNING python string end its function'"
      ]
     },
     "execution_count": 29,
     "metadata": {},
     "output_type": "execute_result"
    }
   ],
   "source": [
    "s.replace('a','e')"
   ]
  },
  {
   "cell_type": "code",
   "execution_count": 35,
   "id": "fc1c30da-8a54-4a7b-83f4-d30da752359e",
   "metadata": {},
   "outputs": [
    {
     "data": {
      "text/plain": [
       "'********  Aimnxt     *********'"
      ]
     },
     "execution_count": 35,
     "metadata": {},
     "output_type": "execute_result"
    }
   ],
   "source": [
    "#The center() function in Python is used to center-align a string  by padding it with a specified character (default is a space) on both sides. The total width of the returned string is specified by the user.\n",
    "s2.center(30,'*')"
   ]
  },
  {
   "cell_type": "code",
   "execution_count": null,
   "id": "aa07fad5-5ce8-4552-b755-9abb1a57e7e1",
   "metadata": {},
   "outputs": [],
   "source": [
    "#compiler:Translates the entire code at once.converts into machine code.\n",
    "#interpretor:Executes code line by line."
   ]
  },
  {
   "cell_type": "code",
   "execution_count": null,
   "id": "6e41f2d8-48aa-4a4a-8126-e80dfb58c8a0",
   "metadata": {},
   "outputs": [],
   "source": [
    "#Python first converts the code from high level language to machine code.Then it is executed line by line at the time of execution."
   ]
  },
  {
   "cell_type": "code",
   "execution_count": null,
   "id": "59901059-295e-4c2d-9ef5-f2ea99f78580",
   "metadata": {},
   "outputs": [],
   "source": [
    "Ecommerce website "
   ]
  },
  {
   "cell_type": "code",
   "execution_count": 1,
   "id": "7e6087c4-e67a-48ad-b5b4-4b4e1cfd8dea",
   "metadata": {},
   "outputs": [
    {
     "name": "stdin",
     "output_type": "stream",
     "text": [
      " 5\n",
      " 6\n"
     ]
    },
    {
     "name": "stdout",
     "output_type": "stream",
     "text": [
      "The largest: 6\n"
     ]
    }
   ],
   "source": [
    "a=int(input())\n",
    "b=int(input())\n",
    "if a<b:\n",
    "    print(\"The largest:\",b)\n",
    "elif a>b:\n",
    "    print(\"The largest:\",a)\n",
    "else:\n",
    "    print(\"Both are equal\")"
   ]
  },
  {
   "cell_type": "code",
   "execution_count": 3,
   "id": "34c226a1-bb8c-4246-b026-92ad55a56c1a",
   "metadata": {},
   "outputs": [
    {
     "name": "stdin",
     "output_type": "stream",
     "text": [
      "Enter a character:  a\n"
     ]
    },
    {
     "name": "stdout",
     "output_type": "stream",
     "text": [
      "Vowel\n"
     ]
    }
   ],
   "source": [
    "character = input(\"Enter a character: \").lower()\n",
    "if character in ('a', 'e', 'i', 'o', 'u'):\n",
    "    print(\"Vowel\")\n",
    "else:\n",
    "    print(\"Consonant\")"
   ]
  },
  {
   "cell_type": "code",
   "execution_count": 5,
   "id": "e2963386-af35-4ad7-bcef-e1a3d7a08838",
   "metadata": {},
   "outputs": [
    {
     "name": "stdin",
     "output_type": "stream",
     "text": [
      "Enter the year 2024\n"
     ]
    },
    {
     "name": "stdout",
     "output_type": "stream",
     "text": [
      "2024 is a leap year\n"
     ]
    }
   ],
   "source": [
    "def is_leap(year):\n",
    "    return (year%4==0) and (year%100!=0) or (year%400==0)\n",
    "year=int(input(\"Enter the year\"))\n",
    "if is_leap(year):\n",
    "    print(f\"{year} is a leap year\")\n",
    "else:\n",
    "    print(f\"{year} is not a leap year\")"
   ]
  },
  {
   "cell_type": "code",
   "execution_count": 11,
   "id": "80ac414b-2ed6-410b-898e-b82476e33128",
   "metadata": {},
   "outputs": [
    {
     "name": "stdin",
     "output_type": "stream",
     "text": [
      "Enter the age: 18\n"
     ]
    },
    {
     "name": "stdout",
     "output_type": "stream",
     "text": [
      "Eligible to vote\n"
     ]
    }
   ],
   "source": [
    "age=int(input(\"Enter the age:\"))\n",
    "if age>=18:\n",
    "    print(\"Eligible to vote\")\n",
    "else:\n",
    "    print(\"Not eligible to vote\")"
   ]
  },
  {
   "cell_type": "code",
   "execution_count": 13,
   "id": "7b35293a-0ae9-4b1b-b194-0203a7dbaafe",
   "metadata": {},
   "outputs": [
    {
     "name": "stdin",
     "output_type": "stream",
     "text": [
      "Enter marks: 99\n"
     ]
    },
    {
     "name": "stdout",
     "output_type": "stream",
     "text": [
      "Studen's grade is A\n",
      "Student's marks are Odd\n"
     ]
    }
   ],
   "source": [
    "def calc(marks):\n",
    "    if marks>=90:\n",
    "        grade='A'\n",
    "    elif 75<=marks<90:\n",
    "        grade='B'\n",
    "    elif 50<=marks<75:\n",
    "        grade='C'\n",
    "    else:\n",
    "        grade='F'\n",
    "    return grade\n",
    "def check(marks):\n",
    "    if marks%2==0:\n",
    "        return \"Even\"\n",
    "    else:\n",
    "        return \"Odd\"\n",
    "marks=int(input(\"Enter marks:\"))\n",
    "grade=calc(marks)\n",
    "eve_odd=check(marks)\n",
    "print(f\"Studen's grade is {grade}\")\n",
    "print(f\"Student's marks are {eve_odd}\")"
   ]
  },
  {
   "cell_type": "code",
   "execution_count": 15,
   "id": "93c19b40-aec9-4792-b32d-ef794a534268",
   "metadata": {},
   "outputs": [
    {
     "name": "stdin",
     "output_type": "stream",
     "text": [
      " 8\n",
      " 9\n",
      " 6\n"
     ]
    },
    {
     "name": "stdout",
     "output_type": "stream",
     "text": [
      "max is 9\n"
     ]
    }
   ],
   "source": [
    "a=int(input())\n",
    "b=int(input())\n",
    "c=int(input())\n",
    "if a>=b and a >= c:\n",
    "    print(\"max is\",a)\n",
    "elif b>=a and b>=c:\n",
    "    print(\"max is\",b)\n",
    "else:\n",
    "    print(\"max is\",c)"
   ]
  },
  {
   "cell_type": "code",
   "execution_count": 17,
   "id": "8332184c-7bc7-482a-9948-285e4f85a4a3",
   "metadata": {},
   "outputs": [
    {
     "name": "stdin",
     "output_type": "stream",
     "text": [
      "Enter the password:  jim\n"
     ]
    },
    {
     "name": "stdout",
     "output_type": "stream",
     "text": [
      "Access Denied\n"
     ]
    }
   ],
   "source": [
    "predefined_password = \"Henry123\"\n",
    "user_password = input(\"Enter the password: \")\n",
    "if user_password == predefined_password:\n",
    "    print(\"Access Granted\")\n",
    "else:\n",
    "    print(\"Access Denied\")"
   ]
  },
  {
   "cell_type": "code",
   "execution_count": 21,
   "id": "f5f7f045-77e2-404d-a832-40acf81e5120",
   "metadata": {},
   "outputs": [
    {
     "name": "stdin",
     "output_type": "stream",
     "text": [
      " 2000\n"
     ]
    },
    {
     "name": "stdout",
     "output_type": "stream",
     "text": [
      "1800.0\n"
     ]
    }
   ],
   "source": [
    "amount=int(input())\n",
    "bill=0\n",
    "if amount>1000:\n",
    "    bill=amount-amount*0.1\n",
    "    print(bill)\n",
    "else:\n",
    "    bill=amount\n",
    "    print(bill)"
   ]
  },
  {
   "cell_type": "code",
   "execution_count": 23,
   "id": "a99dbf1a-37ea-40a7-b8c4-f7a3eb879628",
   "metadata": {},
   "outputs": [
    {
     "name": "stdin",
     "output_type": "stream",
     "text": [
      " 6\n",
      " 9\n",
      " 6\n"
     ]
    },
    {
     "name": "stdout",
     "output_type": "stream",
     "text": [
      "Isosceles\n"
     ]
    }
   ],
   "source": [
    "s1=int(input())\n",
    "s2=int(input())\n",
    "s3=int(input())\n",
    "if s1==s2==s3:\n",
    "    print(\"Equilateral\")\n",
    "elif s1==s2 or s2==s3 or s3==s1:\n",
    "    print(\"Isosceles\")\n",
    "else:\n",
    "    print(\"Scalene\")"
   ]
  },
  {
   "cell_type": "code",
   "execution_count": 25,
   "id": "2aa01afb-0902-45ec-a111-c184d64ebbc2",
   "metadata": {},
   "outputs": [
    {
     "name": "stdin",
     "output_type": "stream",
     "text": [
      " 55\n"
     ]
    },
    {
     "name": "stdout",
     "output_type": "stream",
     "text": [
      "55 is divisible by 5 and 11\n"
     ]
    }
   ],
   "source": [
    "a=int(input())\n",
    "if a%5==0 and a%11==0:\n",
    "    print(f\"{a} is divisible by 5 and 11\")\n",
    "else:\n",
    "    print(f\"{a} is not divisible by 5 and 11\")"
   ]
  },
  {
   "cell_type": "code",
   "execution_count": 27,
   "id": "adbd34c3-e092-46c5-bea1-9c87a204a270",
   "metadata": {},
   "outputs": [
    {
     "name": "stdin",
     "output_type": "stream",
     "text": [
      "Enter the total number of classes:  89\n",
      "Enter the number of classes attended:  79\n"
     ]
    },
    {
     "name": "stdout",
     "output_type": "stream",
     "text": [
      "Your attendance is: 88.76%\n",
      "You are eligible to take the exam.\n"
     ]
    }
   ],
   "source": [
    "total_classes = int(input(\"Enter the total number of classes: \"))\n",
    "attended_classes = int(input(\"Enter the number of classes attended: \"))\n",
    "attendance_percentage = (attended_classes / total_classes) * 100\n",
    "print(f\"Your attendance is: {attendance_percentage:.2f}%\")\n",
    "if attendance_percentage >= 75:\n",
    "    print(\"You are eligible to take the exam.\")\n",
    "else:\n",
    "    print(\"You are not eligible to take the exam.\")"
   ]
  },
  {
   "cell_type": "code",
   "execution_count": 29,
   "id": "31905368-c8d5-459d-8bc3-1d22f94ceb2a",
   "metadata": {},
   "outputs": [
    {
     "name": "stdin",
     "output_type": "stream",
     "text": [
      "Enter temp: 34\n"
     ]
    },
    {
     "name": "stdout",
     "output_type": "stream",
     "text": [
      "It's hot outside. Stay hydrated.\n"
     ]
    }
   ],
   "source": [
    "temp=int(input(\"Enter temp:\"))\n",
    "if temp>30:\n",
    "    print(\"It's hot outside. Stay hydrated.\")\n",
    "elif 15<=temp<31:\n",
    "    print(\"The weather is pleasant.\")\n",
    "else:\n",
    "    print(\"It's cold outside. Wear a jacket.\")"
   ]
  },
  {
   "cell_type": "code",
   "execution_count": 31,
   "id": "fe760817-7ae3-4f3f-8193-7ee6b9817180",
   "metadata": {},
   "outputs": [
    {
     "name": "stdin",
     "output_type": "stream",
     "text": [
      " 56\n"
     ]
    },
    {
     "name": "stdout",
     "output_type": "stream",
     "text": [
      "Number within range of 1 and 100\n"
     ]
    }
   ],
   "source": [
    "n=int(input())\n",
    "if 1<=n<=100:\n",
    "    print(\"Number within range of 1 and 100\")\n",
    "else:\n",
    "    print(\"Not in range\")"
   ]
  },
  {
   "cell_type": "code",
   "execution_count": 33,
   "id": "7e0eaf09-add6-4b85-8308-640732ab2d05",
   "metadata": {},
   "outputs": [
    {
     "name": "stdin",
     "output_type": "stream",
     "text": [
      " 6\n",
      " 9\n",
      " +\n"
     ]
    },
    {
     "name": "stdout",
     "output_type": "stream",
     "text": [
      "15\n"
     ]
    }
   ],
   "source": [
    "def calc(m,n,op):\n",
    "    if op=='+':\n",
    "        print(m+n)\n",
    "    elif op=='-':\n",
    "        print(m-n)\n",
    "    elif op=='*':\n",
    "        print(m*n)\n",
    "    elif op=='/':\n",
    "        if n==0:\n",
    "            print(\"invalid\")\n",
    "        else:\n",
    "            print(m/n)\n",
    "    else:\n",
    "        print(\"invalid\")\n",
    "m=int(input())\n",
    "n=int(input())\n",
    "op=input()\n",
    "c=calc(m,n,op)"
   ]
  },
  {
   "cell_type": "code",
   "execution_count": 35,
   "id": "3adfdccf-2bf4-40c8-8bed-afdaed07fac6",
   "metadata": {},
   "outputs": [
    {
     "name": "stdin",
     "output_type": "stream",
     "text": [
      "Enter the year 2022\n"
     ]
    },
    {
     "name": "stdout",
     "output_type": "stream",
     "text": [
      "even\n"
     ]
    }
   ],
   "source": [
    "n=int(input(\"Enter the year\"))\n",
    "if n%2==0:\n",
    "    print(\"even\")\n",
    "else:\n",
    "    print(\"odd\")"
   ]
  },
  {
   "cell_type": "code",
   "execution_count": 37,
   "id": "ff96b572-5da3-4c07-9621-1022c14dc2f3",
   "metadata": {},
   "outputs": [
    {
     "name": "stdout",
     "output_type": "stream",
     "text": [
      "[1, 2, 4, 5]\n"
     ]
    }
   ],
   "source": [
    "l=[1,2,3,4,5]#Create a list of five integers. Remove the third element from the list and print the updated list.\n",
    "l.pop(2)\n",
    "print(l)"
   ]
  },
  {
   "cell_type": "code",
   "execution_count": 39,
   "id": "5eb18cbe-0f45-4dfd-b8e0-34cb0673b112",
   "metadata": {},
   "outputs": [
    {
     "name": "stdout",
     "output_type": "stream",
     "text": [
      "[1, 2, 3, 10]\n"
     ]
    }
   ],
   "source": [
    "l=[1,2,10,3,10]#Create a list of five integers. Remove the first occurrence of the number 10 from the list and print the result.\n",
    "l.remove(10)\n",
    "print(l)"
   ]
  },
  {
   "cell_type": "code",
   "execution_count": 41,
   "id": "310a2a64-0651-4de1-8261-c1c4a8bb6ecf",
   "metadata": {},
   "outputs": [
    {
     "data": {
      "text/plain": [
       "[6, 2, 9, 5, 10, 15]"
      ]
     },
     "execution_count": 41,
     "metadata": {},
     "output_type": "execute_result"
    }
   ],
   "source": [
    "l=[6,2,9]\n",
    "l=l+[5,10,15]#Create a list and add the numbers 5, 10, and 15 to it. Print the final list\n",
    "l"
   ]
  },
  {
   "cell_type": "code",
   "execution_count": 43,
   "id": "f76be2f0-e906-4ecd-a849-396f99e4ace2",
   "metadata": {},
   "outputs": [
    {
     "data": {
      "text/plain": [
       "['Henry', 'Rudra', 'Arjun', 'Alex']"
      ]
     },
     "execution_count": 43,
     "metadata": {},
     "output_type": "execute_result"
    }
   ],
   "source": [
    "l=[\"Henry\",\"Rudra\",\"Arjun\"]#Create a list with three strings. Use the append method to add a new string to the end of the list.\n",
    "l.append(\"Alex\")\n",
    "l"
   ]
  },
  {
   "cell_type": "code",
   "execution_count": 45,
   "id": "09bdcf20-ad79-43b3-9f47-611a9b8478db",
   "metadata": {},
   "outputs": [
    {
     "name": "stdout",
     "output_type": "stream",
     "text": [
      "3\n"
     ]
    }
   ],
   "source": [
    "l= [5, 10, 15, 25, 35, 25, 45]\n",
    "i = l.index(25)#Create a list of numbers and find the index of the first occurrence of the number 25 in the list. Print the index.\n",
    "print(i)"
   ]
  },
  {
   "cell_type": "code",
   "execution_count": 47,
   "id": "fbb2669a-3bb2-4fd6-a00f-fbdf08c72883",
   "metadata": {},
   "outputs": [
    {
     "data": {
      "text/plain": [
       "1"
      ]
     },
     "execution_count": 47,
     "metadata": {},
     "output_type": "execute_result"
    }
   ],
   "source": [
    "l=[\"apple\",\"banana\",\"custard\",\"guava\"]\n",
    "i=l.index(\"banana\")#Create a list of strings and find the index of the string \"banana\". Print the index.\n",
    "i"
   ]
  },
  {
   "cell_type": "code",
   "execution_count": 49,
   "id": "daf131f9-5f90-48bf-b69e-01efd3e16c9c",
   "metadata": {},
   "outputs": [
    {
     "data": {
      "text/plain": [
       "2"
      ]
     },
     "execution_count": 49,
     "metadata": {},
     "output_type": "execute_result"
    }
   ],
   "source": [
    "l=[\"apple\",\"banana\",\"apple\",\"orange\",\"mango\"]#Create a list of numbers and count how many times the number 3 appears in the list. Print the result.\n",
    "i=l.count(\"apple\")\n",
    "i"
   ]
  },
  {
   "cell_type": "code",
   "execution_count": 51,
   "id": "f470ddcc-c08f-4afc-89ad-abe6ce34ef89",
   "metadata": {},
   "outputs": [
    {
     "data": {
      "text/plain": [
       "9"
      ]
     },
     "execution_count": 51,
     "metadata": {},
     "output_type": "execute_result"
    }
   ],
   "source": [
    "l=[4,6,9,8,7]#Create a list of integers and find the maximum value in the list. Print the result.\n",
    "max(l)"
   ]
  },
  {
   "cell_type": "code",
   "execution_count": 53,
   "id": "f54a35d8-94a3-425e-94ac-e568d5df8fd4",
   "metadata": {},
   "outputs": [
    {
     "data": {
      "text/plain": [
       "9.7"
      ]
     },
     "execution_count": 53,
     "metadata": {},
     "output_type": "execute_result"
    }
   ],
   "source": [
    "l=[6.5,3.5,9.7,5.9,8.9]#Create a list of floating-point numbers and find the largest number. Print the result.\n",
    "i=max(l)\n",
    "i"
   ]
  },
  {
   "cell_type": "code",
   "execution_count": 55,
   "id": "3b886a4d-0444-46b4-b48e-b551cea66c23",
   "metadata": {},
   "outputs": [
    {
     "data": {
      "text/plain": [
       "3"
      ]
     },
     "execution_count": 55,
     "metadata": {},
     "output_type": "execute_result"
    }
   ],
   "source": [
    "l=[5,9,8,6,3]#Create a list of integers and find the smallest value in the list. Print the result.\n",
    "i=min(l)\n",
    "i"
   ]
  },
  {
   "cell_type": "code",
   "execution_count": 57,
   "id": "81200c7c-8db9-4ef0-ad09-5718e9a96005",
   "metadata": {},
   "outputs": [
    {
     "data": {
      "text/plain": [
       "[2, 3, 5, 7, 9]"
      ]
     },
     "execution_count": 57,
     "metadata": {},
     "output_type": "execute_result"
    }
   ],
   "source": [
    "l=[5,9,2,3,7]#Create a list of integers and sort it in ascending order. Print the sorted list.\n",
    "l.sort()\n",
    "l"
   ]
  },
  {
   "cell_type": "code",
   "execution_count": 59,
   "id": "86c7f687-dd1f-43db-b947-41ce6f376466",
   "metadata": {},
   "outputs": [
    {
     "data": {
      "text/plain": [
       "[9, 8, 7, 6, 5]"
      ]
     },
     "execution_count": 59,
     "metadata": {},
     "output_type": "execute_result"
    }
   ],
   "source": [
    "l=[5,7,9,8,6]#Create a list of strings and sort it in descending alphabetical order. Print the sorted list.\n",
    "l.sort(reverse=True)\n",
    "l"
   ]
  },
  {
   "cell_type": "code",
   "execution_count": 61,
   "id": "91e62469-7808-4c1b-8282-c98b9369ddb4",
   "metadata": {},
   "outputs": [
    {
     "data": {
      "text/plain": [
       "[4, 9, 5]"
      ]
     },
     "execution_count": 61,
     "metadata": {},
     "output_type": "execute_result"
    }
   ],
   "source": [
    "n=[4,9,5,7,6]#Create a list of numbers. Extract the first three elements using slicing and print them.\n",
    "i=n[:3]\n",
    "i"
   ]
  },
  {
   "cell_type": "code",
   "execution_count": 63,
   "id": "ed5ac6a8-f370-431b-b03e-13b0725367e2",
   "metadata": {},
   "outputs": [
    {
     "name": "stdout",
     "output_type": "stream",
     "text": [
      "['apple', 'banana', 'cherry', 'date']\n"
     ]
    }
   ],
   "source": [
    "w=[\"apple\",\"banana\",\"cherry\",\"date\",\"fig\",\"grape\"]#Create a list of strings. Extract all elements except the last two using slicing and print the result.\n",
    "i=w[:-2]\n",
    "print(i)"
   ]
  },
  {
   "cell_type": "code",
   "execution_count": null,
   "id": "3a5c7383-be60-4403-8e3f-196624972515",
   "metadata": {},
   "outputs": [],
   "source": []
  }
 ],
 "metadata": {
  "kernelspec": {
   "display_name": "Python [conda env:base] *",
   "language": "python",
   "name": "conda-base-py"
  },
  "language_info": {
   "codemirror_mode": {
    "name": "ipython",
    "version": 3
   },
   "file_extension": ".py",
   "mimetype": "text/x-python",
   "name": "python",
   "nbconvert_exporter": "python",
   "pygments_lexer": "ipython3",
   "version": "3.12.7"
  }
 },
 "nbformat": 4,
 "nbformat_minor": 5
}
