{
 "cells": [
  {
   "cell_type": "code",
   "execution_count": 5,
   "id": "f19b92c0-e281-4516-b155-24e322929a1b",
   "metadata": {},
   "outputs": [],
   "source": [
    "def is_even(a):\n",
    "    if a%2==0:\n",
    "        return \"The number is even\"\n",
    "    else:\n",
    "        return \"The number is odd\""
   ]
  },
  {
   "cell_type": "code",
   "execution_count": 7,
   "id": "66ebeebb-5b1e-4686-9d6b-0c3487569a4c",
   "metadata": {},
   "outputs": [
    {
     "data": {
      "text/plain": [
       "'The number is even'"
      ]
     },
     "execution_count": 7,
     "metadata": {},
     "output_type": "execute_result"
    }
   ],
   "source": [
    "is_even(8)"
   ]
  },
  {
   "cell_type": "code",
   "execution_count": 61,
   "id": "f469b9ba-865f-471b-80dd-6b6a50efd72f",
   "metadata": {},
   "outputs": [],
   "source": [
    "l=[1,2,3,4,\"aimnxxt\",\"datascience\",True,False,10.5,30.6]"
   ]
  },
  {
   "cell_type": "code",
   "execution_count": 51,
   "id": "deea27e3-24d7-4930-b114-a289089d3817",
   "metadata": {},
   "outputs": [
    {
     "data": {
      "text/plain": [
       "['aimnxxt', 'datascience']"
      ]
     },
     "execution_count": 51,
     "metadata": {},
     "output_type": "execute_result"
    }
   ],
   "source": [
    "def new_list(l):\n",
    "    l1=[]\n",
    "    for i in l:\n",
    "        if type(i)==str:\n",
    "            l1.append(i)\n",
    "    return l1\n",
    "new_list(l)"
   ]
  },
  {
   "cell_type": "code",
   "execution_count": 73,
   "id": "2decba85-2dac-4e23-bf53-24523e28a28b",
   "metadata": {},
   "outputs": [],
   "source": [
    "def new_bre(l):\n",
    "    for i in l:\n",
    "        if i==\"datascience\":\n",
    "            break\n",
    "        print(i)\n",
    "    "
   ]
  },
  {
   "cell_type": "code",
   "execution_count": 75,
   "id": "45dcef4c-6262-4171-ba58-a5da4659f770",
   "metadata": {},
   "outputs": [
    {
     "name": "stdout",
     "output_type": "stream",
     "text": [
      "1\n",
      "2\n",
      "3\n",
      "4\n",
      "aimnxxt\n"
     ]
    }
   ],
   "source": [
    "new_bre(l)"
   ]
  },
  {
   "cell_type": "code",
   "execution_count": 87,
   "id": "6690a566-d882-470c-8fa1-ac71c52fe35e",
   "metadata": {},
   "outputs": [],
   "source": [
    "def new_num(l):\n",
    "    for i in l:\n",
    "        if i==4:\n",
    "            break\n",
    "        print(i)"
   ]
  },
  {
   "cell_type": "code",
   "execution_count": 89,
   "id": "69309f7d-c498-4fe8-92e1-56b787aee8fc",
   "metadata": {},
   "outputs": [
    {
     "name": "stdout",
     "output_type": "stream",
     "text": [
      "1\n",
      "2\n",
      "3\n"
     ]
    }
   ],
   "source": [
    "new_num(l)"
   ]
  },
  {
   "cell_type": "code",
   "execution_count": 93,
   "id": "815bdfa3-a503-4712-a200-45ffac23f3f6",
   "metadata": {},
   "outputs": [],
   "source": [
    "def add(a,b):\n",
    "    pass\n",
    "add(4,5)    "
   ]
  },
  {
   "cell_type": "code",
   "execution_count": 23,
   "id": "84cc5b3d-5d4c-4301-a24d-d961f6a065b1",
   "metadata": {},
   "outputs": [],
   "source": [
    "l1=[]\n",
    "for i in l:\n",
    "    if type(i)==str:\n",
    "        l1.append(i)"
   ]
  },
  {
   "cell_type": "code",
   "execution_count": 25,
   "id": "fb858ac0-ad51-4743-89ac-6b66e5406b65",
   "metadata": {},
   "outputs": [
    {
     "name": "stdout",
     "output_type": "stream",
     "text": [
      "1\n",
      "2\n",
      "3\n",
      "4\n",
      "aimnxxt\n"
     ]
    }
   ],
   "source": [
    "for i in l:\n",
    "    if i==\"datascience\":\n",
    "        break\n",
    "    print(i)"
   ]
  },
  {
   "cell_type": "code",
   "execution_count": 37,
   "id": "e9855970-e139-476e-837e-5a57cf190948",
   "metadata": {},
   "outputs": [
    {
     "name": "stdout",
     "output_type": "stream",
     "text": [
      "1\n",
      "2\n",
      "3\n",
      "4\n",
      "aimnxxt\n",
      "datascience\n"
     ]
    }
   ],
   "source": [
    "for i in l:\n",
    "    if i is True:\n",
    "        break\n",
    "    print(i)    "
   ]
  },
  {
   "cell_type": "code",
   "execution_count": 99,
   "id": "586d87c8-4f80-4d75-b92e-aeceb317e50d",
   "metadata": {},
   "outputs": [],
   "source": [
    "def list_sum(numbers):\n",
    "    sum=0\n",
    "    for i in numbers:\n",
    "        sum+=i\n",
    "    return sum    "
   ]
  },
  {
   "cell_type": "code",
   "execution_count": 101,
   "id": "9a7b1595-3875-4630-bf92-056499a85a38",
   "metadata": {},
   "outputs": [
    {
     "name": "stdout",
     "output_type": "stream",
     "text": [
      "163\n"
     ]
    }
   ],
   "source": [
    "numbers=[1,2,3,4,5,24,46,78]\n",
    "print(list_sum(numbers))"
   ]
  },
  {
   "cell_type": "code",
   "execution_count": 109,
   "id": "a9038c29-a7e3-40da-9dd6-84742b62d31a",
   "metadata": {},
   "outputs": [
    {
     "name": "stdout",
     "output_type": "stream",
     "text": [
      "[2, 4, 24, 46, 78]\n"
     ]
    }
   ],
   "source": [
    "l1=[]\n",
    "for i in numbers:\n",
    "    if i%2==0:\n",
    "        l1.append(i)\n",
    "print(l1)    "
   ]
  },
  {
   "cell_type": "code",
   "execution_count": 119,
   "id": "9cbe33c0-3ab6-4cb0-b124-14077fa1128c",
   "metadata": {},
   "outputs": [
    {
     "name": "stdout",
     "output_type": "stream",
     "text": [
      "2\n",
      "4\n",
      "24\n",
      "46\n",
      "78\n"
     ]
    }
   ],
   "source": [
    "numbers=[1,2,3,4,5,24,46,78]\n",
    "def even(lst):\n",
    "    for i in lst:\n",
    "        if i%2==0:\n",
    "            print(i)\n",
    "even(numbers)            "
   ]
  },
  {
   "cell_type": "code",
   "execution_count": 125,
   "id": "c616d7bc-f508-4ae7-a31b-f89a3f1da04a",
   "metadata": {},
   "outputs": [
    {
     "data": {
      "text/plain": [
       "150"
      ]
     },
     "execution_count": 125,
     "metadata": {},
     "output_type": "execute_result"
    }
   ],
   "source": [
    "def eve_sum(lst):\n",
    "    sum=0\n",
    "    for i in lst:\n",
    "        if i%2==0:\n",
    "            sum+=i\n",
    "    return sum  \n",
    "eve_sum([2,5,4,8,90,46])"
   ]
  },
  {
   "cell_type": "code",
   "execution_count": 129,
   "id": "af77eee5-5441-48f8-83d9-dd4c5e6143b9",
   "metadata": {
    "scrolled": true
   },
   "outputs": [
    {
     "data": {
      "text/plain": [
       "[2, 4, 6]"
      ]
     },
     "execution_count": 129,
     "metadata": {},
     "output_type": "execute_result"
    }
   ],
   "source": [
    "def get_eve_num(lst):\n",
    "    eve_num=[]\n",
    "    for num in lst:\n",
    "        if num%2==0:\n",
    "            eve_num.append(num)\n",
    "    return eve_num\n",
    "get_eve_num([1,2,3,4,5,6,7])"
   ]
  },
  {
   "cell_type": "code",
   "execution_count": 131,
   "id": "ee5abd40-48fa-481b-8097-ea4104a23e6b",
   "metadata": {},
   "outputs": [
    {
     "data": {
      "text/plain": [
       "[3, 5, 7, 9, 13, 15]"
      ]
     },
     "execution_count": 131,
     "metadata": {},
     "output_type": "execute_result"
    }
   ],
   "source": [
    "def get_odd_num(lst):\n",
    "    odd_num=[]\n",
    "    for num in lst:\n",
    "        if num%2!=0:\n",
    "            odd_num.append(num)\n",
    "    return odd_num\n",
    "get_odd_num([2,3,4,5,6,7,8,9,13,15])"
   ]
  },
  {
   "cell_type": "code",
   "execution_count": 1,
   "id": "569406b0-203d-43eb-b3a8-4e4b1d6ab718",
   "metadata": {},
   "outputs": [
    {
     "data": {
      "text/plain": [
       "['ML', 'CN']"
      ]
     },
     "execution_count": 1,
     "metadata": {},
     "output_type": "execute_result"
    }
   ],
   "source": [
    "def tes(*a):\n",
    "    l=[]\n",
    "    for i in a:\n",
    "        if type(i)==str:\n",
    "            l.append(i)\n",
    "    return l\n",
    "tes(4,5,6,53.2,65.3,[1,2,3,4],(2,4,5,6),\"ML\",\"CN\") "
   ]
  },
  {
   "cell_type": "code",
   "execution_count": 7,
   "id": "7df74d0e-a82f-478a-9046-36f5997ec31a",
   "metadata": {},
   "outputs": [
    {
     "data": {
      "text/plain": [
       "{'b': 4, 'c': 5, 'd': 6, 'e': 6, 'n': [3, 4, 45, 5, 6, 6, 6]}"
      ]
     },
     "execution_count": 7,
     "metadata": {},
     "output_type": "execute_result"
    }
   ],
   "source": [
    "def test8(**aim):\n",
    "    return aim\n",
    "test8(b=4,c=5,d=6,e=6,n=[3,4,45,5,6,6,6])    "
   ]
  },
  {
   "cell_type": "code",
   "execution_count": 23,
   "id": "5ac3bd7b-eb0a-4aac-a9fd-f00fa0e9825d",
   "metadata": {},
   "outputs": [
    {
     "data": {
      "text/plain": [
       "dict_keys(['b', 'c', 'd', 'e', 'n'])"
      ]
     },
     "execution_count": 23,
     "metadata": {},
     "output_type": "execute_result"
    }
   ],
   "source": [
    "def test8(**aim):\n",
    "        return aim.keys()\n",
    "test8(b=4,c=5,d=6,e=6,n=[3,4,45,5,6,6,6])  "
   ]
  },
  {
   "cell_type": "code",
   "execution_count": 25,
   "id": "ca7f0d8c-572a-47e4-9978-543b6493b0d2",
   "metadata": {},
   "outputs": [
    {
     "data": {
      "text/plain": [
       "['b', 'c', 'd', 'e', 'n']"
      ]
     },
     "execution_count": 25,
     "metadata": {},
     "output_type": "execute_result"
    }
   ],
   "source": [
    "def test8(**aim):\n",
    "        return list(aim.keys())\n",
    "test8(b=4,c=5,d=6,e=6,n=[3,4,45,5,6,6,6]) "
   ]
  },
  {
   "cell_type": "code",
   "execution_count": 27,
   "id": "9b836aa0-98b0-4350-875a-7636466928f6",
   "metadata": {},
   "outputs": [
    {
     "data": {
      "text/plain": [
       "[('b', 4), ('c', 5), ('d', 6), ('e', 6), ('n', [3, 4, 45, 5, 6, 6, 6])]"
      ]
     },
     "execution_count": 27,
     "metadata": {},
     "output_type": "execute_result"
    }
   ],
   "source": [
    "def test8(**aim):\n",
    "        return list(aim.items())\n",
    "test8(b=4,c=5,d=6,e=6,n=[3,4,45,5,6,6,6]) "
   ]
  },
  {
   "cell_type": "code",
   "execution_count": 59,
   "id": "39174766-577f-4fbc-a1c8-55f78a7f8985",
   "metadata": {},
   "outputs": [
    {
     "data": {
      "text/plain": [
       "['aimnxt']"
      ]
     },
     "execution_count": 59,
     "metadata": {},
     "output_type": "execute_result"
    }
   ],
   "source": [
    "def test8(**d):\n",
    "    l=[]\n",
    "    for value in d.values():\n",
    "        if type(value)==str:\n",
    "            l.append(value)\n",
    "    return l\n",
    "test8(b=4,c=5,d=6,e=\"aimnxt\",n=[3,4,45,5,6,6,6]) "
   ]
  },
  {
   "cell_type": "code",
   "execution_count": 65,
   "id": "5a50429b-6eca-440b-b8b1-52e8a6d1ebf1",
   "metadata": {},
   "outputs": [
    {
     "data": {
      "text/plain": [
       "[4, 5, 6]"
      ]
     },
     "execution_count": 65,
     "metadata": {},
     "output_type": "execute_result"
    }
   ],
   "source": [
    "def test8(**d):\n",
    "    l=[]\n",
    "    for i in d.values():\n",
    "        if type(i)==int:\n",
    "            l.append(i)\n",
    "    return l\n",
    "test8(b=4,c=5,d=6,e=\"aimnxt\",n=[3,4,45,5,6,6,6])     "
   ]
  },
  {
   "cell_type": "code",
   "execution_count": 70,
   "id": "1490ac12-cbc7-4eab-b6bc-ab32b61ef0ac",
   "metadata": {},
   "outputs": [
    {
     "data": {
      "text/plain": [
       "3360"
      ]
     },
     "execution_count": 70,
     "metadata": {},
     "output_type": "execute_result"
    }
   ],
   "source": [
    "def test(*m):\n",
    "    n=1\n",
    "    for i in m:\n",
    "        if type(i)==int:\n",
    "            n*=i\n",
    "    return n\n",
    "test(1,3,4,5,7,8)"
   ]
  },
  {
   "cell_type": "code",
   "execution_count": 74,
   "id": "6d221c3c-17ef-48b1-bec2-9c5a28b2365a",
   "metadata": {},
   "outputs": [
    {
     "data": {
      "text/plain": [
       "((8, 9, 6, 5, 4, 3), {'a': 2, 'b': 0, 'c': 9})"
      ]
     },
     "execution_count": 74,
     "metadata": {},
     "output_type": "execute_result"
    }
   ],
   "source": [
    "def test9(*m,**s):\n",
    "    return m,s\n",
    "test9(8,9,6,5,4,3,a=2,b=0,c=9)    "
   ]
  },
  {
   "cell_type": "code",
   "execution_count": 76,
   "id": "56c2d506-6356-46f5-b580-1c8b55bc9c5d",
   "metadata": {},
   "outputs": [
    {
     "data": {
      "text/plain": [
       "28"
      ]
     },
     "execution_count": 76,
     "metadata": {},
     "output_type": "execute_result"
    }
   ],
   "source": [
    "def test(*m):\n",
    "    n=0\n",
    "    for i in m:\n",
    "        if type(i)==int:\n",
    "            n+=i\n",
    "    return n\n",
    "test(1,3,4,5,7,8)"
   ]
  },
  {
   "cell_type": "code",
   "execution_count": null,
   "id": "834a8afe-b636-4842-8da9-bfafb475799e",
   "metadata": {},
   "outputs": [],
   "source": []
  }
 ],
 "metadata": {
  "kernelspec": {
   "display_name": "Python [conda env:base] *",
   "language": "python",
   "name": "conda-base-py"
  },
  "language_info": {
   "codemirror_mode": {
    "name": "ipython",
    "version": 3
   },
   "file_extension": ".py",
   "mimetype": "text/x-python",
   "name": "python",
   "nbconvert_exporter": "python",
   "pygments_lexer": "ipython3",
   "version": "3.12.7"
  }
 },
 "nbformat": 4,
 "nbformat_minor": 5
}
